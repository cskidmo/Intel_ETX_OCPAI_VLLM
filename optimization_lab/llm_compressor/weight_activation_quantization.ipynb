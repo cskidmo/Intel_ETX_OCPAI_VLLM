{
 "cells": [
  {
   "cell_type": "markdown",
   "id": "7854d876-3cd1-4a18-bf9c-4c947166fd88",
   "metadata": {},
   "source": [
    "# Quantization of `granite-3.3-2b-instruct` model"
   ]
  },
  {
   "cell_type": "markdown",
   "id": "c1b258eb-3223-4594-860e-daae9d3a5c1d",
   "metadata": {},
   "source": [
    "Recall that our overall solution uses the quantized version of the model `granite-3.3-2b-instruct`. In this lab, we will be taking in the base model `granite-3.3-2b-instruct` and quantizing it to `W4A16` - which is fixed-point integer (INT) quantization scheme for weights and floating‑point for activations - to provide both memory savings (weight - INT4) and inference acceleration (activations - BF16) with `vLLM`"
   ]
  },
  {
   "cell_type": "markdown",
   "id": "7800f926-dc4c-42a1-84a7-03be28d7463f",
   "metadata": {},
   "source": [
    "**Note**: `W4A16` computation is supported on Nvidia GPUs with compute capability > 7.5 (Turing, Ampere, Ada Lovelace, Hopper).\n",
    "\n",
    "**Note**: The steps here will take around 20-30 minutes, depending on the connectivity. The most time consuming steps are the installation of llmcompressor (up to 5 mins) and the quantization step (which can take more anywhere between 10-15 mins)"
   ]
  },
  {
   "cell_type": "markdown",
   "id": "eef99081-3a8b-486c-9882-deb387c83850",
   "metadata": {},
   "source": [
    "## Setting up llm-compressor first"
   ]
  },
  {
   "cell_type": "markdown",
   "id": "53691745",
   "metadata": {},
   "source": [
    "Installing `llmcompressor` may take a minute, depending on the bandwith available. Do note the versions of `transformer` library we would be using. There is a known issue (*torch.fx.proxy.TraceError: symbolically traced variables cannot be used as inputs to control flow*) with the usage of the latest transformer library (version `4.53.2` as of July 17, 2025) in combination with the latest version of llmcompressor (version `0.6.0`)."
   ]
  },
  {
   "cell_type": "code",
   "execution_count": 9,
   "id": "5037b244-10f5-4aac-981a-3a07864e0e42",
   "metadata": {},
   "outputs": [
    {
     "name": "stdout",
     "output_type": "stream",
     "text": [
      "\n",
      "\u001b[1m[\u001b[0m\u001b[34;49mnotice\u001b[0m\u001b[1;39;49m]\u001b[0m\u001b[39;49m A new release of pip is available: \u001b[0m\u001b[31;49m24.2\u001b[0m\u001b[39;49m -> \u001b[0m\u001b[32;49m25.1.1\u001b[0m\n",
      "\u001b[1m[\u001b[0m\u001b[34;49mnotice\u001b[0m\u001b[1;39;49m]\u001b[0m\u001b[39;49m To update, run: \u001b[0m\u001b[32;49mpip install --upgrade pip\u001b[0m\n"
     ]
    }
   ],
   "source": [
    "!pip install -q llmcompressor==0.6.0 transformers==4.52.2"
   ]
  },
  {
   "cell_type": "markdown",
   "id": "1c484403-9fd6-489d-9912-8e7153c97749",
   "metadata": {},
   "source": [
    "Let's make sure we have installed the right versions installed"
   ]
  },
  {
   "cell_type": "code",
   "execution_count": 10,
   "id": "c2e9e9b1-1e04-4c1c-be37-617c489b2678",
   "metadata": {},
   "outputs": [
    {
     "name": "stdout",
     "output_type": "stream",
     "text": [
      "llmcompressor                     0.6.0\n"
     ]
    }
   ],
   "source": [
    "!pip list | grep llmcompressor"
   ]
  },
  {
   "cell_type": "code",
   "execution_count": 11,
   "id": "e405cb5c-843d-4f12-8fbc-fa1e8db4f7bd",
   "metadata": {},
   "outputs": [
    {
     "name": "stdout",
     "output_type": "stream",
     "text": [
      "transformers                      4.52.2\n"
     ]
    }
   ],
   "source": [
    "!pip list | grep transformer"
   ]
  },
  {
   "cell_type": "markdown",
   "id": "cd24bf14-c77b-4f07-851d-d70cc61646eb",
   "metadata": {},
   "source": [
    "## Let' start with the quantization of the model"
   ]
  },
  {
   "cell_type": "markdown",
   "id": "55327b5b-b309-4c23-a245-70d78d0955fc",
   "metadata": {},
   "source": [
    "There are 5 steps:\n",
    "1. Loading the model\n",
    "2. Preparing the calibration data\n",
    "3. Applying quantization\n",
    "4. Evaluation of accuracy in vLLM\n",
    "5. Uploading the model to S3 (MinIO)"
   ]
  },
  {
   "cell_type": "markdown",
   "id": "9aad553f-1f6f-4583-b280-6205930debe8",
   "metadata": {},
   "source": [
    "### Loading the model"
   ]
  },
  {
   "cell_type": "markdown",
   "id": "99299f19",
   "metadata": {},
   "source": [
    "Load the model using AutoModelForCausalLM for handling quantized saving and loading. The model can be loaded from HuggingFace directly as follows:"
   ]
  },
  {
   "cell_type": "code",
   "execution_count": 12,
   "id": "13ad8b7b-bb67-4d02-8cce-f80de7462f55",
   "metadata": {},
   "outputs": [
    {
     "data": {
      "application/vnd.jupyter.widget-view+json": {
       "model_id": "c766bc8e7ae04d4c8808faa4c4ac5d0d",
       "version_major": 2,
       "version_minor": 0
      },
      "text/plain": [
       "Loading checkpoint shards:   0%|          | 0/2 [00:00<?, ?it/s]"
      ]
     },
     "metadata": {},
     "output_type": "display_data"
    }
   ],
   "source": [
    "from transformers import AutoTokenizer, AutoModelForCausalLM\n",
    "\n",
    "MODEL_ID = \"ibm-granite/granite-3.2-2b-instruct\"\n",
    "model = AutoModelForCausalLM.from_pretrained(\n",
    "    MODEL_ID, device_map=\"auto\", torch_dtype=\"auto\",\n",
    ")\n",
    "tokenizer = AutoTokenizer.from_pretrained(MODEL_ID)"
   ]
  },
  {
   "cell_type": "markdown",
   "id": "9742346d-f226-4462-871a-bf4008a04091",
   "metadata": {},
   "source": [
    "### Prepare calibration data"
   ]
  },
  {
   "cell_type": "markdown",
   "id": "83bdaadd-11b8-4627-be3d-3a1ffa4c9f88",
   "metadata": {},
   "source": [
    "Prepare the calibration data. When quantizing weigths of a model to int4 using GPTQ, we need some sample data to run the GPTQ algorithms. As a result, it is very important to use calibration data that closely matches the type of data used in our deployment. If you have fine-tuned a model, using a sample of your training data is a good idea.\n",
    "\n",
    "In our case, we are quantizing an Instruction tuned generic model, so we will use the ultrachat dataset. Some best practices include:\n",
    "- 512 samples is a good place to start (increase if accuracy drops). We are going to use 256 to speed up the process.\n",
    "- 2048 sequence length is a good place to start\n",
    "- Use the chat template or instrucion template that the model is trained with\n"
   ]
  },
  {
   "cell_type": "code",
   "execution_count": 23,
   "id": "c9c3b1c6-f408-4ec5-81a0-3e8ae8019070",
   "metadata": {},
   "outputs": [],
   "source": [
    "from datasets import load_dataset\n",
    "\n",
    "NUM_CALIBRATION_SAMPLES = 512  # 1024\n",
    "DATASET_ID = \"neuralmagic/LLM_compression_calibration\"\n",
    "DATASET_SPLIT = \"train\"\n",
    "\n",
    "# Load dataset.\n",
    "ds = load_dataset(DATASET_ID, split=DATASET_SPLIT)\n",
    "ds = ds.shuffle(seed=42).select(range(NUM_CALIBRATION_SAMPLES))\n",
    "\n",
    "# Preprocess the data into the format the model is trained with.\n",
    "def preprocess(example):\n",
    "    return {\"text\": example[\"text\"]}\n",
    "ds = ds.map(preprocess)\n",
    "\n",
    "# Tokenize the data\n",
    "def tokenize(sample):\n",
    "    return tokenizer(\n",
    "        sample[\"text\"],\n",
    "        padding=False,\n",
    "        truncation=False,\n",
    "        add_special_tokens=True,\n",
    "    )\n",
    "ds = ds.map(tokenize, remove_columns=ds.column_names)"
   ]
  },
  {
   "cell_type": "markdown",
   "id": "7f2c889b-b827-4f8d-be34-2cc05bba48f1",
   "metadata": {},
   "source": [
    "With the dataset ready, we will now apply quantization.\n",
    "\n",
    "We first select the quantization algorithm. For W4A16, we want to:\n",
    "- Run SmoothQuant to make the activations easier to quantize\n",
    "- Quantize the weights to 4 bits with channelwise scales using GPTQ\n",
    "- Quantize the activations with dynamic per token strategy"
   ]
  },
  {
   "cell_type": "markdown",
   "id": "b1732929",
   "metadata": {},
   "source": [
    "**Note**: The quantization step takes a long time to complete due to the callibration requirements -- around 10 - 15 mins, depending on the GPU."
   ]
  },
  {
   "cell_type": "markdown",
   "id": "9593615d-db1d-4b80-bd94-93868a45cd01",
   "metadata": {},
   "source": [
    "### Imports and definitions"
   ]
  },
  {
   "cell_type": "markdown",
   "id": "4da32a22-49bd-4480-b0e0-b0e052190ce0",
   "metadata": {},
   "source": [
    "**GPTQModifier**: Applies Gentle Quantization (GPTQ) for weight-only quantization.\n",
    "\n",
    "**SmoothQuantModifier**: Prepares model activations for smoother quantization by scaling internal activations and weights.\n",
    "\n",
    "**oneshot**: High-level API that applies your quantization recipe in one go."
   ]
  },
  {
   "cell_type": "code",
   "execution_count": 24,
   "id": "94c06b7f-aedb-4e06-98cd-16aed3abd046",
   "metadata": {},
   "outputs": [],
   "source": [
    "from llmcompressor.modifiers.quantization import GPTQModifier\n",
    "from llmcompressor.transformers import oneshot\n",
    "from llmcompressor.modifiers.smoothquant import SmoothQuantModifier"
   ]
  },
  {
   "cell_type": "markdown",
   "id": "556fec70-e27b-4bab-8e6b-f6268636c5d9",
   "metadata": {},
   "source": [
    "### Hyperparameters"
   ]
  },
  {
   "cell_type": "markdown",
   "id": "12866bd2-e08a-419c-98c7-ced3e5853baa",
   "metadata": {},
   "source": [
    "Rationale\n",
    "- **DAMPENING_FRAC=0.1** gently prevents large Hessian-derived updates during quantization.\n",
    "- **OBSERVER=\"mse\"** measures quantization error by squared deviations, yielding well-rounded scales.\n",
    "- **GROUP_SIZE=128** determines group size for per-channel quantization; typical default usage."
   ]
  },
  {
   "cell_type": "code",
   "execution_count": 25,
   "id": "a35cf573-dc89-4b5d-9414-aad06992c2a4",
   "metadata": {},
   "outputs": [],
   "source": [
    "DAMPENING_FRAC = 0.1  # tapering adjustment to prevent extreme weight updates\n",
    "OBSERVER = \"mse\"  # denotes minmax - quantization layout based on mean‐squared‐error\n",
    "GROUP_SIZE = 128  # # per-channel grouping width for quantization"
   ]
  },
  {
   "cell_type": "markdown",
   "id": "f9cb39b8-9fe3-4a7e-adba-9a03ec033344",
   "metadata": {},
   "source": [
    "### Layer Mappings & Ignoring Heads"
   ]
  },
  {
   "cell_type": "markdown",
   "id": "422d76f3-61a5-474f-8b83-3005199b7122",
   "metadata": {},
   "source": [
    "Logic\n",
    "\n",
    "- **ignore=[\"lm_head\"]** skips quantization on the output layer to preserve final logits and maintain accuracy.\n",
    "- mappings link groups of linear projections (q, k, v, gating, up/down projections) with layernorm blocks—SmoothQuant uses these to shift and normalize activations across paired layers for better quant distribution."
   ]
  },
  {
   "cell_type": "code",
   "execution_count": 26,
   "id": "2f4604b8-b311-428f-838e-a50bfc041b7d",
   "metadata": {},
   "outputs": [],
   "source": [
    "ignore=[\"lm_head\"]\n",
    "mappings=[\n",
    "    [[\"re:.*q_proj\", \"re:.*k_proj\", \"re:.*v_proj\"], \"re:.*input_layernorm\"],\n",
    "    [[\"re:.*gate_proj\", \"re:.*up_proj\"], \"re:.*post_attention_layernorm\"],\n",
    "    [[\"re:.*down_proj\"], \"re:.*up_proj\"]\n",
    "]"
   ]
  },
  {
   "cell_type": "markdown",
   "id": "e8918c2e-d6f1-4e31-aa56-57b5a7c3f1df",
   "metadata": {},
   "source": [
    "### Recipe Definition"
   ]
  },
  {
   "cell_type": "markdown",
   "id": "b291ad00-d881-4efb-bba5-2b20d3b28a3d",
   "metadata": {},
   "source": [
    "**Workflow**\n",
    "\n",
    "- **SmoothQuantModifier**: Re-scales activations across paired layers before quantization to reduce outliers (smoothing_strength=0.7, high smoothing but not extreme).\n",
    "- **GPTQModifier**: Performs Weight-Only quantization (4-bit weights, 16-bit activations) on all Linear layers except those ignored, applying your dampening and observer settings. Scheme \"W4A16\" reduces model size while maintaining decent accuracy. "
   ]
  },
  {
   "cell_type": "code",
   "execution_count": 27,
   "id": "1abec4d4-a2a8-4e98-a813-b24e0aa8dc59",
   "metadata": {},
   "outputs": [],
   "source": [
    "recipe = [\n",
    "    SmoothQuantModifier(smoothing_strength=0.7, ignore=ignore, mappings=mappings),\n",
    "    GPTQModifier(\n",
    "        targets=[\"Linear\"],\n",
    "        ignore=ignore,\n",
    "        scheme=\"W4A16\",\n",
    "        dampening_frac=DAMPENING_FRAC,\n",
    "        observer=OBSERVER,\n",
    "    )\n",
    "]"
   ]
  },
  {
   "cell_type": "markdown",
   "id": "2c8d0ba1-ca11-406b-b232-2d6edc17fcc7",
   "metadata": {},
   "source": [
    "### Quantize in One Shot"
   ]
  },
  {
   "cell_type": "markdown",
   "id": "96817063-9eb7-4d4b-8ed9-19673f74967b",
   "metadata": {},
   "source": [
    "**How It Works**\n",
    "\n",
    "- Feeds dataset (calibration set) into your model to gather activation statistics.\n",
    "- Applies SmoothQuant rescaling followed by GPTQ quantization in a sequential per-layer manner.\n",
    "- **max_seq_length=8196** ensures large context coverage for calibration."
   ]
  },
  {
   "cell_type": "code",
   "execution_count": 28,
   "id": "62bf36ae-0774-4cee-8f99-c367c24303d4",
   "metadata": {},
   "outputs": [
    {
     "name": "stderr",
     "output_type": "stream",
     "text": [
      "/tmp/ipykernel_2728/180673739.py:1: DeprecationWarning: `from llmcompressor.transformers import oneshot` is deprecated, please use `from llmcompressor import oneshot`.\n",
      "  oneshot(\n"
     ]
    },
    {
     "name": "stdout",
     "output_type": "stream",
     "text": [
      "2025-07-17T04:25:03.079329+0000 | reset | INFO - Compression lifecycle reset\n",
      "2025-07-17T04:25:03.082644+0000 | from_modifiers | INFO - Creating recipe from modifiers\n",
      "2025-07-17T04:25:04.425764+0000 | initialize | INFO - Compression lifecycle initialized for 1 modifiers\n",
      "2025-07-17T04:25:04.426533+0000 | IndependentPipeline | INFO - Inferred `SequentialPipeline` for `SmoothQuantModifier`\n"
     ]
    },
    {
     "name": "stderr",
     "output_type": "stream",
     "text": [
      "Preparing cache: 100%|██████████| 512/512 [00:00<00:00, 1942.94it/s]\n",
      "(1/41): Calibrating: 100%|██████████| 512/512 [00:01<00:00, 303.10it/s]"
     ]
    },
    {
     "name": "stdout",
     "output_type": "stream",
     "text": [
      "2025-07-17T04:25:07.961550+0000 | _apply_smoothing | INFO - Smoothing with model.layers.0.input_layernorm\n",
      "2025-07-17T04:25:08.002475+0000 | _apply_smoothing | INFO - Smoothing with model.layers.0.post_attention_layernorm\n",
      "2025-07-17T04:25:08.004240+0000 | _apply_smoothing | INFO - Smoothing with model.layers.0.mlp.up_proj\n"
     ]
    },
    {
     "name": "stderr",
     "output_type": "stream",
     "text": [
      "\n",
      "(1/41): Propagating: 100%|██████████| 512/512 [00:01<00:00, 289.82it/s]\n",
      "(2/41): Calibrating: 100%|██████████| 512/512 [00:01<00:00, 463.90it/s]"
     ]
    },
    {
     "name": "stdout",
     "output_type": "stream",
     "text": [
      "2025-07-17T04:25:11.013296+0000 | _apply_smoothing | INFO - Smoothing with model.layers.1.input_layernorm\n",
      "2025-07-17T04:25:11.014804+0000 | _apply_smoothing | INFO - Smoothing with model.layers.1.post_attention_layernorm\n",
      "2025-07-17T04:25:11.016318+0000 | _apply_smoothing | INFO - Smoothing with model.layers.1.mlp.up_proj\n"
     ]
    },
    {
     "name": "stderr",
     "output_type": "stream",
     "text": [
      "\n",
      "(2/41): Propagating: 100%|██████████| 512/512 [00:01<00:00, 456.78it/s]\n",
      "(3/41): Calibrating: 100%|██████████| 512/512 [00:01<00:00, 463.29it/s]"
     ]
    },
    {
     "name": "stdout",
     "output_type": "stream",
     "text": [
      "2025-07-17T04:25:13.272626+0000 | _apply_smoothing | INFO - Smoothing with model.layers.2.input_layernorm\n",
      "2025-07-17T04:25:13.274251+0000 | _apply_smoothing | INFO - Smoothing with model.layers.2.post_attention_layernorm\n",
      "2025-07-17T04:25:13.275625+0000 | _apply_smoothing | INFO - Smoothing with model.layers.2.mlp.up_proj\n"
     ]
    },
    {
     "name": "stderr",
     "output_type": "stream",
     "text": [
      "\n",
      "(3/41): Propagating: 100%|██████████| 512/512 [00:01<00:00, 466.05it/s]\n",
      "(4/41): Calibrating: 100%|██████████| 512/512 [00:01<00:00, 466.20it/s]"
     ]
    },
    {
     "name": "stdout",
     "output_type": "stream",
     "text": [
      "2025-07-17T04:25:15.501407+0000 | _apply_smoothing | INFO - Smoothing with model.layers.3.input_layernorm\n",
      "2025-07-17T04:25:15.503257+0000 | _apply_smoothing | INFO - Smoothing with model.layers.3.post_attention_layernorm\n",
      "2025-07-17T04:25:15.504743+0000 | _apply_smoothing | INFO - Smoothing with model.layers.3.mlp.up_proj\n"
     ]
    },
    {
     "name": "stderr",
     "output_type": "stream",
     "text": [
      "\n",
      "(4/41): Propagating: 100%|██████████| 512/512 [00:01<00:00, 464.76it/s]\n",
      "(5/41): Calibrating: 100%|██████████| 512/512 [00:01<00:00, 462.54it/s]"
     ]
    },
    {
     "name": "stdout",
     "output_type": "stream",
     "text": [
      "2025-07-17T04:25:17.742049+0000 | _apply_smoothing | INFO - Smoothing with model.layers.4.input_layernorm\n",
      "2025-07-17T04:25:17.743592+0000 | _apply_smoothing | INFO - Smoothing with model.layers.4.post_attention_layernorm\n",
      "2025-07-17T04:25:17.744826+0000 | _apply_smoothing | INFO - Smoothing with model.layers.4.mlp.up_proj\n"
     ]
    },
    {
     "name": "stderr",
     "output_type": "stream",
     "text": [
      "\n",
      "(5/41): Propagating: 100%|██████████| 512/512 [00:01<00:00, 465.94it/s]\n",
      "(6/41): Calibrating: 100%|██████████| 512/512 [00:01<00:00, 461.57it/s]"
     ]
    },
    {
     "name": "stdout",
     "output_type": "stream",
     "text": [
      "2025-07-17T04:25:19.983044+0000 | _apply_smoothing | INFO - Smoothing with model.layers.5.input_layernorm\n",
      "2025-07-17T04:25:19.984626+0000 | _apply_smoothing | INFO - Smoothing with model.layers.5.post_attention_layernorm\n",
      "2025-07-17T04:25:19.986004+0000 | _apply_smoothing | INFO - Smoothing with model.layers.5.mlp.up_proj\n"
     ]
    },
    {
     "name": "stderr",
     "output_type": "stream",
     "text": [
      "\n",
      "(6/41): Propagating: 100%|██████████| 512/512 [00:01<00:00, 463.31it/s]\n",
      "(7/41): Calibrating: 100%|██████████| 512/512 [00:01<00:00, 460.95it/s]"
     ]
    },
    {
     "name": "stdout",
     "output_type": "stream",
     "text": [
      "2025-07-17T04:25:22.230511+0000 | _apply_smoothing | INFO - Smoothing with model.layers.6.input_layernorm\n",
      "2025-07-17T04:25:22.232120+0000 | _apply_smoothing | INFO - Smoothing with model.layers.6.post_attention_layernorm\n"
     ]
    },
    {
     "name": "stderr",
     "output_type": "stream",
     "text": [
      "\n"
     ]
    },
    {
     "name": "stdout",
     "output_type": "stream",
     "text": [
      "2025-07-17T04:25:22.233585+0000 | _apply_smoothing | INFO - Smoothing with model.layers.6.mlp.up_proj\n"
     ]
    },
    {
     "name": "stderr",
     "output_type": "stream",
     "text": [
      "(7/41): Propagating: 100%|██████████| 512/512 [00:01<00:00, 458.34it/s]\n",
      "(8/41): Calibrating: 100%|██████████| 512/512 [00:01<00:00, 452.71it/s]"
     ]
    },
    {
     "name": "stdout",
     "output_type": "stream",
     "text": [
      "2025-07-17T04:25:24.513949+0000 | _apply_smoothing | INFO - Smoothing with model.layers.7.input_layernorm\n",
      "2025-07-17T04:25:24.515558+0000 | _apply_smoothing | INFO - Smoothing with model.layers.7.post_attention_layernorm\n",
      "2025-07-17T04:25:24.516937+0000 | _apply_smoothing | INFO - Smoothing with model.layers.7.mlp.up_proj\n"
     ]
    },
    {
     "name": "stderr",
     "output_type": "stream",
     "text": [
      "\n",
      "(8/41): Propagating: 100%|██████████| 512/512 [00:01<00:00, 463.86it/s]\n",
      "(9/41): Calibrating: 100%|██████████| 512/512 [00:01<00:00, 460.47it/s]"
     ]
    },
    {
     "name": "stdout",
     "output_type": "stream",
     "text": [
      "2025-07-17T04:25:26.771510+0000 | _apply_smoothing | INFO - Smoothing with model.layers.8.input_layernorm\n",
      "2025-07-17T04:25:26.772853+0000 | _apply_smoothing | INFO - Smoothing with model.layers.8.post_attention_layernorm\n",
      "2025-07-17T04:25:26.774284+0000 | _apply_smoothing | INFO - Smoothing with model.layers.8.mlp.up_proj\n"
     ]
    },
    {
     "name": "stderr",
     "output_type": "stream",
     "text": [
      "\n",
      "(9/41): Propagating: 100%|██████████| 512/512 [00:01<00:00, 463.47it/s]\n",
      "(10/41): Calibrating: 100%|██████████| 512/512 [00:01<00:00, 463.24it/s]"
     ]
    },
    {
     "name": "stdout",
     "output_type": "stream",
     "text": [
      "2025-07-17T04:25:29.034235+0000 | _apply_smoothing | INFO - Smoothing with model.layers.9.input_layernorm\n",
      "2025-07-17T04:25:29.035810+0000 | _apply_smoothing | INFO - Smoothing with model.layers.9.post_attention_layernorm\n",
      "2025-07-17T04:25:29.037238+0000 | _apply_smoothing | INFO - Smoothing with model.layers.9.mlp.up_proj\n"
     ]
    },
    {
     "name": "stderr",
     "output_type": "stream",
     "text": [
      "\n",
      "(10/41): Propagating: 100%|██████████| 512/512 [00:01<00:00, 470.35it/s]\n",
      "(11/41): Calibrating: 100%|██████████| 512/512 [00:01<00:00, 462.48it/s]"
     ]
    },
    {
     "name": "stdout",
     "output_type": "stream",
     "text": [
      "2025-07-17T04:25:31.270857+0000 | _apply_smoothing | INFO - Smoothing with model.layers.10.input_layernorm\n",
      "2025-07-17T04:25:31.272577+0000 | _apply_smoothing | INFO - Smoothing with model.layers.10.post_attention_layernorm\n",
      "2025-07-17T04:25:31.273959+0000 | _apply_smoothing | INFO - Smoothing with model.layers.10.mlp.up_proj\n"
     ]
    },
    {
     "name": "stderr",
     "output_type": "stream",
     "text": [
      "\n",
      "(11/41): Propagating: 100%|██████████| 512/512 [00:01<00:00, 461.43it/s]\n",
      "(12/41): Calibrating: 100%|██████████| 512/512 [00:01<00:00, 453.88it/s]"
     ]
    },
    {
     "name": "stdout",
     "output_type": "stream",
     "text": [
      "2025-07-17T04:25:33.555912+0000 | _apply_smoothing | INFO - Smoothing with model.layers.11.input_layernorm\n",
      "2025-07-17T04:25:33.557337+0000 | _apply_smoothing | INFO - Smoothing with model.layers.11.post_attention_layernorm\n",
      "2025-07-17T04:25:33.558636+0000 | _apply_smoothing | INFO - Smoothing with model.layers.11.mlp.up_proj\n"
     ]
    },
    {
     "name": "stderr",
     "output_type": "stream",
     "text": [
      "\n",
      "(12/41): Propagating: 100%|██████████| 512/512 [00:01<00:00, 463.09it/s]\n",
      "(13/41): Calibrating: 100%|██████████| 512/512 [00:01<00:00, 458.06it/s]"
     ]
    },
    {
     "name": "stdout",
     "output_type": "stream",
     "text": [
      "2025-07-17T04:25:35.817930+0000 | _apply_smoothing | INFO - Smoothing with model.layers.12.input_layernorm\n",
      "2025-07-17T04:25:35.819371+0000 | _apply_smoothing | INFO - Smoothing with model.layers.12.post_attention_layernorm\n",
      "2025-07-17T04:25:35.820744+0000 | _apply_smoothing | INFO - Smoothing with model.layers.12.mlp.up_proj\n"
     ]
    },
    {
     "name": "stderr",
     "output_type": "stream",
     "text": [
      "\n",
      "(13/41): Propagating: 100%|██████████| 512/512 [00:01<00:00, 463.12it/s]\n",
      "(14/41): Calibrating: 100%|██████████| 512/512 [00:01<00:00, 457.50it/s]"
     ]
    },
    {
     "name": "stdout",
     "output_type": "stream",
     "text": [
      "2025-07-17T04:25:38.080379+0000 | _apply_smoothing | INFO - Smoothing with model.layers.13.input_layernorm\n",
      "2025-07-17T04:25:38.082140+0000 | _apply_smoothing | INFO - Smoothing with model.layers.13.post_attention_layernorm\n",
      "2025-07-17T04:25:38.083569+0000 | _apply_smoothing | INFO - Smoothing with model.layers.13.mlp.up_proj\n"
     ]
    },
    {
     "name": "stderr",
     "output_type": "stream",
     "text": [
      "\n",
      "(14/41): Propagating: 100%|██████████| 512/512 [00:01<00:00, 466.57it/s]\n",
      "(15/41): Calibrating: 100%|██████████| 512/512 [00:01<00:00, 462.86it/s]"
     ]
    },
    {
     "name": "stdout",
     "output_type": "stream",
     "text": [
      "2025-07-17T04:25:40.323204+0000 | _apply_smoothing | INFO - Smoothing with model.layers.14.input_layernorm\n",
      "2025-07-17T04:25:40.324655+0000 | _apply_smoothing | INFO - Smoothing with model.layers.14.post_attention_layernorm\n",
      "2025-07-17T04:25:40.325999+0000 | _apply_smoothing | INFO - Smoothing with model.layers.14.mlp.up_proj\n"
     ]
    },
    {
     "name": "stderr",
     "output_type": "stream",
     "text": [
      "\n",
      "(15/41): Propagating: 100%|██████████| 512/512 [00:01<00:00, 466.11it/s]\n",
      "(16/41): Calibrating: 100%|██████████| 512/512 [00:01<00:00, 459.91it/s]"
     ]
    },
    {
     "name": "stdout",
     "output_type": "stream",
     "text": [
      "2025-07-17T04:25:42.573695+0000 | _apply_smoothing | INFO - Smoothing with model.layers.15.input_layernorm\n",
      "2025-07-17T04:25:42.575233+0000 | _apply_smoothing | INFO - Smoothing with model.layers.15.post_attention_layernorm\n"
     ]
    },
    {
     "name": "stderr",
     "output_type": "stream",
     "text": [
      "\n"
     ]
    },
    {
     "name": "stdout",
     "output_type": "stream",
     "text": [
      "2025-07-17T04:25:42.576570+0000 | _apply_smoothing | INFO - Smoothing with model.layers.15.mlp.up_proj\n"
     ]
    },
    {
     "name": "stderr",
     "output_type": "stream",
     "text": [
      "(16/41): Propagating: 100%|██████████| 512/512 [00:01<00:00, 464.90it/s]\n",
      "(17/41): Calibrating: 100%|██████████| 512/512 [00:01<00:00, 459.64it/s]"
     ]
    },
    {
     "name": "stdout",
     "output_type": "stream",
     "text": [
      "2025-07-17T04:25:44.829186+0000 | _apply_smoothing | INFO - Smoothing with model.layers.16.input_layernorm\n",
      "2025-07-17T04:25:44.830681+0000 | _apply_smoothing | INFO - Smoothing with model.layers.16.post_attention_layernorm\n",
      "2025-07-17T04:25:44.832026+0000 | _apply_smoothing | INFO - Smoothing with model.layers.16.mlp.up_proj\n"
     ]
    },
    {
     "name": "stderr",
     "output_type": "stream",
     "text": [
      "\n",
      "(17/41): Propagating: 100%|██████████| 512/512 [00:01<00:00, 466.39it/s]\n",
      "(18/41): Calibrating: 100%|██████████| 512/512 [00:01<00:00, 462.74it/s]"
     ]
    },
    {
     "name": "stdout",
     "output_type": "stream",
     "text": [
      "2025-07-17T04:25:47.068090+0000 | _apply_smoothing | INFO - Smoothing with model.layers.17.input_layernorm\n",
      "2025-07-17T04:25:47.069725+0000 | _apply_smoothing | INFO - Smoothing with model.layers.17.post_attention_layernorm\n",
      "2025-07-17T04:25:47.071054+0000 | _apply_smoothing | INFO - Smoothing with model.layers.17.mlp.up_proj\n"
     ]
    },
    {
     "name": "stderr",
     "output_type": "stream",
     "text": [
      "\n",
      "(18/41): Propagating: 100%|██████████| 512/512 [00:01<00:00, 466.56it/s]\n",
      "(19/41): Calibrating: 100%|██████████| 512/512 [00:01<00:00, 461.13it/s]"
     ]
    },
    {
     "name": "stdout",
     "output_type": "stream",
     "text": [
      "2025-07-17T04:25:49.311649+0000 | _apply_smoothing | INFO - Smoothing with model.layers.18.input_layernorm\n",
      "2025-07-17T04:25:49.313101+0000 | _apply_smoothing | INFO - Smoothing with model.layers.18.post_attention_layernorm\n",
      "2025-07-17T04:25:49.314486+0000 | _apply_smoothing | INFO - Smoothing with model.layers.18.mlp.up_proj\n"
     ]
    },
    {
     "name": "stderr",
     "output_type": "stream",
     "text": [
      "\n",
      "(19/41): Propagating: 100%|██████████| 512/512 [00:01<00:00, 464.77it/s]\n",
      "(20/41): Calibrating: 100%|██████████| 512/512 [00:01<00:00, 456.91it/s]"
     ]
    },
    {
     "name": "stdout",
     "output_type": "stream",
     "text": [
      "2025-07-17T04:25:51.575625+0000 | _apply_smoothing | INFO - Smoothing with model.layers.19.input_layernorm\n",
      "2025-07-17T04:25:51.577109+0000 | _apply_smoothing | INFO - Smoothing with model.layers.19.post_attention_layernorm\n",
      "2025-07-17T04:25:51.578320+0000 | _apply_smoothing | INFO - Smoothing with model.layers.19.mlp.up_proj\n"
     ]
    },
    {
     "name": "stderr",
     "output_type": "stream",
     "text": [
      "\n",
      "(20/41): Propagating: 100%|██████████| 512/512 [00:01<00:00, 468.07it/s]\n",
      "(21/41): Calibrating: 100%|██████████| 512/512 [00:01<00:00, 459.68it/s]"
     ]
    },
    {
     "name": "stdout",
     "output_type": "stream",
     "text": [
      "2025-07-17T04:25:53.820805+0000 | _apply_smoothing | INFO - Smoothing with model.layers.20.input_layernorm\n",
      "2025-07-17T04:25:53.822377+0000 | _apply_smoothing | INFO - Smoothing with model.layers.20.post_attention_layernorm\n",
      "2025-07-17T04:25:53.823740+0000 | _apply_smoothing | INFO - Smoothing with model.layers.20.mlp.up_proj\n"
     ]
    },
    {
     "name": "stderr",
     "output_type": "stream",
     "text": [
      "\n",
      "(21/41): Propagating: 100%|██████████| 512/512 [00:01<00:00, 465.16it/s]\n",
      "(22/41): Calibrating: 100%|██████████| 512/512 [00:01<00:00, 458.98it/s]"
     ]
    },
    {
     "name": "stdout",
     "output_type": "stream",
     "text": [
      "2025-07-17T04:25:56.076752+0000 | _apply_smoothing | INFO - Smoothing with model.layers.21.input_layernorm\n",
      "2025-07-17T04:25:56.078256+0000 | _apply_smoothing | INFO - Smoothing with model.layers.21.post_attention_layernorm\n"
     ]
    },
    {
     "name": "stderr",
     "output_type": "stream",
     "text": [
      "\n"
     ]
    },
    {
     "name": "stdout",
     "output_type": "stream",
     "text": [
      "2025-07-17T04:25:56.079786+0000 | _apply_smoothing | INFO - Smoothing with model.layers.21.mlp.up_proj\n"
     ]
    },
    {
     "name": "stderr",
     "output_type": "stream",
     "text": [
      "(22/41): Propagating: 100%|██████████| 512/512 [00:01<00:00, 456.57it/s]\n",
      "(23/41): Calibrating: 100%|██████████| 512/512 [00:01<00:00, 454.82it/s]"
     ]
    },
    {
     "name": "stdout",
     "output_type": "stream",
     "text": [
      "2025-07-17T04:25:58.361157+0000 | _apply_smoothing | INFO - Smoothing with model.layers.22.input_layernorm\n",
      "2025-07-17T04:25:58.362514+0000 | _apply_smoothing | INFO - Smoothing with model.layers.22.post_attention_layernorm\n",
      "2025-07-17T04:25:58.363830+0000 | _apply_smoothing | INFO - Smoothing with model.layers.22.mlp.up_proj\n"
     ]
    },
    {
     "name": "stderr",
     "output_type": "stream",
     "text": [
      "\n",
      "(23/41): Propagating: 100%|██████████| 512/512 [00:01<00:00, 459.57it/s]\n",
      "(24/41): Calibrating: 100%|██████████| 512/512 [00:01<00:00, 459.57it/s]"
     ]
    },
    {
     "name": "stdout",
     "output_type": "stream",
     "text": [
      "2025-07-17T04:26:00.651653+0000 | _apply_smoothing | INFO - Smoothing with model.layers.23.input_layernorm\n",
      "2025-07-17T04:26:00.653174+0000 | _apply_smoothing | INFO - Smoothing with model.layers.23.post_attention_layernorm\n"
     ]
    },
    {
     "name": "stderr",
     "output_type": "stream",
     "text": [
      "\n"
     ]
    },
    {
     "name": "stdout",
     "output_type": "stream",
     "text": [
      "2025-07-17T04:26:00.654772+0000 | _apply_smoothing | INFO - Smoothing with model.layers.23.mlp.up_proj\n"
     ]
    },
    {
     "name": "stderr",
     "output_type": "stream",
     "text": [
      "(24/41): Propagating: 100%|██████████| 512/512 [00:01<00:00, 465.71it/s]\n",
      "(25/41): Calibrating: 100%|██████████| 512/512 [00:01<00:00, 459.62it/s]"
     ]
    },
    {
     "name": "stdout",
     "output_type": "stream",
     "text": [
      "2025-07-17T04:26:02.942068+0000 | _apply_smoothing | INFO - Smoothing with model.layers.24.input_layernorm\n",
      "2025-07-17T04:26:02.943685+0000 | _apply_smoothing | INFO - Smoothing with model.layers.24.post_attention_layernorm\n"
     ]
    },
    {
     "name": "stderr",
     "output_type": "stream",
     "text": [
      "\n"
     ]
    },
    {
     "name": "stdout",
     "output_type": "stream",
     "text": [
      "2025-07-17T04:26:02.945338+0000 | _apply_smoothing | INFO - Smoothing with model.layers.24.mlp.up_proj\n"
     ]
    },
    {
     "name": "stderr",
     "output_type": "stream",
     "text": [
      "(25/41): Propagating: 100%|██████████| 512/512 [00:01<00:00, 462.85it/s]\n",
      "(26/41): Calibrating: 100%|██████████| 512/512 [00:01<00:00, 458.38it/s]"
     ]
    },
    {
     "name": "stdout",
     "output_type": "stream",
     "text": [
      "2025-07-17T04:26:05.231860+0000 | _apply_smoothing | INFO - Smoothing with model.layers.25.input_layernorm\n",
      "2025-07-17T04:26:05.233379+0000 | _apply_smoothing | INFO - Smoothing with model.layers.25.post_attention_layernorm\n"
     ]
    },
    {
     "name": "stderr",
     "output_type": "stream",
     "text": [
      "\n"
     ]
    },
    {
     "name": "stdout",
     "output_type": "stream",
     "text": [
      "2025-07-17T04:26:05.234706+0000 | _apply_smoothing | INFO - Smoothing with model.layers.25.mlp.up_proj\n"
     ]
    },
    {
     "name": "stderr",
     "output_type": "stream",
     "text": [
      "(26/41): Propagating: 100%|██████████| 512/512 [00:01<00:00, 462.18it/s]\n",
      "(27/41): Calibrating: 100%|██████████| 512/512 [00:01<00:00, 458.27it/s]"
     ]
    },
    {
     "name": "stdout",
     "output_type": "stream",
     "text": [
      "2025-07-17T04:26:07.508018+0000 | _apply_smoothing | INFO - Smoothing with model.layers.26.input_layernorm\n",
      "2025-07-17T04:26:07.509813+0000 | _apply_smoothing | INFO - Smoothing with model.layers.26.post_attention_layernorm\n",
      "2025-07-17T04:26:07.511253+0000 | _apply_smoothing | INFO - Smoothing with model.layers.26.mlp.up_proj\n"
     ]
    },
    {
     "name": "stderr",
     "output_type": "stream",
     "text": [
      "\n",
      "(27/41): Propagating: 100%|██████████| 512/512 [00:01<00:00, 457.28it/s]\n",
      "(28/41): Calibrating: 100%|██████████| 512/512 [00:01<00:00, 452.69it/s]"
     ]
    },
    {
     "name": "stdout",
     "output_type": "stream",
     "text": [
      "2025-07-17T04:26:09.807651+0000 | _apply_smoothing | INFO - Smoothing with model.layers.27.input_layernorm\n",
      "2025-07-17T04:26:09.809145+0000 | _apply_smoothing | INFO - Smoothing with model.layers.27.post_attention_layernorm\n",
      "2025-07-17T04:26:09.810546+0000 | _apply_smoothing | INFO - Smoothing with model.layers.27.mlp.up_proj\n"
     ]
    },
    {
     "name": "stderr",
     "output_type": "stream",
     "text": [
      "\n",
      "(28/41): Propagating: 100%|██████████| 512/512 [00:01<00:00, 458.93it/s]\n",
      "(29/41): Calibrating: 100%|██████████| 512/512 [00:01<00:00, 457.17it/s]"
     ]
    },
    {
     "name": "stdout",
     "output_type": "stream",
     "text": [
      "2025-07-17T04:26:12.095488+0000 | _apply_smoothing | INFO - Smoothing with model.layers.28.input_layernorm\n",
      "2025-07-17T04:26:12.097044+0000 | _apply_smoothing | INFO - Smoothing with model.layers.28.post_attention_layernorm\n",
      "2025-07-17T04:26:12.098435+0000 | _apply_smoothing | INFO - Smoothing with model.layers.28.mlp.up_proj\n"
     ]
    },
    {
     "name": "stderr",
     "output_type": "stream",
     "text": [
      "\n",
      "(29/41): Propagating: 100%|██████████| 512/512 [00:01<00:00, 462.24it/s]\n",
      "(30/41): Calibrating: 100%|██████████| 512/512 [00:01<00:00, 443.77it/s]"
     ]
    },
    {
     "name": "stdout",
     "output_type": "stream",
     "text": [
      "2025-07-17T04:26:14.411755+0000 | _apply_smoothing | INFO - Smoothing with model.layers.29.input_layernorm\n",
      "2025-07-17T04:26:14.413241+0000 | _apply_smoothing | INFO - Smoothing with model.layers.29.post_attention_layernorm\n",
      "2025-07-17T04:26:14.414771+0000 | _apply_smoothing | INFO - Smoothing with model.layers.29.mlp.up_proj\n"
     ]
    },
    {
     "name": "stderr",
     "output_type": "stream",
     "text": [
      "\n",
      "(30/41): Propagating: 100%|██████████| 512/512 [00:01<00:00, 451.33it/s]\n",
      "(31/41): Calibrating: 100%|██████████| 512/512 [00:01<00:00, 455.22it/s]"
     ]
    },
    {
     "name": "stdout",
     "output_type": "stream",
     "text": [
      "2025-07-17T04:26:16.727209+0000 | _apply_smoothing | INFO - Smoothing with model.layers.30.input_layernorm\n",
      "2025-07-17T04:26:16.728812+0000 | _apply_smoothing | INFO - Smoothing with model.layers.30.post_attention_layernorm\n",
      "2025-07-17T04:26:16.730292+0000 | _apply_smoothing | INFO - Smoothing with model.layers.30.mlp.up_proj\n"
     ]
    },
    {
     "name": "stderr",
     "output_type": "stream",
     "text": [
      "\n",
      "(31/41): Propagating: 100%|██████████| 512/512 [00:01<00:00, 460.19it/s]\n",
      "(32/41): Calibrating: 100%|██████████| 512/512 [00:01<00:00, 457.11it/s]"
     ]
    },
    {
     "name": "stdout",
     "output_type": "stream",
     "text": [
      "2025-07-17T04:26:19.013659+0000 | _apply_smoothing | INFO - Smoothing with model.layers.31.input_layernorm\n",
      "2025-07-17T04:26:19.015346+0000 | _apply_smoothing | INFO - Smoothing with model.layers.31.post_attention_layernorm\n",
      "2025-07-17T04:26:19.016828+0000 | _apply_smoothing | INFO - Smoothing with model.layers.31.mlp.up_proj\n"
     ]
    },
    {
     "name": "stderr",
     "output_type": "stream",
     "text": [
      "\n",
      "(32/41): Propagating: 100%|██████████| 512/512 [00:01<00:00, 464.00it/s]\n",
      "(33/41): Calibrating: 100%|██████████| 512/512 [00:01<00:00, 456.65it/s]"
     ]
    },
    {
     "name": "stdout",
     "output_type": "stream",
     "text": [
      "2025-07-17T04:26:21.310605+0000 | _apply_smoothing | INFO - Smoothing with model.layers.32.input_layernorm\n",
      "2025-07-17T04:26:21.312063+0000 | _apply_smoothing | INFO - Smoothing with model.layers.32.post_attention_layernorm\n",
      "2025-07-17T04:26:21.313359+0000 | _apply_smoothing | INFO - Smoothing with model.layers.32.mlp.up_proj\n"
     ]
    },
    {
     "name": "stderr",
     "output_type": "stream",
     "text": [
      "\n",
      "(33/41): Propagating: 100%|██████████| 512/512 [00:01<00:00, 461.78it/s]\n",
      "(34/41): Calibrating: 100%|██████████| 512/512 [00:01<00:00, 448.01it/s]"
     ]
    },
    {
     "name": "stdout",
     "output_type": "stream",
     "text": [
      "2025-07-17T04:26:23.611169+0000 | _apply_smoothing | INFO - Smoothing with model.layers.33.input_layernorm\n",
      "2025-07-17T04:26:23.612884+0000 | _apply_smoothing | INFO - Smoothing with model.layers.33.post_attention_layernorm\n",
      "2025-07-17T04:26:23.614362+0000 | _apply_smoothing | INFO - Smoothing with model.layers.33.mlp.up_proj\n"
     ]
    },
    {
     "name": "stderr",
     "output_type": "stream",
     "text": [
      "\n",
      "(34/41): Propagating: 100%|██████████| 512/512 [00:01<00:00, 460.20it/s]\n",
      "(35/41): Calibrating: 100%|██████████| 512/512 [00:01<00:00, 457.64it/s]"
     ]
    },
    {
     "name": "stdout",
     "output_type": "stream",
     "text": [
      "2025-07-17T04:26:25.887825+0000 | _apply_smoothing | INFO - Smoothing with model.layers.34.input_layernorm\n",
      "2025-07-17T04:26:25.889487+0000 | _apply_smoothing | INFO - Smoothing with model.layers.34.post_attention_layernorm\n",
      "2025-07-17T04:26:25.890927+0000 | _apply_smoothing | INFO - Smoothing with model.layers.34.mlp.up_proj\n"
     ]
    },
    {
     "name": "stderr",
     "output_type": "stream",
     "text": [
      "\n",
      "(35/41): Propagating: 100%|██████████| 512/512 [00:01<00:00, 463.11it/s]\n",
      "(36/41): Calibrating: 100%|██████████| 512/512 [00:01<00:00, 452.74it/s]"
     ]
    },
    {
     "name": "stdout",
     "output_type": "stream",
     "text": [
      "2025-07-17T04:26:28.170739+0000 | _apply_smoothing | INFO - Smoothing with model.layers.35.input_layernorm\n",
      "2025-07-17T04:26:28.172270+0000 | _apply_smoothing | INFO - Smoothing with model.layers.35.post_attention_layernorm\n",
      "2025-07-17T04:26:28.173678+0000 | _apply_smoothing | INFO - Smoothing with model.layers.35.mlp.up_proj\n"
     ]
    },
    {
     "name": "stderr",
     "output_type": "stream",
     "text": [
      "\n",
      "(36/41): Propagating: 100%|██████████| 512/512 [00:01<00:00, 463.08it/s]\n",
      "(37/41): Calibrating: 100%|██████████| 512/512 [00:01<00:00, 459.93it/s]"
     ]
    },
    {
     "name": "stdout",
     "output_type": "stream",
     "text": [
      "2025-07-17T04:26:30.430765+0000 | _apply_smoothing | INFO - Smoothing with model.layers.36.input_layernorm\n",
      "2025-07-17T04:26:30.432557+0000 | _apply_smoothing | INFO - Smoothing with model.layers.36.post_attention_layernorm\n",
      "2025-07-17T04:26:30.433942+0000 | _apply_smoothing | INFO - Smoothing with model.layers.36.mlp.up_proj\n"
     ]
    },
    {
     "name": "stderr",
     "output_type": "stream",
     "text": [
      "\n",
      "(37/41): Propagating: 100%|██████████| 512/512 [00:01<00:00, 461.74it/s]\n",
      "(38/41): Calibrating: 100%|██████████| 512/512 [00:01<00:00, 449.39it/s]"
     ]
    },
    {
     "name": "stdout",
     "output_type": "stream",
     "text": [
      "2025-07-17T04:26:32.724296+0000 | _apply_smoothing | INFO - Smoothing with model.layers.37.input_layernorm\n",
      "2025-07-17T04:26:32.725845+0000 | _apply_smoothing | INFO - Smoothing with model.layers.37.post_attention_layernorm\n",
      "2025-07-17T04:26:32.727141+0000 | _apply_smoothing | INFO - Smoothing with model.layers.37.mlp.up_proj\n"
     ]
    },
    {
     "name": "stderr",
     "output_type": "stream",
     "text": [
      "\n",
      "(38/41): Propagating: 100%|██████████| 512/512 [00:01<00:00, 460.04it/s]\n",
      "(39/41): Calibrating: 100%|██████████| 512/512 [00:01<00:00, 448.91it/s]"
     ]
    },
    {
     "name": "stdout",
     "output_type": "stream",
     "text": [
      "2025-07-17T04:26:35.017931+0000 | _apply_smoothing | INFO - Smoothing with model.layers.38.input_layernorm\n",
      "2025-07-17T04:26:35.019401+0000 | _apply_smoothing | INFO - Smoothing with model.layers.38.post_attention_layernorm\n",
      "2025-07-17T04:26:35.020791+0000 | _apply_smoothing | INFO - Smoothing with model.layers.38.mlp.up_proj\n"
     ]
    },
    {
     "name": "stderr",
     "output_type": "stream",
     "text": [
      "\n",
      "(39/41): Propagating: 100%|██████████| 512/512 [00:01<00:00, 462.15it/s]\n",
      "(40/41): Calibrating: 100%|██████████| 512/512 [00:01<00:00, 450.27it/s]"
     ]
    },
    {
     "name": "stdout",
     "output_type": "stream",
     "text": [
      "2025-07-17T04:26:37.305060+0000 | _apply_smoothing | INFO - Smoothing with model.layers.39.input_layernorm\n",
      "2025-07-17T04:26:37.306352+0000 | _apply_smoothing | INFO - Smoothing with model.layers.39.post_attention_layernorm\n",
      "2025-07-17T04:26:37.307667+0000 | _apply_smoothing | INFO - Smoothing with model.layers.39.mlp.up_proj\n"
     ]
    },
    {
     "name": "stderr",
     "output_type": "stream",
     "text": [
      "\n",
      "(40/41): Propagating: 100%|██████████| 512/512 [00:01<00:00, 459.73it/s]\n",
      "(41/41): Calibrating: 100%|██████████| 512/512 [00:01<00:00, 299.37it/s]\n",
      "(41/41): Propagating: 100%|██████████| 512/512 [00:01<00:00, 299.98it/s]\n"
     ]
    },
    {
     "name": "stdout",
     "output_type": "stream",
     "text": [
      "2025-07-17T04:26:42.006259+0000 | IndependentPipeline | INFO - Inferred `SequentialPipeline` for `GPTQModifier`\n"
     ]
    },
    {
     "name": "stderr",
     "output_type": "stream",
     "text": [
      "Preparing cache: 100%|██████████| 512/512 [00:00<00:00, 2037.18it/s]\n",
      "(1/41): Calibrating: 100%|██████████| 512/512 [00:08<00:00, 63.65it/s]"
     ]
    },
    {
     "name": "stdout",
     "output_type": "stream",
     "text": [
      "2025-07-17T04:26:52.051964+0000 | compress_modules | INFO - Quantizing model.layers.0.self_attn.q_proj using 512 samples\n"
     ]
    },
    {
     "name": "stderr",
     "output_type": "stream",
     "text": [
      "\n"
     ]
    },
    {
     "name": "stdout",
     "output_type": "stream",
     "text": [
      "2025-07-17T04:26:52.895198+0000 | compress | METRIC - time 0.84s\n",
      "2025-07-17T04:26:52.896233+0000 | compress | METRIC - error 25357.14\n",
      "2025-07-17T04:26:52.897140+0000 | compress | METRIC - GPU 0 | usage: 25.06% | total memory: 24 GB\n",
      "2025-07-17T04:26:52.897646+0000 | compress | METRIC - Compressed module size: 8.486912 MB\n",
      "2025-07-17T04:26:52.898366+0000 | compress_modules | INFO - Quantizing model.layers.0.self_attn.k_proj using 512 samples\n",
      "2025-07-17T04:26:53.709686+0000 | compress | METRIC - time 0.81s\n",
      "2025-07-17T04:26:53.710477+0000 | compress | METRIC - error 8634.46\n",
      "2025-07-17T04:26:53.711323+0000 | compress | METRIC - GPU 0 | usage: 25.06% | total memory: 24 GB\n",
      "2025-07-17T04:26:53.711890+0000 | compress | METRIC - Compressed module size: 2.121728 MB\n",
      "2025-07-17T04:26:53.712755+0000 | compress_modules | INFO - Quantizing model.layers.0.self_attn.v_proj using 512 samples\n",
      "2025-07-17T04:26:54.519493+0000 | compress | METRIC - time 0.81s\n",
      "2025-07-17T04:26:54.520398+0000 | compress | METRIC - error 2851.60\n",
      "2025-07-17T04:26:54.521294+0000 | compress | METRIC - GPU 0 | usage: 25.06% | total memory: 24 GB\n",
      "2025-07-17T04:26:54.521791+0000 | compress | METRIC - Compressed module size: 2.121728 MB\n",
      "2025-07-17T04:26:54.522625+0000 | compress_modules | INFO - Quantizing model.layers.0.self_attn.o_proj using 512 samples\n",
      "2025-07-17T04:26:55.342306+0000 | compress | METRIC - time 0.82s\n",
      "2025-07-17T04:26:55.343275+0000 | compress | METRIC - error 1017.38\n",
      "2025-07-17T04:26:55.344169+0000 | compress | METRIC - GPU 0 | usage: 25.06% | total memory: 24 GB\n",
      "2025-07-17T04:26:55.344836+0000 | compress | METRIC - Compressed module size: 8.486912 MB\n",
      "2025-07-17T04:26:55.345636+0000 | compress_modules | INFO - Quantizing model.layers.0.mlp.gate_proj using 512 samples\n",
      "2025-07-17T04:26:56.192364+0000 | compress | METRIC - time 0.85s\n",
      "2025-07-17T04:26:56.193285+0000 | compress | METRIC - error 11320.80\n",
      "2025-07-17T04:26:56.193930+0000 | compress | METRIC - GPU 0 | usage: 25.06% | total memory: 24 GB\n",
      "2025-07-17T04:26:56.194473+0000 | compress | METRIC - Compressed module size: 33.947648 MB\n",
      "2025-07-17T04:26:56.195441+0000 | compress_modules | INFO - Quantizing model.layers.0.mlp.up_proj using 512 samples\n",
      "2025-07-17T04:26:57.042355+0000 | compress | METRIC - time 0.85s\n",
      "2025-07-17T04:26:57.043339+0000 | compress | METRIC - error 203.40\n",
      "2025-07-17T04:26:57.044158+0000 | compress | METRIC - GPU 0 | usage: 25.06% | total memory: 24 GB\n",
      "2025-07-17T04:26:57.044702+0000 | compress | METRIC - Compressed module size: 33.947648 MB\n",
      "2025-07-17T04:26:57.045598+0000 | compress_modules | INFO - Quantizing model.layers.0.mlp.down_proj using 512 samples\n",
      "2025-07-17T04:27:00.570055+0000 | compress | METRIC - time 3.52s\n",
      "2025-07-17T04:27:00.571749+0000 | compress | METRIC - error 1613.15\n",
      "2025-07-17T04:27:00.572685+0000 | compress | METRIC - GPU 0 | usage: 25.06% | total memory: 24 GB\n",
      "2025-07-17T04:27:00.573165+0000 | compress | METRIC - Compressed module size: 33.947648 MB\n"
     ]
    },
    {
     "name": "stderr",
     "output_type": "stream",
     "text": [
      "(1/41): Propagating: 100%|██████████| 512/512 [00:01<00:00, 384.94it/s]\n",
      "(2/41): Calibrating: 100%|██████████| 512/512 [00:07<00:00, 66.69it/s]"
     ]
    },
    {
     "name": "stdout",
     "output_type": "stream",
     "text": [
      "2025-07-17T04:27:09.636938+0000 | compress_modules | INFO - Quantizing model.layers.1.self_attn.q_proj using 512 samples\n"
     ]
    },
    {
     "name": "stderr",
     "output_type": "stream",
     "text": [
      "\n"
     ]
    },
    {
     "name": "stdout",
     "output_type": "stream",
     "text": [
      "2025-07-17T04:27:10.456580+0000 | compress | METRIC - time 0.82s\n",
      "2025-07-17T04:27:10.457656+0000 | compress | METRIC - error 15228.57\n",
      "2025-07-17T04:27:10.458292+0000 | compress | METRIC - GPU 0 | usage: 25.07% | total memory: 24 GB\n",
      "2025-07-17T04:27:10.458838+0000 | compress | METRIC - Compressed module size: 8.486912 MB\n",
      "2025-07-17T04:27:10.459721+0000 | compress_modules | INFO - Quantizing model.layers.1.self_attn.k_proj using 512 samples\n",
      "2025-07-17T04:27:11.266058+0000 | compress | METRIC - time 0.81s\n",
      "2025-07-17T04:27:11.267063+0000 | compress | METRIC - error 17480.67\n",
      "2025-07-17T04:27:11.267884+0000 | compress | METRIC - GPU 0 | usage: 25.07% | total memory: 24 GB\n",
      "2025-07-17T04:27:11.268383+0000 | compress | METRIC - Compressed module size: 2.121728 MB\n",
      "2025-07-17T04:27:11.269337+0000 | compress_modules | INFO - Quantizing model.layers.1.self_attn.v_proj using 512 samples\n",
      "2025-07-17T04:27:12.087528+0000 | compress | METRIC - time 0.82s\n",
      "2025-07-17T04:27:12.088510+0000 | compress | METRIC - error 1643.18\n",
      "2025-07-17T04:27:12.089309+0000 | compress | METRIC - GPU 0 | usage: 25.07% | total memory: 24 GB\n",
      "2025-07-17T04:27:12.089768+0000 | compress | METRIC - Compressed module size: 2.121728 MB\n",
      "2025-07-17T04:27:12.090541+0000 | compress_modules | INFO - Quantizing model.layers.1.self_attn.o_proj using 512 samples\n",
      "2025-07-17T04:27:12.905872+0000 | compress | METRIC - time 0.81s\n",
      "2025-07-17T04:27:12.906798+0000 | compress | METRIC - error 423.73\n",
      "2025-07-17T04:27:12.907474+0000 | compress | METRIC - GPU 0 | usage: 25.07% | total memory: 24 GB\n",
      "2025-07-17T04:27:12.908013+0000 | compress | METRIC - Compressed module size: 8.486912 MB\n",
      "2025-07-17T04:27:12.908723+0000 | compress_modules | INFO - Quantizing model.layers.1.mlp.gate_proj using 512 samples\n",
      "2025-07-17T04:27:13.763750+0000 | compress | METRIC - time 0.85s\n",
      "2025-07-17T04:27:13.764770+0000 | compress | METRIC - error 13076.69\n",
      "2025-07-17T04:27:13.765501+0000 | compress | METRIC - GPU 0 | usage: 25.07% | total memory: 24 GB\n",
      "2025-07-17T04:27:13.766074+0000 | compress | METRIC - Compressed module size: 33.947648 MB\n",
      "2025-07-17T04:27:13.766754+0000 | compress_modules | INFO - Quantizing model.layers.1.mlp.up_proj using 512 samples\n",
      "2025-07-17T04:27:14.620819+0000 | compress | METRIC - time 0.85s\n",
      "2025-07-17T04:27:14.621807+0000 | compress | METRIC - error 209.59\n",
      "2025-07-17T04:27:14.622331+0000 | compress | METRIC - GPU 0 | usage: 25.07% | total memory: 24 GB\n",
      "2025-07-17T04:27:14.622730+0000 | compress | METRIC - Compressed module size: 33.947648 MB\n",
      "2025-07-17T04:27:14.623644+0000 | compress_modules | INFO - Quantizing model.layers.1.mlp.down_proj using 512 samples\n",
      "2025-07-17T04:27:18.149209+0000 | compress | METRIC - time 3.53s\n",
      "2025-07-17T04:27:18.150948+0000 | compress | METRIC - error 800.63\n",
      "2025-07-17T04:27:18.151925+0000 | compress | METRIC - GPU 0 | usage: 25.07% | total memory: 24 GB\n",
      "2025-07-17T04:27:18.152486+0000 | compress | METRIC - Compressed module size: 33.947648 MB\n"
     ]
    },
    {
     "name": "stderr",
     "output_type": "stream",
     "text": [
      "(2/41): Propagating: 100%|██████████| 512/512 [00:01<00:00, 456.33it/s]\n",
      "(3/41): Calibrating: 100%|██████████| 512/512 [00:07<00:00, 66.60it/s]"
     ]
    },
    {
     "name": "stdout",
     "output_type": "stream",
     "text": [
      "2025-07-17T04:27:26.988769+0000 | compress_modules | INFO - Quantizing model.layers.2.self_attn.q_proj using 512 samples\n"
     ]
    },
    {
     "name": "stderr",
     "output_type": "stream",
     "text": [
      "\n"
     ]
    },
    {
     "name": "stdout",
     "output_type": "stream",
     "text": [
      "2025-07-17T04:27:27.841158+0000 | compress | METRIC - time 0.85s\n",
      "2025-07-17T04:27:27.842371+0000 | compress | METRIC - error 16670.27\n",
      "2025-07-17T04:27:27.843054+0000 | compress | METRIC - GPU 0 | usage: 25.07% | total memory: 24 GB\n",
      "2025-07-17T04:27:27.843495+0000 | compress | METRIC - Compressed module size: 8.486912 MB\n",
      "2025-07-17T04:27:27.844281+0000 | compress_modules | INFO - Quantizing model.layers.2.self_attn.k_proj using 512 samples\n",
      "2025-07-17T04:27:28.675341+0000 | compress | METRIC - time 0.83s\n",
      "2025-07-17T04:27:28.676397+0000 | compress | METRIC - error 8536.95\n",
      "2025-07-17T04:27:28.677264+0000 | compress | METRIC - GPU 0 | usage: 25.07% | total memory: 24 GB\n",
      "2025-07-17T04:27:28.677730+0000 | compress | METRIC - Compressed module size: 2.121728 MB\n",
      "2025-07-17T04:27:28.678460+0000 | compress_modules | INFO - Quantizing model.layers.2.self_attn.v_proj using 512 samples\n",
      "2025-07-17T04:27:29.513408+0000 | compress | METRIC - time 0.83s\n",
      "2025-07-17T04:27:29.514586+0000 | compress | METRIC - error 1385.80\n",
      "2025-07-17T04:27:29.515202+0000 | compress | METRIC - GPU 0 | usage: 25.07% | total memory: 24 GB\n",
      "2025-07-17T04:27:29.515713+0000 | compress | METRIC - Compressed module size: 2.121728 MB\n",
      "2025-07-17T04:27:29.516546+0000 | compress_modules | INFO - Quantizing model.layers.2.self_attn.o_proj using 512 samples\n",
      "2025-07-17T04:27:30.356854+0000 | compress | METRIC - time 0.84s\n",
      "2025-07-17T04:27:30.357882+0000 | compress | METRIC - error 259.19\n",
      "2025-07-17T04:27:30.358760+0000 | compress | METRIC - GPU 0 | usage: 25.07% | total memory: 24 GB\n",
      "2025-07-17T04:27:30.359181+0000 | compress | METRIC - Compressed module size: 8.486912 MB\n",
      "2025-07-17T04:27:30.359905+0000 | compress_modules | INFO - Quantizing model.layers.2.mlp.gate_proj using 512 samples\n",
      "2025-07-17T04:27:31.230200+0000 | compress | METRIC - time 0.87s\n",
      "2025-07-17T04:27:31.231165+0000 | compress | METRIC - error 15109.71\n",
      "2025-07-17T04:27:31.231937+0000 | compress | METRIC - GPU 0 | usage: 25.07% | total memory: 24 GB\n",
      "2025-07-17T04:27:31.232348+0000 | compress | METRIC - Compressed module size: 33.947648 MB\n",
      "2025-07-17T04:27:31.233155+0000 | compress_modules | INFO - Quantizing model.layers.2.mlp.up_proj using 512 samples\n",
      "2025-07-17T04:27:32.102148+0000 | compress | METRIC - time 0.87s\n",
      "2025-07-17T04:27:32.103569+0000 | compress | METRIC - error 214.70\n",
      "2025-07-17T04:27:32.104180+0000 | compress | METRIC - GPU 0 | usage: 25.07% | total memory: 24 GB\n",
      "2025-07-17T04:27:32.104913+0000 | compress | METRIC - Compressed module size: 33.947648 MB\n",
      "2025-07-17T04:27:32.105599+0000 | compress_modules | INFO - Quantizing model.layers.2.mlp.down_proj using 512 samples\n",
      "2025-07-17T04:27:35.639452+0000 | compress | METRIC - time 3.53s\n",
      "2025-07-17T04:27:35.641727+0000 | compress | METRIC - error 731.93\n",
      "2025-07-17T04:27:35.642489+0000 | compress | METRIC - GPU 0 | usage: 25.07% | total memory: 24 GB\n",
      "2025-07-17T04:27:35.642989+0000 | compress | METRIC - Compressed module size: 33.947648 MB\n"
     ]
    },
    {
     "name": "stderr",
     "output_type": "stream",
     "text": [
      "(3/41): Propagating: 100%|██████████| 512/512 [00:01<00:00, 460.56it/s]\n",
      "(4/41): Calibrating: 100%|██████████| 512/512 [00:07<00:00, 66.80it/s]"
     ]
    },
    {
     "name": "stdout",
     "output_type": "stream",
     "text": [
      "2025-07-17T04:27:44.445871+0000 | compress_modules | INFO - Quantizing model.layers.3.self_attn.q_proj using 512 samples\n"
     ]
    },
    {
     "name": "stderr",
     "output_type": "stream",
     "text": [
      "\n"
     ]
    },
    {
     "name": "stdout",
     "output_type": "stream",
     "text": [
      "2025-07-17T04:27:45.301407+0000 | compress | METRIC - time 0.85s\n",
      "2025-07-17T04:27:45.302466+0000 | compress | METRIC - error 21549.38\n",
      "2025-07-17T04:27:45.303292+0000 | compress | METRIC - GPU 0 | usage: 25.07% | total memory: 24 GB\n",
      "2025-07-17T04:27:45.303781+0000 | compress | METRIC - Compressed module size: 8.486912 MB\n",
      "2025-07-17T04:27:45.304639+0000 | compress_modules | INFO - Quantizing model.layers.3.self_attn.k_proj using 512 samples\n",
      "2025-07-17T04:27:46.113156+0000 | compress | METRIC - time 0.81s\n",
      "2025-07-17T04:27:46.114284+0000 | compress | METRIC - error 9593.58\n",
      "2025-07-17T04:27:46.115446+0000 | compress | METRIC - GPU 0 | usage: 25.07% | total memory: 24 GB\n",
      "2025-07-17T04:27:46.116003+0000 | compress | METRIC - Compressed module size: 2.121728 MB\n",
      "2025-07-17T04:27:46.116884+0000 | compress_modules | INFO - Quantizing model.layers.3.self_attn.v_proj using 512 samples\n",
      "2025-07-17T04:27:46.923210+0000 | compress | METRIC - time 0.81s\n",
      "2025-07-17T04:27:46.924239+0000 | compress | METRIC - error 1362.47\n",
      "2025-07-17T04:27:46.925112+0000 | compress | METRIC - GPU 0 | usage: 25.07% | total memory: 24 GB\n",
      "2025-07-17T04:27:46.925665+0000 | compress | METRIC - Compressed module size: 2.121728 MB\n",
      "2025-07-17T04:27:46.926732+0000 | compress_modules | INFO - Quantizing model.layers.3.self_attn.o_proj using 512 samples\n",
      "2025-07-17T04:27:47.773306+0000 | compress | METRIC - time 0.85s\n",
      "2025-07-17T04:27:47.774387+0000 | compress | METRIC - error 222.90\n",
      "2025-07-17T04:27:47.775261+0000 | compress | METRIC - GPU 0 | usage: 25.07% | total memory: 24 GB\n",
      "2025-07-17T04:27:47.775802+0000 | compress | METRIC - Compressed module size: 8.486912 MB\n",
      "2025-07-17T04:27:47.776700+0000 | compress_modules | INFO - Quantizing model.layers.3.mlp.gate_proj using 512 samples\n",
      "2025-07-17T04:27:48.653842+0000 | compress | METRIC - time 0.88s\n",
      "2025-07-17T04:27:48.654893+0000 | compress | METRIC - error 13740.01\n",
      "2025-07-17T04:27:48.655822+0000 | compress | METRIC - GPU 0 | usage: 25.07% | total memory: 24 GB\n",
      "2025-07-17T04:27:48.656342+0000 | compress | METRIC - Compressed module size: 33.947648 MB\n",
      "2025-07-17T04:27:48.657254+0000 | compress_modules | INFO - Quantizing model.layers.3.mlp.up_proj using 512 samples\n",
      "2025-07-17T04:27:49.507287+0000 | compress | METRIC - time 0.85s\n",
      "2025-07-17T04:27:49.508308+0000 | compress | METRIC - error 205.89\n",
      "2025-07-17T04:27:49.509044+0000 | compress | METRIC - GPU 0 | usage: 25.07% | total memory: 24 GB\n",
      "2025-07-17T04:27:49.509544+0000 | compress | METRIC - Compressed module size: 33.947648 MB\n",
      "2025-07-17T04:27:49.510361+0000 | compress_modules | INFO - Quantizing model.layers.3.mlp.down_proj using 512 samples\n",
      "2025-07-17T04:27:53.104991+0000 | compress | METRIC - time 3.59s\n",
      "2025-07-17T04:27:53.107065+0000 | compress | METRIC - error 1870.26\n",
      "2025-07-17T04:27:53.107857+0000 | compress | METRIC - GPU 0 | usage: 25.07% | total memory: 24 GB\n",
      "2025-07-17T04:27:53.108538+0000 | compress | METRIC - Compressed module size: 33.947648 MB\n"
     ]
    },
    {
     "name": "stderr",
     "output_type": "stream",
     "text": [
      "(4/41): Propagating: 100%|██████████| 512/512 [00:01<00:00, 458.04it/s]\n",
      "(5/41): Calibrating: 100%|██████████| 512/512 [00:07<00:00, 66.65it/s]"
     ]
    },
    {
     "name": "stdout",
     "output_type": "stream",
     "text": [
      "2025-07-17T04:28:01.935530+0000 | compress_modules | INFO - Quantizing model.layers.4.self_attn.q_proj using 512 samples\n"
     ]
    },
    {
     "name": "stderr",
     "output_type": "stream",
     "text": [
      "\n"
     ]
    },
    {
     "name": "stdout",
     "output_type": "stream",
     "text": [
      "2025-07-17T04:28:02.776991+0000 | compress | METRIC - time 0.84s\n",
      "2025-07-17T04:28:02.778220+0000 | compress | METRIC - error 27785.49\n",
      "2025-07-17T04:28:02.778932+0000 | compress | METRIC - GPU 0 | usage: 25.07% | total memory: 24 GB\n",
      "2025-07-17T04:28:02.779527+0000 | compress | METRIC - Compressed module size: 8.486912 MB\n",
      "2025-07-17T04:28:02.780141+0000 | compress_modules | INFO - Quantizing model.layers.4.self_attn.k_proj using 512 samples\n",
      "2025-07-17T04:28:03.613894+0000 | compress | METRIC - time 0.83s\n",
      "2025-07-17T04:28:03.615113+0000 | compress | METRIC - error 12993.50\n",
      "2025-07-17T04:28:03.615815+0000 | compress | METRIC - GPU 0 | usage: 25.07% | total memory: 24 GB\n",
      "2025-07-17T04:28:03.616278+0000 | compress | METRIC - Compressed module size: 2.121728 MB\n",
      "2025-07-17T04:28:03.617046+0000 | compress_modules | INFO - Quantizing model.layers.4.self_attn.v_proj using 512 samples\n",
      "2025-07-17T04:28:04.444856+0000 | compress | METRIC - time 0.83s\n",
      "2025-07-17T04:28:04.446229+0000 | compress | METRIC - error 1777.07\n",
      "2025-07-17T04:28:04.446977+0000 | compress | METRIC - GPU 0 | usage: 25.07% | total memory: 24 GB\n",
      "2025-07-17T04:28:04.447502+0000 | compress | METRIC - Compressed module size: 2.121728 MB\n",
      "2025-07-17T04:28:04.448271+0000 | compress_modules | INFO - Quantizing model.layers.4.self_attn.o_proj using 512 samples\n",
      "2025-07-17T04:28:05.280069+0000 | compress | METRIC - time 0.83s\n",
      "2025-07-17T04:28:05.281141+0000 | compress | METRIC - error 194.93\n",
      "2025-07-17T04:28:05.281933+0000 | compress | METRIC - GPU 0 | usage: 25.07% | total memory: 24 GB\n",
      "2025-07-17T04:28:05.282531+0000 | compress | METRIC - Compressed module size: 8.486912 MB\n",
      "2025-07-17T04:28:05.283141+0000 | compress_modules | INFO - Quantizing model.layers.4.mlp.gate_proj using 512 samples\n",
      "2025-07-17T04:28:06.151439+0000 | compress | METRIC - time 0.87s\n",
      "2025-07-17T04:28:06.152568+0000 | compress | METRIC - error 13298.18\n",
      "2025-07-17T04:28:06.153341+0000 | compress | METRIC - GPU 0 | usage: 25.07% | total memory: 24 GB\n",
      "2025-07-17T04:28:06.153861+0000 | compress | METRIC - Compressed module size: 33.947648 MB\n",
      "2025-07-17T04:28:06.154619+0000 | compress_modules | INFO - Quantizing model.layers.4.mlp.up_proj using 512 samples\n",
      "2025-07-17T04:28:07.024515+0000 | compress | METRIC - time 0.87s\n",
      "2025-07-17T04:28:07.025590+0000 | compress | METRIC - error 203.38\n",
      "2025-07-17T04:28:07.026666+0000 | compress | METRIC - GPU 0 | usage: 25.07% | total memory: 24 GB\n",
      "2025-07-17T04:28:07.027066+0000 | compress | METRIC - Compressed module size: 33.947648 MB\n",
      "2025-07-17T04:28:07.027820+0000 | compress_modules | INFO - Quantizing model.layers.4.mlp.down_proj using 512 samples\n",
      "2025-07-17T04:28:10.615863+0000 | compress | METRIC - time 3.59s\n",
      "2025-07-17T04:28:10.618044+0000 | compress | METRIC - error 470.51\n",
      "2025-07-17T04:28:10.618877+0000 | compress | METRIC - GPU 0 | usage: 25.07% | total memory: 24 GB\n",
      "2025-07-17T04:28:10.619504+0000 | compress | METRIC - Compressed module size: 33.947648 MB\n"
     ]
    },
    {
     "name": "stderr",
     "output_type": "stream",
     "text": [
      "(5/41): Propagating: 100%|██████████| 512/512 [00:01<00:00, 460.89it/s]\n",
      "(6/41): Calibrating: 100%|██████████| 512/512 [00:07<00:00, 66.80it/s]"
     ]
    },
    {
     "name": "stdout",
     "output_type": "stream",
     "text": [
      "2025-07-17T04:28:19.423117+0000 | compress_modules | INFO - Quantizing model.layers.5.self_attn.q_proj using 512 samples\n"
     ]
    },
    {
     "name": "stderr",
     "output_type": "stream",
     "text": [
      "\n"
     ]
    },
    {
     "name": "stdout",
     "output_type": "stream",
     "text": [
      "2025-07-17T04:28:20.249923+0000 | compress | METRIC - time 0.82s\n",
      "2025-07-17T04:28:20.251178+0000 | compress | METRIC - error 28138.86\n",
      "2025-07-17T04:28:20.251871+0000 | compress | METRIC - GPU 0 | usage: 25.07% | total memory: 24 GB\n",
      "2025-07-17T04:28:20.252382+0000 | compress | METRIC - Compressed module size: 8.486912 MB\n",
      "2025-07-17T04:28:20.253171+0000 | compress_modules | INFO - Quantizing model.layers.5.self_attn.k_proj using 512 samples\n",
      "2025-07-17T04:28:21.061378+0000 | compress | METRIC - time 0.81s\n",
      "2025-07-17T04:28:21.062458+0000 | compress | METRIC - error 10117.54\n",
      "2025-07-17T04:28:21.063372+0000 | compress | METRIC - GPU 0 | usage: 25.07% | total memory: 24 GB\n",
      "2025-07-17T04:28:21.063861+0000 | compress | METRIC - Compressed module size: 2.121728 MB\n",
      "2025-07-17T04:28:21.064843+0000 | compress_modules | INFO - Quantizing model.layers.5.self_attn.v_proj using 512 samples\n",
      "2025-07-17T04:28:21.868247+0000 | compress | METRIC - time 0.80s\n",
      "2025-07-17T04:28:21.869560+0000 | compress | METRIC - error 1947.77\n",
      "2025-07-17T04:28:21.870369+0000 | compress | METRIC - GPU 0 | usage: 25.07% | total memory: 24 GB\n",
      "2025-07-17T04:28:21.870877+0000 | compress | METRIC - Compressed module size: 2.121728 MB\n",
      "2025-07-17T04:28:21.871803+0000 | compress_modules | INFO - Quantizing model.layers.5.self_attn.o_proj using 512 samples\n",
      "2025-07-17T04:28:22.687056+0000 | compress | METRIC - time 0.81s\n",
      "2025-07-17T04:28:22.688171+0000 | compress | METRIC - error 170.21\n",
      "2025-07-17T04:28:22.688790+0000 | compress | METRIC - GPU 0 | usage: 25.07% | total memory: 24 GB\n",
      "2025-07-17T04:28:22.689188+0000 | compress | METRIC - Compressed module size: 8.486912 MB\n",
      "2025-07-17T04:28:22.690126+0000 | compress_modules | INFO - Quantizing model.layers.5.mlp.gate_proj using 512 samples\n",
      "2025-07-17T04:28:23.553554+0000 | compress | METRIC - time 0.86s\n",
      "2025-07-17T04:28:23.554697+0000 | compress | METRIC - error 12767.37\n",
      "2025-07-17T04:28:23.555590+0000 | compress | METRIC - GPU 0 | usage: 25.07% | total memory: 24 GB\n",
      "2025-07-17T04:28:23.556089+0000 | compress | METRIC - Compressed module size: 33.947648 MB\n",
      "2025-07-17T04:28:23.556959+0000 | compress_modules | INFO - Quantizing model.layers.5.mlp.up_proj using 512 samples\n",
      "2025-07-17T04:28:24.424343+0000 | compress | METRIC - time 0.87s\n",
      "2025-07-17T04:28:24.425664+0000 | compress | METRIC - error 205.69\n",
      "2025-07-17T04:28:24.426757+0000 | compress | METRIC - GPU 0 | usage: 25.07% | total memory: 24 GB\n",
      "2025-07-17T04:28:24.427303+0000 | compress | METRIC - Compressed module size: 33.947648 MB\n",
      "2025-07-17T04:28:24.428229+0000 | compress_modules | INFO - Quantizing model.layers.5.mlp.down_proj using 512 samples\n",
      "2025-07-17T04:28:28.038513+0000 | compress | METRIC - time 3.61s\n",
      "2025-07-17T04:28:28.040967+0000 | compress | METRIC - error 490.47\n",
      "2025-07-17T04:28:28.041708+0000 | compress | METRIC - GPU 0 | usage: 25.07% | total memory: 24 GB\n",
      "2025-07-17T04:28:28.042469+0000 | compress | METRIC - Compressed module size: 33.947648 MB\n"
     ]
    },
    {
     "name": "stderr",
     "output_type": "stream",
     "text": [
      "(6/41): Propagating: 100%|██████████| 512/512 [00:01<00:00, 457.90it/s]\n",
      "(7/41): Calibrating: 100%|██████████| 512/512 [00:07<00:00, 66.72it/s]"
     ]
    },
    {
     "name": "stdout",
     "output_type": "stream",
     "text": [
      "2025-07-17T04:28:36.862482+0000 | compress_modules | INFO - Quantizing model.layers.6.self_attn.q_proj using 512 samples\n"
     ]
    },
    {
     "name": "stderr",
     "output_type": "stream",
     "text": [
      "\n"
     ]
    },
    {
     "name": "stdout",
     "output_type": "stream",
     "text": [
      "2025-07-17T04:28:37.727374+0000 | compress | METRIC - time 0.86s\n",
      "2025-07-17T04:28:37.728499+0000 | compress | METRIC - error 31424.29\n",
      "2025-07-17T04:28:37.729362+0000 | compress | METRIC - GPU 0 | usage: 25.08% | total memory: 24 GB\n",
      "2025-07-17T04:28:37.729865+0000 | compress | METRIC - Compressed module size: 8.486912 MB\n",
      "2025-07-17T04:28:37.730843+0000 | compress_modules | INFO - Quantizing model.layers.6.self_attn.k_proj using 512 samples\n",
      "2025-07-17T04:28:38.572632+0000 | compress | METRIC - time 0.84s\n",
      "2025-07-17T04:28:38.573814+0000 | compress | METRIC - error 10798.92\n",
      "2025-07-17T04:28:38.574722+0000 | compress | METRIC - GPU 0 | usage: 25.08% | total memory: 24 GB\n",
      "2025-07-17T04:28:38.575189+0000 | compress | METRIC - Compressed module size: 2.121728 MB\n",
      "2025-07-17T04:28:38.576219+0000 | compress_modules | INFO - Quantizing model.layers.6.self_attn.v_proj using 512 samples\n",
      "2025-07-17T04:28:39.415701+0000 | compress | METRIC - time 0.84s\n",
      "2025-07-17T04:28:39.416954+0000 | compress | METRIC - error 2439.84\n",
      "2025-07-17T04:28:39.417703+0000 | compress | METRIC - GPU 0 | usage: 25.08% | total memory: 24 GB\n",
      "2025-07-17T04:28:39.418242+0000 | compress | METRIC - Compressed module size: 2.121728 MB\n",
      "2025-07-17T04:28:39.419237+0000 | compress_modules | INFO - Quantizing model.layers.6.self_attn.o_proj using 512 samples\n",
      "2025-07-17T04:28:40.266696+0000 | compress | METRIC - time 0.85s\n",
      "2025-07-17T04:28:40.267803+0000 | compress | METRIC - error 147.90\n",
      "2025-07-17T04:28:40.268761+0000 | compress | METRIC - GPU 0 | usage: 25.08% | total memory: 24 GB\n",
      "2025-07-17T04:28:40.269277+0000 | compress | METRIC - Compressed module size: 8.486912 MB\n",
      "2025-07-17T04:28:40.270265+0000 | compress_modules | INFO - Quantizing model.layers.6.mlp.gate_proj using 512 samples\n",
      "2025-07-17T04:28:41.167537+0000 | compress | METRIC - time 0.90s\n",
      "2025-07-17T04:28:41.168659+0000 | compress | METRIC - error 12508.83\n",
      "2025-07-17T04:28:41.169515+0000 | compress | METRIC - GPU 0 | usage: 25.08% | total memory: 24 GB\n",
      "2025-07-17T04:28:41.170022+0000 | compress | METRIC - Compressed module size: 33.947648 MB\n",
      "2025-07-17T04:28:41.170897+0000 | compress_modules | INFO - Quantizing model.layers.6.mlp.up_proj using 512 samples\n",
      "2025-07-17T04:28:42.049113+0000 | compress | METRIC - time 0.88s\n",
      "2025-07-17T04:28:42.050126+0000 | compress | METRIC - error 216.23\n",
      "2025-07-17T04:28:42.050992+0000 | compress | METRIC - GPU 0 | usage: 25.08% | total memory: 24 GB\n",
      "2025-07-17T04:28:42.051675+0000 | compress | METRIC - Compressed module size: 33.947648 MB\n",
      "2025-07-17T04:28:42.052429+0000 | compress_modules | INFO - Quantizing model.layers.6.mlp.down_proj using 512 samples\n",
      "2025-07-17T04:28:45.615244+0000 | compress | METRIC - time 3.56s\n",
      "2025-07-17T04:28:45.617394+0000 | compress | METRIC - error 489.15\n",
      "2025-07-17T04:28:45.618270+0000 | compress | METRIC - GPU 0 | usage: 25.08% | total memory: 24 GB\n",
      "2025-07-17T04:28:45.618919+0000 | compress | METRIC - Compressed module size: 33.947648 MB\n"
     ]
    },
    {
     "name": "stderr",
     "output_type": "stream",
     "text": [
      "(7/41): Propagating: 100%|██████████| 512/512 [00:01<00:00, 462.57it/s]\n",
      "(8/41): Calibrating: 100%|██████████| 512/512 [00:07<00:00, 66.98it/s]"
     ]
    },
    {
     "name": "stdout",
     "output_type": "stream",
     "text": [
      "2025-07-17T04:28:54.391185+0000 | compress_modules | INFO - Quantizing model.layers.7.self_attn.q_proj using 512 samples\n"
     ]
    },
    {
     "name": "stderr",
     "output_type": "stream",
     "text": [
      "\n"
     ]
    },
    {
     "name": "stdout",
     "output_type": "stream",
     "text": [
      "2025-07-17T04:28:55.217944+0000 | compress | METRIC - time 0.82s\n",
      "2025-07-17T04:28:55.219189+0000 | compress | METRIC - error 31715.43\n",
      "2025-07-17T04:28:55.219948+0000 | compress | METRIC - GPU 0 | usage: 25.07% | total memory: 24 GB\n",
      "2025-07-17T04:28:55.220448+0000 | compress | METRIC - Compressed module size: 8.486912 MB\n",
      "2025-07-17T04:28:55.221186+0000 | compress_modules | INFO - Quantizing model.layers.7.self_attn.k_proj using 512 samples\n",
      "2025-07-17T04:28:56.026360+0000 | compress | METRIC - time 0.80s\n",
      "2025-07-17T04:28:56.027509+0000 | compress | METRIC - error 10376.40\n",
      "2025-07-17T04:28:56.028157+0000 | compress | METRIC - GPU 0 | usage: 25.07% | total memory: 24 GB\n",
      "2025-07-17T04:28:56.028910+0000 | compress | METRIC - Compressed module size: 2.121728 MB\n",
      "2025-07-17T04:28:56.029564+0000 | compress_modules | INFO - Quantizing model.layers.7.self_attn.v_proj using 512 samples\n",
      "2025-07-17T04:28:56.841180+0000 | compress | METRIC - time 0.81s\n",
      "2025-07-17T04:28:56.842257+0000 | compress | METRIC - error 1770.92\n",
      "2025-07-17T04:28:56.843021+0000 | compress | METRIC - GPU 0 | usage: 25.07% | total memory: 24 GB\n",
      "2025-07-17T04:28:56.843485+0000 | compress | METRIC - Compressed module size: 2.121728 MB\n",
      "2025-07-17T04:28:56.844260+0000 | compress_modules | INFO - Quantizing model.layers.7.self_attn.o_proj using 512 samples\n",
      "2025-07-17T04:28:57.669544+0000 | compress | METRIC - time 0.82s\n",
      "2025-07-17T04:28:57.670622+0000 | compress | METRIC - error 130.56\n",
      "2025-07-17T04:28:57.671534+0000 | compress | METRIC - GPU 0 | usage: 25.07% | total memory: 24 GB\n",
      "2025-07-17T04:28:57.672007+0000 | compress | METRIC - Compressed module size: 8.486912 MB\n",
      "2025-07-17T04:28:57.673069+0000 | compress_modules | INFO - Quantizing model.layers.7.mlp.gate_proj using 512 samples\n",
      "2025-07-17T04:28:58.566151+0000 | compress | METRIC - time 0.89s\n",
      "2025-07-17T04:28:58.567251+0000 | compress | METRIC - error 11670.71\n",
      "2025-07-17T04:28:58.568027+0000 | compress | METRIC - GPU 0 | usage: 25.07% | total memory: 24 GB\n",
      "2025-07-17T04:28:58.568464+0000 | compress | METRIC - Compressed module size: 33.947648 MB\n",
      "2025-07-17T04:28:58.569233+0000 | compress_modules | INFO - Quantizing model.layers.7.mlp.up_proj using 512 samples\n",
      "2025-07-17T04:28:59.461116+0000 | compress | METRIC - time 0.89s\n",
      "2025-07-17T04:28:59.462256+0000 | compress | METRIC - error 221.56\n",
      "2025-07-17T04:28:59.463408+0000 | compress | METRIC - GPU 0 | usage: 25.07% | total memory: 24 GB\n",
      "2025-07-17T04:28:59.463908+0000 | compress | METRIC - Compressed module size: 33.947648 MB\n",
      "2025-07-17T04:28:59.464866+0000 | compress_modules | INFO - Quantizing model.layers.7.mlp.down_proj using 512 samples\n",
      "2025-07-17T04:29:03.121208+0000 | compress | METRIC - time 3.66s\n",
      "2025-07-17T04:29:03.123294+0000 | compress | METRIC - error 587.90\n",
      "2025-07-17T04:29:03.124079+0000 | compress | METRIC - GPU 0 | usage: 25.07% | total memory: 24 GB\n",
      "2025-07-17T04:29:03.124512+0000 | compress | METRIC - Compressed module size: 33.947648 MB\n"
     ]
    },
    {
     "name": "stderr",
     "output_type": "stream",
     "text": [
      "(8/41): Propagating: 100%|██████████| 512/512 [00:01<00:00, 453.85it/s]\n",
      "(9/41): Calibrating: 100%|██████████| 512/512 [00:07<00:00, 66.70it/s]"
     ]
    },
    {
     "name": "stdout",
     "output_type": "stream",
     "text": [
      "2025-07-17T04:29:11.949691+0000 | compress_modules | INFO - Quantizing model.layers.8.self_attn.q_proj using 512 samples\n"
     ]
    },
    {
     "name": "stderr",
     "output_type": "stream",
     "text": [
      "\n"
     ]
    },
    {
     "name": "stdout",
     "output_type": "stream",
     "text": [
      "2025-07-17T04:29:12.817098+0000 | compress | METRIC - time 0.87s\n",
      "2025-07-17T04:29:12.818164+0000 | compress | METRIC - error 26619.54\n",
      "2025-07-17T04:29:12.819131+0000 | compress | METRIC - GPU 0 | usage: 25.08% | total memory: 24 GB\n",
      "2025-07-17T04:29:12.819709+0000 | compress | METRIC - Compressed module size: 8.486912 MB\n",
      "2025-07-17T04:29:12.820454+0000 | compress_modules | INFO - Quantizing model.layers.8.self_attn.k_proj using 512 samples\n",
      "2025-07-17T04:29:13.660209+0000 | compress | METRIC - time 0.84s\n",
      "2025-07-17T04:29:13.661337+0000 | compress | METRIC - error 10806.31\n",
      "2025-07-17T04:29:13.662525+0000 | compress | METRIC - GPU 0 | usage: 25.08% | total memory: 24 GB\n",
      "2025-07-17T04:29:13.662957+0000 | compress | METRIC - Compressed module size: 2.121728 MB\n",
      "2025-07-17T04:29:13.663702+0000 | compress_modules | INFO - Quantizing model.layers.8.self_attn.v_proj using 512 samples\n",
      "2025-07-17T04:29:14.500145+0000 | compress | METRIC - time 0.84s\n",
      "2025-07-17T04:29:14.501228+0000 | compress | METRIC - error 2374.31\n",
      "2025-07-17T04:29:14.501858+0000 | compress | METRIC - GPU 0 | usage: 25.08% | total memory: 24 GB\n",
      "2025-07-17T04:29:14.502600+0000 | compress | METRIC - Compressed module size: 2.121728 MB\n",
      "2025-07-17T04:29:14.503288+0000 | compress_modules | INFO - Quantizing model.layers.8.self_attn.o_proj using 512 samples\n",
      "2025-07-17T04:29:15.348578+0000 | compress | METRIC - time 0.84s\n",
      "2025-07-17T04:29:15.349646+0000 | compress | METRIC - error 242.68\n",
      "2025-07-17T04:29:15.350355+0000 | compress | METRIC - GPU 0 | usage: 25.08% | total memory: 24 GB\n",
      "2025-07-17T04:29:15.350796+0000 | compress | METRIC - Compressed module size: 8.486912 MB\n",
      "2025-07-17T04:29:15.351527+0000 | compress_modules | INFO - Quantizing model.layers.8.mlp.gate_proj using 512 samples\n",
      "2025-07-17T04:29:16.232245+0000 | compress | METRIC - time 0.88s\n",
      "2025-07-17T04:29:16.233304+0000 | compress | METRIC - error 15756.07\n",
      "2025-07-17T04:29:16.234061+0000 | compress | METRIC - GPU 0 | usage: 25.08% | total memory: 24 GB\n",
      "2025-07-17T04:29:16.234474+0000 | compress | METRIC - Compressed module size: 33.947648 MB\n",
      "2025-07-17T04:29:16.235205+0000 | compress_modules | INFO - Quantizing model.layers.8.mlp.up_proj using 512 samples\n",
      "2025-07-17T04:29:17.113201+0000 | compress | METRIC - time 0.88s\n",
      "2025-07-17T04:29:17.114229+0000 | compress | METRIC - error 231.64\n",
      "2025-07-17T04:29:17.115068+0000 | compress | METRIC - GPU 0 | usage: 25.08% | total memory: 24 GB\n",
      "2025-07-17T04:29:17.115484+0000 | compress | METRIC - Compressed module size: 33.947648 MB\n",
      "2025-07-17T04:29:17.116216+0000 | compress_modules | INFO - Quantizing model.layers.8.mlp.down_proj using 512 samples\n",
      "2025-07-17T04:29:20.718605+0000 | compress | METRIC - time 3.60s\n",
      "2025-07-17T04:29:20.720849+0000 | compress | METRIC - error 2912603.75\n",
      "2025-07-17T04:29:20.721592+0000 | compress | METRIC - GPU 0 | usage: 25.08% | total memory: 24 GB\n",
      "2025-07-17T04:29:20.722020+0000 | compress | METRIC - Compressed module size: 33.947648 MB\n"
     ]
    },
    {
     "name": "stderr",
     "output_type": "stream",
     "text": [
      "(9/41): Propagating: 100%|██████████| 512/512 [00:01<00:00, 456.63it/s]\n",
      "(10/41): Calibrating: 100%|██████████| 512/512 [00:07<00:00, 66.69it/s]"
     ]
    },
    {
     "name": "stdout",
     "output_type": "stream",
     "text": [
      "2025-07-17T04:29:29.547159+0000 | compress_modules | INFO - Quantizing model.layers.9.self_attn.q_proj using 512 samples\n"
     ]
    },
    {
     "name": "stderr",
     "output_type": "stream",
     "text": [
      "\n"
     ]
    },
    {
     "name": "stdout",
     "output_type": "stream",
     "text": [
      "2025-07-17T04:29:30.395879+0000 | compress | METRIC - time 0.85s\n",
      "2025-07-17T04:29:30.396946+0000 | compress | METRIC - error 36707.75\n",
      "2025-07-17T04:29:30.397887+0000 | compress | METRIC - GPU 0 | usage: 25.08% | total memory: 24 GB\n",
      "2025-07-17T04:29:30.398373+0000 | compress | METRIC - Compressed module size: 8.486912 MB\n",
      "2025-07-17T04:29:30.399303+0000 | compress_modules | INFO - Quantizing model.layers.9.self_attn.k_proj using 512 samples\n",
      "2025-07-17T04:29:31.230916+0000 | compress | METRIC - time 0.83s\n",
      "2025-07-17T04:29:31.231975+0000 | compress | METRIC - error 13270.29\n",
      "2025-07-17T04:29:31.232821+0000 | compress | METRIC - GPU 0 | usage: 25.08% | total memory: 24 GB\n",
      "2025-07-17T04:29:31.233261+0000 | compress | METRIC - Compressed module size: 2.121728 MB\n",
      "2025-07-17T04:29:31.234197+0000 | compress_modules | INFO - Quantizing model.layers.9.self_attn.v_proj using 512 samples\n",
      "2025-07-17T04:29:32.068814+0000 | compress | METRIC - time 0.83s\n",
      "2025-07-17T04:29:32.069883+0000 | compress | METRIC - error 1509.52\n",
      "2025-07-17T04:29:32.070704+0000 | compress | METRIC - GPU 0 | usage: 25.08% | total memory: 24 GB\n",
      "2025-07-17T04:29:32.071170+0000 | compress | METRIC - Compressed module size: 2.121728 MB\n",
      "2025-07-17T04:29:32.071951+0000 | compress_modules | INFO - Quantizing model.layers.9.self_attn.o_proj using 512 samples\n",
      "2025-07-17T04:29:32.915807+0000 | compress | METRIC - time 0.84s\n",
      "2025-07-17T04:29:32.916829+0000 | compress | METRIC - error 187.65\n",
      "2025-07-17T04:29:32.917684+0000 | compress | METRIC - GPU 0 | usage: 25.08% | total memory: 24 GB\n",
      "2025-07-17T04:29:32.918295+0000 | compress | METRIC - Compressed module size: 8.486912 MB\n",
      "2025-07-17T04:29:32.918942+0000 | compress_modules | INFO - Quantizing model.layers.9.mlp.gate_proj using 512 samples\n",
      "2025-07-17T04:29:33.794146+0000 | compress | METRIC - time 0.87s\n",
      "2025-07-17T04:29:33.795285+0000 | compress | METRIC - error 10446.51\n",
      "2025-07-17T04:29:33.796049+0000 | compress | METRIC - GPU 0 | usage: 25.08% | total memory: 24 GB\n",
      "2025-07-17T04:29:33.796558+0000 | compress | METRIC - Compressed module size: 33.947648 MB\n",
      "2025-07-17T04:29:33.797330+0000 | compress_modules | INFO - Quantizing model.layers.9.mlp.up_proj using 512 samples\n",
      "2025-07-17T04:29:34.669116+0000 | compress | METRIC - time 0.87s\n",
      "2025-07-17T04:29:34.670248+0000 | compress | METRIC - error 211.54\n",
      "2025-07-17T04:29:34.671378+0000 | compress | METRIC - GPU 0 | usage: 25.08% | total memory: 24 GB\n",
      "2025-07-17T04:29:34.671902+0000 | compress | METRIC - Compressed module size: 33.947648 MB\n",
      "2025-07-17T04:29:34.672785+0000 | compress_modules | INFO - Quantizing model.layers.9.mlp.down_proj using 512 samples\n",
      "2025-07-17T04:29:38.315955+0000 | compress | METRIC - time 3.64s\n",
      "2025-07-17T04:29:38.318010+0000 | compress | METRIC - error 553.98\n",
      "2025-07-17T04:29:38.318796+0000 | compress | METRIC - GPU 0 | usage: 25.08% | total memory: 24 GB\n",
      "2025-07-17T04:29:38.319309+0000 | compress | METRIC - Compressed module size: 33.947648 MB\n"
     ]
    },
    {
     "name": "stderr",
     "output_type": "stream",
     "text": [
      "(10/41): Propagating: 100%|██████████| 512/512 [00:01<00:00, 456.70it/s]\n",
      "(11/41): Calibrating: 100%|██████████| 512/512 [00:07<00:00, 66.70it/s]"
     ]
    },
    {
     "name": "stdout",
     "output_type": "stream",
     "text": [
      "2025-07-17T04:29:47.143683+0000 | compress_modules | INFO - Quantizing model.layers.10.self_attn.q_proj using 512 samples\n"
     ]
    },
    {
     "name": "stderr",
     "output_type": "stream",
     "text": [
      "\n"
     ]
    },
    {
     "name": "stdout",
     "output_type": "stream",
     "text": [
      "2025-07-17T04:29:47.968795+0000 | compress | METRIC - time 0.82s\n",
      "2025-07-17T04:29:47.969959+0000 | compress | METRIC - error 32072.78\n",
      "2025-07-17T04:29:47.970820+0000 | compress | METRIC - GPU 0 | usage: 25.08% | total memory: 24 GB\n",
      "2025-07-17T04:29:47.971429+0000 | compress | METRIC - Compressed module size: 8.486912 MB\n",
      "2025-07-17T04:29:47.972147+0000 | compress_modules | INFO - Quantizing model.layers.10.self_attn.k_proj using 512 samples\n",
      "2025-07-17T04:29:48.783714+0000 | compress | METRIC - time 0.81s\n",
      "2025-07-17T04:29:48.784804+0000 | compress | METRIC - error 11672.78\n",
      "2025-07-17T04:29:48.785378+0000 | compress | METRIC - GPU 0 | usage: 25.08% | total memory: 24 GB\n",
      "2025-07-17T04:29:48.786022+0000 | compress | METRIC - Compressed module size: 2.121728 MB\n",
      "2025-07-17T04:29:48.786659+0000 | compress_modules | INFO - Quantizing model.layers.10.self_attn.v_proj using 512 samples\n",
      "2025-07-17T04:29:49.599772+0000 | compress | METRIC - time 0.81s\n",
      "2025-07-17T04:29:49.601026+0000 | compress | METRIC - error 2159.36\n",
      "2025-07-17T04:29:49.601686+0000 | compress | METRIC - GPU 0 | usage: 25.08% | total memory: 24 GB\n",
      "2025-07-17T04:29:49.602151+0000 | compress | METRIC - Compressed module size: 2.121728 MB\n",
      "2025-07-17T04:29:49.603022+0000 | compress_modules | INFO - Quantizing model.layers.10.self_attn.o_proj using 512 samples\n",
      "2025-07-17T04:29:50.421112+0000 | compress | METRIC - time 0.82s\n",
      "2025-07-17T04:29:50.422150+0000 | compress | METRIC - error 205.24\n",
      "2025-07-17T04:29:50.422911+0000 | compress | METRIC - GPU 0 | usage: 25.08% | total memory: 24 GB\n",
      "2025-07-17T04:29:50.423312+0000 | compress | METRIC - Compressed module size: 8.486912 MB\n",
      "2025-07-17T04:29:50.424087+0000 | compress_modules | INFO - Quantizing model.layers.10.mlp.gate_proj using 512 samples\n",
      "2025-07-17T04:29:51.286704+0000 | compress | METRIC - time 0.86s\n",
      "2025-07-17T04:29:51.287769+0000 | compress | METRIC - error 11532.98\n",
      "2025-07-17T04:29:51.288446+0000 | compress | METRIC - GPU 0 | usage: 25.08% | total memory: 24 GB\n",
      "2025-07-17T04:29:51.288815+0000 | compress | METRIC - Compressed module size: 33.947648 MB\n",
      "2025-07-17T04:29:51.289593+0000 | compress_modules | INFO - Quantizing model.layers.10.mlp.up_proj using 512 samples\n",
      "2025-07-17T04:29:52.152782+0000 | compress | METRIC - time 0.86s\n",
      "2025-07-17T04:29:52.153903+0000 | compress | METRIC - error 231.74\n",
      "2025-07-17T04:29:52.154832+0000 | compress | METRIC - GPU 0 | usage: 25.08% | total memory: 24 GB\n",
      "2025-07-17T04:29:52.155332+0000 | compress | METRIC - Compressed module size: 33.947648 MB\n",
      "2025-07-17T04:29:52.156250+0000 | compress_modules | INFO - Quantizing model.layers.10.mlp.down_proj using 512 samples\n",
      "2025-07-17T04:29:55.770570+0000 | compress | METRIC - time 3.61s\n",
      "2025-07-17T04:29:55.773094+0000 | compress | METRIC - error 637.10\n",
      "2025-07-17T04:29:55.773656+0000 | compress | METRIC - GPU 0 | usage: 25.08% | total memory: 24 GB\n",
      "2025-07-17T04:29:55.774069+0000 | compress | METRIC - Compressed module size: 33.947648 MB\n"
     ]
    },
    {
     "name": "stderr",
     "output_type": "stream",
     "text": [
      "(11/41): Propagating: 100%|██████████| 512/512 [00:01<00:00, 456.40it/s]\n",
      "(12/41): Calibrating: 100%|██████████| 512/512 [00:07<00:00, 66.87it/s]"
     ]
    },
    {
     "name": "stdout",
     "output_type": "stream",
     "text": [
      "2025-07-17T04:30:04.579915+0000 | compress_modules | INFO - Quantizing model.layers.11.self_attn.q_proj using 512 samples\n"
     ]
    },
    {
     "name": "stderr",
     "output_type": "stream",
     "text": [
      "\n"
     ]
    },
    {
     "name": "stdout",
     "output_type": "stream",
     "text": [
      "2025-07-17T04:30:05.419654+0000 | compress | METRIC - time 0.84s\n",
      "2025-07-17T04:30:05.420790+0000 | compress | METRIC - error 31032.87\n",
      "2025-07-17T04:30:05.421703+0000 | compress | METRIC - GPU 0 | usage: 25.08% | total memory: 24 GB\n",
      "2025-07-17T04:30:05.422172+0000 | compress | METRIC - Compressed module size: 8.486912 MB\n",
      "2025-07-17T04:30:05.422910+0000 | compress_modules | INFO - Quantizing model.layers.11.self_attn.k_proj using 512 samples\n",
      "2025-07-17T04:30:06.238655+0000 | compress | METRIC - time 0.82s\n",
      "2025-07-17T04:30:06.239568+0000 | compress | METRIC - error 12427.48\n",
      "2025-07-17T04:30:06.240212+0000 | compress | METRIC - GPU 0 | usage: 25.08% | total memory: 24 GB\n",
      "2025-07-17T04:30:06.240747+0000 | compress | METRIC - Compressed module size: 2.121728 MB\n",
      "2025-07-17T04:30:06.241358+0000 | compress_modules | INFO - Quantizing model.layers.11.self_attn.v_proj using 512 samples\n",
      "2025-07-17T04:30:07.054716+0000 | compress | METRIC - time 0.81s\n",
      "2025-07-17T04:30:07.056067+0000 | compress | METRIC - error 1741.95\n",
      "2025-07-17T04:30:07.056765+0000 | compress | METRIC - GPU 0 | usage: 25.08% | total memory: 24 GB\n",
      "2025-07-17T04:30:07.057215+0000 | compress | METRIC - Compressed module size: 2.121728 MB\n",
      "2025-07-17T04:30:07.057934+0000 | compress_modules | INFO - Quantizing model.layers.11.self_attn.o_proj using 512 samples\n",
      "2025-07-17T04:30:07.877810+0000 | compress | METRIC - time 0.82s\n",
      "2025-07-17T04:30:07.878981+0000 | compress | METRIC - error 306.38\n",
      "2025-07-17T04:30:07.879787+0000 | compress | METRIC - GPU 0 | usage: 25.08% | total memory: 24 GB\n",
      "2025-07-17T04:30:07.880174+0000 | compress | METRIC - Compressed module size: 8.486912 MB\n",
      "2025-07-17T04:30:07.880893+0000 | compress_modules | INFO - Quantizing model.layers.11.mlp.gate_proj using 512 samples\n",
      "2025-07-17T04:30:08.750814+0000 | compress | METRIC - time 0.87s\n",
      "2025-07-17T04:30:08.751882+0000 | compress | METRIC - error 9362.71\n",
      "2025-07-17T04:30:08.752660+0000 | compress | METRIC - GPU 0 | usage: 25.08% | total memory: 24 GB\n",
      "2025-07-17T04:30:08.753062+0000 | compress | METRIC - Compressed module size: 33.947648 MB\n",
      "2025-07-17T04:30:08.753821+0000 | compress_modules | INFO - Quantizing model.layers.11.mlp.up_proj using 512 samples\n",
      "2025-07-17T04:30:09.611459+0000 | compress | METRIC - time 0.86s\n",
      "2025-07-17T04:30:09.612615+0000 | compress | METRIC - error 223.46\n",
      "2025-07-17T04:30:09.613923+0000 | compress | METRIC - GPU 0 | usage: 25.08% | total memory: 24 GB\n",
      "2025-07-17T04:30:09.614399+0000 | compress | METRIC - Compressed module size: 33.947648 MB\n",
      "2025-07-17T04:30:09.615118+0000 | compress_modules | INFO - Quantizing model.layers.11.mlp.down_proj using 512 samples\n",
      "2025-07-17T04:30:13.160522+0000 | compress | METRIC - time 3.54s\n",
      "2025-07-17T04:30:13.162897+0000 | compress | METRIC - error 706.64\n",
      "2025-07-17T04:30:13.163748+0000 | compress | METRIC - GPU 0 | usage: 25.08% | total memory: 24 GB\n",
      "2025-07-17T04:30:13.164373+0000 | compress | METRIC - Compressed module size: 33.947648 MB\n"
     ]
    },
    {
     "name": "stderr",
     "output_type": "stream",
     "text": [
      "(12/41): Propagating: 100%|██████████| 512/512 [00:01<00:00, 458.86it/s]\n",
      "(13/41): Calibrating: 100%|██████████| 512/512 [00:07<00:00, 66.80it/s]"
     ]
    },
    {
     "name": "stdout",
     "output_type": "stream",
     "text": [
      "2025-07-17T04:30:21.971653+0000 | compress_modules | INFO - Quantizing model.layers.12.self_attn.q_proj using 512 samples\n"
     ]
    },
    {
     "name": "stderr",
     "output_type": "stream",
     "text": [
      "\n"
     ]
    },
    {
     "name": "stdout",
     "output_type": "stream",
     "text": [
      "2025-07-17T04:30:22.787305+0000 | compress | METRIC - time 0.81s\n",
      "2025-07-17T04:30:22.788469+0000 | compress | METRIC - error 46894.30\n",
      "2025-07-17T04:30:22.789379+0000 | compress | METRIC - GPU 0 | usage: 25.07% | total memory: 24 GB\n",
      "2025-07-17T04:30:22.789887+0000 | compress | METRIC - Compressed module size: 8.486912 MB\n",
      "2025-07-17T04:30:22.790680+0000 | compress_modules | INFO - Quantizing model.layers.12.self_attn.k_proj using 512 samples\n",
      "2025-07-17T04:30:23.588008+0000 | compress | METRIC - time 0.80s\n",
      "2025-07-17T04:30:23.589302+0000 | compress | METRIC - error 23200.22\n",
      "2025-07-17T04:30:23.590203+0000 | compress | METRIC - GPU 0 | usage: 25.07% | total memory: 24 GB\n",
      "2025-07-17T04:30:23.590735+0000 | compress | METRIC - Compressed module size: 2.121728 MB\n",
      "2025-07-17T04:30:23.591760+0000 | compress_modules | INFO - Quantizing model.layers.12.self_attn.v_proj using 512 samples\n",
      "2025-07-17T04:30:24.402627+0000 | compress | METRIC - time 0.81s\n",
      "2025-07-17T04:30:24.403710+0000 | compress | METRIC - error 1877.88\n",
      "2025-07-17T04:30:24.404714+0000 | compress | METRIC - GPU 0 | usage: 25.07% | total memory: 24 GB\n",
      "2025-07-17T04:30:24.405466+0000 | compress | METRIC - Compressed module size: 2.121728 MB\n",
      "2025-07-17T04:30:24.406257+0000 | compress_modules | INFO - Quantizing model.layers.12.self_attn.o_proj using 512 samples\n",
      "2025-07-17T04:30:25.236526+0000 | compress | METRIC - time 0.83s\n",
      "2025-07-17T04:30:25.237669+0000 | compress | METRIC - error 287.39\n",
      "2025-07-17T04:30:25.238726+0000 | compress | METRIC - GPU 0 | usage: 25.07% | total memory: 24 GB\n",
      "2025-07-17T04:30:25.239278+0000 | compress | METRIC - Compressed module size: 8.486912 MB\n",
      "2025-07-17T04:30:25.240245+0000 | compress_modules | INFO - Quantizing model.layers.12.mlp.gate_proj using 512 samples\n",
      "2025-07-17T04:30:26.122094+0000 | compress | METRIC - time 0.88s\n",
      "2025-07-17T04:30:26.123248+0000 | compress | METRIC - error 10222.93\n",
      "2025-07-17T04:30:26.124267+0000 | compress | METRIC - GPU 0 | usage: 25.07% | total memory: 24 GB\n",
      "2025-07-17T04:30:26.124791+0000 | compress | METRIC - Compressed module size: 33.947648 MB\n",
      "2025-07-17T04:30:26.125680+0000 | compress_modules | INFO - Quantizing model.layers.12.mlp.up_proj using 512 samples\n",
      "2025-07-17T04:30:27.019949+0000 | compress | METRIC - time 0.89s\n",
      "2025-07-17T04:30:27.021087+0000 | compress | METRIC - error 237.66\n",
      "2025-07-17T04:30:27.021766+0000 | compress | METRIC - GPU 0 | usage: 25.07% | total memory: 24 GB\n",
      "2025-07-17T04:30:27.022223+0000 | compress | METRIC - Compressed module size: 33.947648 MB\n",
      "2025-07-17T04:30:27.023241+0000 | compress_modules | INFO - Quantizing model.layers.12.mlp.down_proj using 512 samples\n",
      "2025-07-17T04:30:30.659240+0000 | compress | METRIC - time 3.64s\n",
      "2025-07-17T04:30:30.661347+0000 | compress | METRIC - error 736.61\n",
      "2025-07-17T04:30:30.662045+0000 | compress | METRIC - GPU 0 | usage: 25.07% | total memory: 24 GB\n",
      "2025-07-17T04:30:30.662618+0000 | compress | METRIC - Compressed module size: 33.947648 MB\n"
     ]
    },
    {
     "name": "stderr",
     "output_type": "stream",
     "text": [
      "(13/41): Propagating: 100%|██████████| 512/512 [00:01<00:00, 459.87it/s]\n",
      "(14/41): Calibrating: 100%|██████████| 512/512 [00:07<00:00, 66.67it/s]"
     ]
    },
    {
     "name": "stdout",
     "output_type": "stream",
     "text": [
      "2025-07-17T04:30:39.484367+0000 | compress_modules | INFO - Quantizing model.layers.13.self_attn.q_proj using 512 samples\n"
     ]
    },
    {
     "name": "stderr",
     "output_type": "stream",
     "text": [
      "\n"
     ]
    },
    {
     "name": "stdout",
     "output_type": "stream",
     "text": [
      "2025-07-17T04:30:40.298482+0000 | compress | METRIC - time 0.81s\n",
      "2025-07-17T04:30:40.299615+0000 | compress | METRIC - error 46320.20\n",
      "2025-07-17T04:30:40.301128+0000 | compress | METRIC - GPU 0 | usage: 25.07% | total memory: 24 GB\n",
      "2025-07-17T04:30:40.301593+0000 | compress | METRIC - Compressed module size: 8.486912 MB\n",
      "2025-07-17T04:30:40.302281+0000 | compress_modules | INFO - Quantizing model.layers.13.self_attn.k_proj using 512 samples\n",
      "2025-07-17T04:30:41.095363+0000 | compress | METRIC - time 0.79s\n",
      "2025-07-17T04:30:41.096506+0000 | compress | METRIC - error 23099.65\n",
      "2025-07-17T04:30:41.097206+0000 | compress | METRIC - GPU 0 | usage: 25.07% | total memory: 24 GB\n",
      "2025-07-17T04:30:41.097671+0000 | compress | METRIC - Compressed module size: 2.121728 MB\n",
      "2025-07-17T04:30:41.098338+0000 | compress_modules | INFO - Quantizing model.layers.13.self_attn.v_proj using 512 samples\n",
      "2025-07-17T04:30:41.894459+0000 | compress | METRIC - time 0.80s\n",
      "2025-07-17T04:30:41.895523+0000 | compress | METRIC - error 2391.80\n",
      "2025-07-17T04:30:41.896197+0000 | compress | METRIC - GPU 0 | usage: 25.07% | total memory: 24 GB\n",
      "2025-07-17T04:30:41.896659+0000 | compress | METRIC - Compressed module size: 2.121728 MB\n",
      "2025-07-17T04:30:41.897344+0000 | compress_modules | INFO - Quantizing model.layers.13.self_attn.o_proj using 512 samples\n",
      "2025-07-17T04:30:42.710746+0000 | compress | METRIC - time 0.81s\n",
      "2025-07-17T04:30:42.711875+0000 | compress | METRIC - error 301.10\n",
      "2025-07-17T04:30:42.712592+0000 | compress | METRIC - GPU 0 | usage: 25.07% | total memory: 24 GB\n",
      "2025-07-17T04:30:42.713006+0000 | compress | METRIC - Compressed module size: 8.486912 MB\n",
      "2025-07-17T04:30:42.713726+0000 | compress_modules | INFO - Quantizing model.layers.13.mlp.gate_proj using 512 samples\n",
      "2025-07-17T04:30:43.555125+0000 | compress | METRIC - time 0.84s\n",
      "2025-07-17T04:30:43.556251+0000 | compress | METRIC - error 9767.38\n",
      "2025-07-17T04:30:43.557149+0000 | compress | METRIC - GPU 0 | usage: 25.07% | total memory: 24 GB\n",
      "2025-07-17T04:30:43.557803+0000 | compress | METRIC - Compressed module size: 33.947648 MB\n",
      "2025-07-17T04:30:43.558490+0000 | compress_modules | INFO - Quantizing model.layers.13.mlp.up_proj using 512 samples\n",
      "2025-07-17T04:30:44.393007+0000 | compress | METRIC - time 0.83s\n",
      "2025-07-17T04:30:44.394185+0000 | compress | METRIC - error 244.29\n",
      "2025-07-17T04:30:44.395029+0000 | compress | METRIC - GPU 0 | usage: 25.07% | total memory: 24 GB\n",
      "2025-07-17T04:30:44.395624+0000 | compress | METRIC - Compressed module size: 33.947648 MB\n",
      "2025-07-17T04:30:44.396268+0000 | compress_modules | INFO - Quantizing model.layers.13.mlp.down_proj using 512 samples\n",
      "2025-07-17T04:30:47.919800+0000 | compress | METRIC - time 3.52s\n",
      "2025-07-17T04:30:47.922248+0000 | compress | METRIC - error 838.70\n",
      "2025-07-17T04:30:47.922890+0000 | compress | METRIC - GPU 0 | usage: 25.07% | total memory: 24 GB\n",
      "2025-07-17T04:30:47.923465+0000 | compress | METRIC - Compressed module size: 33.947648 MB\n"
     ]
    },
    {
     "name": "stderr",
     "output_type": "stream",
     "text": [
      "(14/41): Propagating: 100%|██████████| 512/512 [00:01<00:00, 461.23it/s]\n",
      "(15/41): Calibrating: 100%|██████████| 512/512 [00:07<00:00, 67.30it/s]"
     ]
    },
    {
     "name": "stdout",
     "output_type": "stream",
     "text": [
      "2025-07-17T04:30:56.669044+0000 | compress_modules | INFO - Quantizing model.layers.14.self_attn.q_proj using 512 samples\n"
     ]
    },
    {
     "name": "stderr",
     "output_type": "stream",
     "text": [
      "\n"
     ]
    },
    {
     "name": "stdout",
     "output_type": "stream",
     "text": [
      "2025-07-17T04:30:57.537166+0000 | compress | METRIC - time 0.87s\n",
      "2025-07-17T04:30:57.538264+0000 | compress | METRIC - error 48043.87\n",
      "2025-07-17T04:30:57.538984+0000 | compress | METRIC - GPU 0 | usage: 25.07% | total memory: 24 GB\n",
      "2025-07-17T04:30:57.539445+0000 | compress | METRIC - Compressed module size: 8.486912 MB\n",
      "2025-07-17T04:30:57.540337+0000 | compress_modules | INFO - Quantizing model.layers.14.self_attn.k_proj using 512 samples\n",
      "2025-07-17T04:30:58.354673+0000 | compress | METRIC - time 0.81s\n",
      "2025-07-17T04:30:58.355822+0000 | compress | METRIC - error 24123.07\n",
      "2025-07-17T04:30:58.356713+0000 | compress | METRIC - GPU 0 | usage: 25.07% | total memory: 24 GB\n",
      "2025-07-17T04:30:58.357229+0000 | compress | METRIC - Compressed module size: 2.121728 MB\n",
      "2025-07-17T04:30:58.358204+0000 | compress_modules | INFO - Quantizing model.layers.14.self_attn.v_proj using 512 samples\n",
      "2025-07-17T04:30:59.199179+0000 | compress | METRIC - time 0.84s\n",
      "2025-07-17T04:30:59.200252+0000 | compress | METRIC - error 2685.02\n",
      "2025-07-17T04:30:59.200994+0000 | compress | METRIC - GPU 0 | usage: 25.07% | total memory: 24 GB\n",
      "2025-07-17T04:30:59.201623+0000 | compress | METRIC - Compressed module size: 2.121728 MB\n",
      "2025-07-17T04:30:59.202364+0000 | compress_modules | INFO - Quantizing model.layers.14.self_attn.o_proj using 512 samples\n",
      "2025-07-17T04:31:00.045862+0000 | compress | METRIC - time 0.84s\n",
      "2025-07-17T04:31:00.047026+0000 | compress | METRIC - error 315.05\n",
      "2025-07-17T04:31:00.047784+0000 | compress | METRIC - GPU 0 | usage: 25.07% | total memory: 24 GB\n",
      "2025-07-17T04:31:00.048194+0000 | compress | METRIC - Compressed module size: 8.486912 MB\n",
      "2025-07-17T04:31:00.048905+0000 | compress_modules | INFO - Quantizing model.layers.14.mlp.gate_proj using 512 samples\n",
      "2025-07-17T04:31:00.939725+0000 | compress | METRIC - time 0.89s\n",
      "2025-07-17T04:31:00.940843+0000 | compress | METRIC - error 10341.10\n",
      "2025-07-17T04:31:00.941552+0000 | compress | METRIC - GPU 0 | usage: 25.07% | total memory: 24 GB\n",
      "2025-07-17T04:31:00.941996+0000 | compress | METRIC - Compressed module size: 33.947648 MB\n",
      "2025-07-17T04:31:00.942821+0000 | compress_modules | INFO - Quantizing model.layers.14.mlp.up_proj using 512 samples\n",
      "2025-07-17T04:31:01.797519+0000 | compress | METRIC - time 0.85s\n",
      "2025-07-17T04:31:01.798663+0000 | compress | METRIC - error 251.80\n",
      "2025-07-17T04:31:01.799814+0000 | compress | METRIC - GPU 0 | usage: 25.07% | total memory: 24 GB\n",
      "2025-07-17T04:31:01.800267+0000 | compress | METRIC - Compressed module size: 33.947648 MB\n",
      "2025-07-17T04:31:01.801059+0000 | compress_modules | INFO - Quantizing model.layers.14.mlp.down_proj using 512 samples\n",
      "2025-07-17T04:31:05.334115+0000 | compress | METRIC - time 3.53s\n",
      "2025-07-17T04:31:05.336369+0000 | compress | METRIC - error 934.18\n",
      "2025-07-17T04:31:05.337109+0000 | compress | METRIC - GPU 0 | usage: 25.07% | total memory: 24 GB\n",
      "2025-07-17T04:31:05.337527+0000 | compress | METRIC - Compressed module size: 33.947648 MB\n"
     ]
    },
    {
     "name": "stderr",
     "output_type": "stream",
     "text": [
      "(15/41): Propagating: 100%|██████████| 512/512 [00:01<00:00, 458.42it/s]\n",
      "(16/41): Calibrating: 100%|██████████| 512/512 [00:07<00:00, 67.03it/s]"
     ]
    },
    {
     "name": "stdout",
     "output_type": "stream",
     "text": [
      "2025-07-17T04:31:14.120215+0000 | compress_modules | INFO - Quantizing model.layers.15.self_attn.q_proj using 512 samples\n"
     ]
    },
    {
     "name": "stderr",
     "output_type": "stream",
     "text": [
      "\n"
     ]
    },
    {
     "name": "stdout",
     "output_type": "stream",
     "text": [
      "2025-07-17T04:31:14.976074+0000 | compress | METRIC - time 0.85s\n",
      "2025-07-17T04:31:14.977201+0000 | compress | METRIC - error 46178.38\n",
      "2025-07-17T04:31:14.977925+0000 | compress | METRIC - GPU 0 | usage: 25.07% | total memory: 24 GB\n",
      "2025-07-17T04:31:14.978352+0000 | compress | METRIC - Compressed module size: 8.486912 MB\n",
      "2025-07-17T04:31:14.979154+0000 | compress_modules | INFO - Quantizing model.layers.15.self_attn.k_proj using 512 samples\n",
      "2025-07-17T04:31:15.824838+0000 | compress | METRIC - time 0.85s\n",
      "2025-07-17T04:31:15.826096+0000 | compress | METRIC - error 19151.73\n",
      "2025-07-17T04:31:15.826825+0000 | compress | METRIC - GPU 0 | usage: 25.07% | total memory: 24 GB\n",
      "2025-07-17T04:31:15.827263+0000 | compress | METRIC - Compressed module size: 2.121728 MB\n",
      "2025-07-17T04:31:15.827962+0000 | compress_modules | INFO - Quantizing model.layers.15.self_attn.v_proj using 512 samples\n",
      "2025-07-17T04:31:16.671298+0000 | compress | METRIC - time 0.84s\n",
      "2025-07-17T04:31:16.672617+0000 | compress | METRIC - error 2805.20\n",
      "2025-07-17T04:31:16.673871+0000 | compress | METRIC - GPU 0 | usage: 25.07% | total memory: 24 GB\n",
      "2025-07-17T04:31:16.674284+0000 | compress | METRIC - Compressed module size: 2.121728 MB\n",
      "2025-07-17T04:31:16.675077+0000 | compress_modules | INFO - Quantizing model.layers.15.self_attn.o_proj using 512 samples\n",
      "2025-07-17T04:31:17.522940+0000 | compress | METRIC - time 0.85s\n",
      "2025-07-17T04:31:17.524075+0000 | compress | METRIC - error 384.63\n",
      "2025-07-17T04:31:17.524836+0000 | compress | METRIC - GPU 0 | usage: 25.07% | total memory: 24 GB\n",
      "2025-07-17T04:31:17.525380+0000 | compress | METRIC - Compressed module size: 8.486912 MB\n",
      "2025-07-17T04:31:17.526008+0000 | compress_modules | INFO - Quantizing model.layers.15.mlp.gate_proj using 512 samples\n",
      "2025-07-17T04:31:18.402212+0000 | compress | METRIC - time 0.88s\n",
      "2025-07-17T04:31:18.403295+0000 | compress | METRIC - error 10346.79\n",
      "2025-07-17T04:31:18.404024+0000 | compress | METRIC - GPU 0 | usage: 25.07% | total memory: 24 GB\n",
      "2025-07-17T04:31:18.404506+0000 | compress | METRIC - Compressed module size: 33.947648 MB\n",
      "2025-07-17T04:31:18.405246+0000 | compress_modules | INFO - Quantizing model.layers.15.mlp.up_proj using 512 samples\n",
      "2025-07-17T04:31:19.290976+0000 | compress | METRIC - time 0.89s\n",
      "2025-07-17T04:31:19.292120+0000 | compress | METRIC - error 246.31\n",
      "2025-07-17T04:31:19.293240+0000 | compress | METRIC - GPU 0 | usage: 25.07% | total memory: 24 GB\n",
      "2025-07-17T04:31:19.293781+0000 | compress | METRIC - Compressed module size: 33.947648 MB\n",
      "2025-07-17T04:31:19.294766+0000 | compress_modules | INFO - Quantizing model.layers.15.mlp.down_proj using 512 samples\n",
      "2025-07-17T04:31:22.923841+0000 | compress | METRIC - time 3.63s\n",
      "2025-07-17T04:31:22.926125+0000 | compress | METRIC - error 1414.20\n",
      "2025-07-17T04:31:22.926888+0000 | compress | METRIC - GPU 0 | usage: 25.07% | total memory: 24 GB\n",
      "2025-07-17T04:31:22.927296+0000 | compress | METRIC - Compressed module size: 33.947648 MB\n"
     ]
    },
    {
     "name": "stderr",
     "output_type": "stream",
     "text": [
      "(16/41): Propagating: 100%|██████████| 512/512 [00:01<00:00, 451.82it/s]\n",
      "(17/41): Calibrating: 100%|██████████| 512/512 [00:07<00:00, 66.67it/s]"
     ]
    },
    {
     "name": "stdout",
     "output_type": "stream",
     "text": [
      "2025-07-17T04:31:31.772166+0000 | compress_modules | INFO - Quantizing model.layers.16.self_attn.q_proj using 512 samples\n"
     ]
    },
    {
     "name": "stderr",
     "output_type": "stream",
     "text": [
      "\n"
     ]
    },
    {
     "name": "stdout",
     "output_type": "stream",
     "text": [
      "2025-07-17T04:31:32.598223+0000 | compress | METRIC - time 0.82s\n",
      "2025-07-17T04:31:32.599423+0000 | compress | METRIC - error 51326.73\n",
      "2025-07-17T04:31:32.600299+0000 | compress | METRIC - GPU 0 | usage: 25.07% | total memory: 24 GB\n",
      "2025-07-17T04:31:32.600856+0000 | compress | METRIC - Compressed module size: 8.486912 MB\n",
      "2025-07-17T04:31:32.601689+0000 | compress_modules | INFO - Quantizing model.layers.16.self_attn.k_proj using 512 samples\n",
      "2025-07-17T04:31:33.430093+0000 | compress | METRIC - time 0.83s\n",
      "2025-07-17T04:31:33.431257+0000 | compress | METRIC - error 18061.91\n",
      "2025-07-17T04:31:33.432064+0000 | compress | METRIC - GPU 0 | usage: 25.07% | total memory: 24 GB\n",
      "2025-07-17T04:31:33.432612+0000 | compress | METRIC - Compressed module size: 2.121728 MB\n",
      "2025-07-17T04:31:33.433360+0000 | compress_modules | INFO - Quantizing model.layers.16.self_attn.v_proj using 512 samples\n",
      "2025-07-17T04:31:34.280301+0000 | compress | METRIC - time 0.85s\n",
      "2025-07-17T04:31:34.281435+0000 | compress | METRIC - error 4481.74\n",
      "2025-07-17T04:31:34.282186+0000 | compress | METRIC - GPU 0 | usage: 25.07% | total memory: 24 GB\n",
      "2025-07-17T04:31:34.282605+0000 | compress | METRIC - Compressed module size: 2.121728 MB\n",
      "2025-07-17T04:31:34.283346+0000 | compress_modules | INFO - Quantizing model.layers.16.self_attn.o_proj using 512 samples\n",
      "2025-07-17T04:31:35.136310+0000 | compress | METRIC - time 0.85s\n",
      "2025-07-17T04:31:35.137760+0000 | compress | METRIC - error 439.38\n",
      "2025-07-17T04:31:35.138519+0000 | compress | METRIC - GPU 0 | usage: 25.07% | total memory: 24 GB\n",
      "2025-07-17T04:31:35.139036+0000 | compress | METRIC - Compressed module size: 8.486912 MB\n",
      "2025-07-17T04:31:35.139879+0000 | compress_modules | INFO - Quantizing model.layers.16.mlp.gate_proj using 512 samples\n",
      "2025-07-17T04:31:36.030032+0000 | compress | METRIC - time 0.89s\n",
      "2025-07-17T04:31:36.031267+0000 | compress | METRIC - error 10655.48\n",
      "2025-07-17T04:31:36.032115+0000 | compress | METRIC - GPU 0 | usage: 25.07% | total memory: 24 GB\n",
      "2025-07-17T04:31:36.032735+0000 | compress | METRIC - Compressed module size: 33.947648 MB\n",
      "2025-07-17T04:31:36.033498+0000 | compress_modules | INFO - Quantizing model.layers.16.mlp.up_proj using 512 samples\n",
      "2025-07-17T04:31:36.916955+0000 | compress | METRIC - time 0.88s\n",
      "2025-07-17T04:31:36.918085+0000 | compress | METRIC - error 257.22\n",
      "2025-07-17T04:31:36.919291+0000 | compress | METRIC - GPU 0 | usage: 25.07% | total memory: 24 GB\n",
      "2025-07-17T04:31:36.919879+0000 | compress | METRIC - Compressed module size: 33.947648 MB\n",
      "2025-07-17T04:31:36.920709+0000 | compress_modules | INFO - Quantizing model.layers.16.mlp.down_proj using 512 samples\n",
      "2025-07-17T04:31:40.572479+0000 | compress | METRIC - time 3.65s\n",
      "2025-07-17T04:31:40.574997+0000 | compress | METRIC - error 1460.72\n",
      "2025-07-17T04:31:40.576102+0000 | compress | METRIC - GPU 0 | usage: 25.07% | total memory: 24 GB\n",
      "2025-07-17T04:31:40.576632+0000 | compress | METRIC - Compressed module size: 33.947648 MB\n"
     ]
    },
    {
     "name": "stderr",
     "output_type": "stream",
     "text": [
      "(17/41): Propagating: 100%|██████████| 512/512 [00:01<00:00, 440.95it/s]\n",
      "(18/41): Calibrating: 100%|██████████| 512/512 [00:07<00:00, 66.59it/s]"
     ]
    },
    {
     "name": "stdout",
     "output_type": "stream",
     "text": [
      "2025-07-17T04:31:49.452079+0000 | compress_modules | INFO - Quantizing model.layers.17.self_attn.q_proj using 512 samples\n"
     ]
    },
    {
     "name": "stderr",
     "output_type": "stream",
     "text": [
      "\n"
     ]
    },
    {
     "name": "stdout",
     "output_type": "stream",
     "text": [
      "2025-07-17T04:31:50.305951+0000 | compress | METRIC - time 0.85s\n",
      "2025-07-17T04:31:50.307166+0000 | compress | METRIC - error 45944.11\n",
      "2025-07-17T04:31:50.308426+0000 | compress | METRIC - GPU 0 | usage: 25.08% | total memory: 24 GB\n",
      "2025-07-17T04:31:50.308894+0000 | compress | METRIC - Compressed module size: 8.486912 MB\n",
      "2025-07-17T04:31:50.309765+0000 | compress_modules | INFO - Quantizing model.layers.17.self_attn.k_proj using 512 samples\n",
      "2025-07-17T04:31:51.154462+0000 | compress | METRIC - time 0.84s\n",
      "2025-07-17T04:31:51.155621+0000 | compress | METRIC - error 22809.62\n",
      "2025-07-17T04:31:51.156369+0000 | compress | METRIC - GPU 0 | usage: 25.08% | total memory: 24 GB\n",
      "2025-07-17T04:31:51.156851+0000 | compress | METRIC - Compressed module size: 2.121728 MB\n",
      "2025-07-17T04:31:51.157669+0000 | compress_modules | INFO - Quantizing model.layers.17.self_attn.v_proj using 512 samples\n",
      "2025-07-17T04:31:52.000326+0000 | compress | METRIC - time 0.84s\n",
      "2025-07-17T04:31:52.001688+0000 | compress | METRIC - error 3818.70\n",
      "2025-07-17T04:31:52.002341+0000 | compress | METRIC - GPU 0 | usage: 25.08% | total memory: 24 GB\n",
      "2025-07-17T04:31:52.002959+0000 | compress | METRIC - Compressed module size: 2.121728 MB\n",
      "2025-07-17T04:31:52.003653+0000 | compress_modules | INFO - Quantizing model.layers.17.self_attn.o_proj using 512 samples\n",
      "2025-07-17T04:31:52.854627+0000 | compress | METRIC - time 0.85s\n",
      "2025-07-17T04:31:52.855682+0000 | compress | METRIC - error 749.00\n",
      "2025-07-17T04:31:52.856466+0000 | compress | METRIC - GPU 0 | usage: 25.08% | total memory: 24 GB\n",
      "2025-07-17T04:31:52.857079+0000 | compress | METRIC - Compressed module size: 8.486912 MB\n",
      "2025-07-17T04:31:52.858029+0000 | compress_modules | INFO - Quantizing model.layers.17.mlp.gate_proj using 512 samples\n",
      "2025-07-17T04:31:53.748484+0000 | compress | METRIC - time 0.89s\n",
      "2025-07-17T04:31:53.749531+0000 | compress | METRIC - error 11930.96\n",
      "2025-07-17T04:31:53.750292+0000 | compress | METRIC - GPU 0 | usage: 25.08% | total memory: 24 GB\n",
      "2025-07-17T04:31:53.750870+0000 | compress | METRIC - Compressed module size: 33.947648 MB\n",
      "2025-07-17T04:31:53.751524+0000 | compress_modules | INFO - Quantizing model.layers.17.mlp.up_proj using 512 samples\n",
      "2025-07-17T04:31:54.633437+0000 | compress | METRIC - time 0.88s\n",
      "2025-07-17T04:31:54.634816+0000 | compress | METRIC - error 279.99\n",
      "2025-07-17T04:31:54.635629+0000 | compress | METRIC - GPU 0 | usage: 25.08% | total memory: 24 GB\n",
      "2025-07-17T04:31:54.636252+0000 | compress | METRIC - Compressed module size: 33.947648 MB\n",
      "2025-07-17T04:31:54.636943+0000 | compress_modules | INFO - Quantizing model.layers.17.mlp.down_proj using 512 samples\n",
      "2025-07-17T04:31:58.301829+0000 | compress | METRIC - time 3.66s\n",
      "2025-07-17T04:31:58.304198+0000 | compress | METRIC - error 1636.21\n",
      "2025-07-17T04:31:58.304864+0000 | compress | METRIC - GPU 0 | usage: 25.08% | total memory: 24 GB\n",
      "2025-07-17T04:31:58.305469+0000 | compress | METRIC - Compressed module size: 33.947648 MB\n"
     ]
    },
    {
     "name": "stderr",
     "output_type": "stream",
     "text": [
      "(18/41): Propagating: 100%|██████████| 512/512 [00:01<00:00, 436.60it/s]\n",
      "(19/41): Calibrating: 100%|██████████| 512/512 [00:07<00:00, 66.51it/s]"
     ]
    },
    {
     "name": "stdout",
     "output_type": "stream",
     "text": [
      "2025-07-17T04:32:07.204629+0000 | compress_modules | INFO - Quantizing model.layers.18.self_attn.q_proj using 512 samples\n"
     ]
    },
    {
     "name": "stderr",
     "output_type": "stream",
     "text": [
      "\n"
     ]
    },
    {
     "name": "stdout",
     "output_type": "stream",
     "text": [
      "2025-07-17T04:32:08.056064+0000 | compress | METRIC - time 0.85s\n",
      "2025-07-17T04:32:08.057244+0000 | compress | METRIC - error 45081.05\n",
      "2025-07-17T04:32:08.058067+0000 | compress | METRIC - GPU 0 | usage: 25.08% | total memory: 24 GB\n",
      "2025-07-17T04:32:08.058549+0000 | compress | METRIC - Compressed module size: 8.486912 MB\n",
      "2025-07-17T04:32:08.059329+0000 | compress_modules | INFO - Quantizing model.layers.18.self_attn.k_proj using 512 samples\n",
      "2025-07-17T04:32:08.873402+0000 | compress | METRIC - time 0.81s\n",
      "2025-07-17T04:32:08.874838+0000 | compress | METRIC - error 22542.04\n",
      "2025-07-17T04:32:08.875707+0000 | compress | METRIC - GPU 0 | usage: 25.08% | total memory: 24 GB\n",
      "2025-07-17T04:32:08.876344+0000 | compress | METRIC - Compressed module size: 2.121728 MB\n",
      "2025-07-17T04:32:08.877091+0000 | compress_modules | INFO - Quantizing model.layers.18.self_attn.v_proj using 512 samples\n",
      "2025-07-17T04:32:09.692157+0000 | compress | METRIC - time 0.81s\n",
      "2025-07-17T04:32:09.693346+0000 | compress | METRIC - error 5261.84\n",
      "2025-07-17T04:32:09.694112+0000 | compress | METRIC - GPU 0 | usage: 25.08% | total memory: 24 GB\n",
      "2025-07-17T04:32:09.694834+0000 | compress | METRIC - Compressed module size: 2.121728 MB\n",
      "2025-07-17T04:32:09.695693+0000 | compress_modules | INFO - Quantizing model.layers.18.self_attn.o_proj using 512 samples\n",
      "2025-07-17T04:32:10.511609+0000 | compress | METRIC - time 0.82s\n",
      "2025-07-17T04:32:10.512888+0000 | compress | METRIC - error 520.37\n",
      "2025-07-17T04:32:10.513527+0000 | compress | METRIC - GPU 0 | usage: 25.08% | total memory: 24 GB\n",
      "2025-07-17T04:32:10.514241+0000 | compress | METRIC - Compressed module size: 8.486912 MB\n",
      "2025-07-17T04:32:10.515171+0000 | compress_modules | INFO - Quantizing model.layers.18.mlp.gate_proj using 512 samples\n",
      "2025-07-17T04:32:11.391215+0000 | compress | METRIC - time 0.88s\n",
      "2025-07-17T04:32:11.392430+0000 | compress | METRIC - error 11397.71\n",
      "2025-07-17T04:32:11.393216+0000 | compress | METRIC - GPU 0 | usage: 25.08% | total memory: 24 GB\n",
      "2025-07-17T04:32:11.393884+0000 | compress | METRIC - Compressed module size: 33.947648 MB\n",
      "2025-07-17T04:32:11.394688+0000 | compress_modules | INFO - Quantizing model.layers.18.mlp.up_proj using 512 samples\n",
      "2025-07-17T04:32:12.283895+0000 | compress | METRIC - time 0.89s\n",
      "2025-07-17T04:32:12.285058+0000 | compress | METRIC - error 257.05\n",
      "2025-07-17T04:32:12.286177+0000 | compress | METRIC - GPU 0 | usage: 25.08% | total memory: 24 GB\n",
      "2025-07-17T04:32:12.286801+0000 | compress | METRIC - Compressed module size: 33.947648 MB\n",
      "2025-07-17T04:32:12.287518+0000 | compress_modules | INFO - Quantizing model.layers.18.mlp.down_proj using 512 samples\n",
      "2025-07-17T04:32:15.912835+0000 | compress | METRIC - time 3.62s\n",
      "2025-07-17T04:32:15.915308+0000 | compress | METRIC - error 1276.76\n",
      "2025-07-17T04:32:15.916112+0000 | compress | METRIC - GPU 0 | usage: 25.08% | total memory: 24 GB\n",
      "2025-07-17T04:32:15.916555+0000 | compress | METRIC - Compressed module size: 33.947648 MB\n"
     ]
    },
    {
     "name": "stderr",
     "output_type": "stream",
     "text": [
      "(19/41): Propagating: 100%|██████████| 512/512 [00:01<00:00, 431.29it/s]\n",
      "(20/41): Calibrating: 100%|██████████| 512/512 [00:07<00:00, 66.30it/s]"
     ]
    },
    {
     "name": "stdout",
     "output_type": "stream",
     "text": [
      "2025-07-17T04:32:24.857146+0000 | compress_modules | INFO - Quantizing model.layers.19.self_attn.q_proj using 512 samples\n"
     ]
    },
    {
     "name": "stderr",
     "output_type": "stream",
     "text": [
      "\n"
     ]
    },
    {
     "name": "stdout",
     "output_type": "stream",
     "text": [
      "2025-07-17T04:32:25.707313+0000 | compress | METRIC - time 0.85s\n",
      "2025-07-17T04:32:25.708507+0000 | compress | METRIC - error 50180.57\n",
      "2025-07-17T04:32:25.709371+0000 | compress | METRIC - GPU 0 | usage: 25.08% | total memory: 24 GB\n",
      "2025-07-17T04:32:25.709981+0000 | compress | METRIC - Compressed module size: 8.486912 MB\n",
      "2025-07-17T04:32:25.710808+0000 | compress_modules | INFO - Quantizing model.layers.19.self_attn.k_proj using 512 samples\n",
      "2025-07-17T04:32:26.539391+0000 | compress | METRIC - time 0.83s\n",
      "2025-07-17T04:32:26.540448+0000 | compress | METRIC - error 23515.94\n",
      "2025-07-17T04:32:26.541296+0000 | compress | METRIC - GPU 0 | usage: 25.08% | total memory: 24 GB\n",
      "2025-07-17T04:32:26.541865+0000 | compress | METRIC - Compressed module size: 2.121728 MB\n",
      "2025-07-17T04:32:26.542764+0000 | compress_modules | INFO - Quantizing model.layers.19.self_attn.v_proj using 512 samples\n",
      "2025-07-17T04:32:27.364706+0000 | compress | METRIC - time 0.82s\n",
      "2025-07-17T04:32:27.365852+0000 | compress | METRIC - error 3575.11\n",
      "2025-07-17T04:32:27.366773+0000 | compress | METRIC - GPU 0 | usage: 25.08% | total memory: 24 GB\n",
      "2025-07-17T04:32:27.367321+0000 | compress | METRIC - Compressed module size: 2.121728 MB\n",
      "2025-07-17T04:32:27.368349+0000 | compress_modules | INFO - Quantizing model.layers.19.self_attn.o_proj using 512 samples\n",
      "2025-07-17T04:32:28.210125+0000 | compress | METRIC - time 0.84s\n",
      "2025-07-17T04:32:28.211271+0000 | compress | METRIC - error 543.09\n",
      "2025-07-17T04:32:28.212064+0000 | compress | METRIC - GPU 0 | usage: 25.08% | total memory: 24 GB\n",
      "2025-07-17T04:32:28.212658+0000 | compress | METRIC - Compressed module size: 8.486912 MB\n",
      "2025-07-17T04:32:28.213400+0000 | compress_modules | INFO - Quantizing model.layers.19.mlp.gate_proj using 512 samples\n",
      "2025-07-17T04:32:29.085892+0000 | compress | METRIC - time 0.87s\n",
      "2025-07-17T04:32:29.087080+0000 | compress | METRIC - error 13273.01\n",
      "2025-07-17T04:32:29.088021+0000 | compress | METRIC - GPU 0 | usage: 25.08% | total memory: 24 GB\n",
      "2025-07-17T04:32:29.088568+0000 | compress | METRIC - Compressed module size: 33.947648 MB\n",
      "2025-07-17T04:32:29.089457+0000 | compress_modules | INFO - Quantizing model.layers.19.mlp.up_proj using 512 samples\n",
      "2025-07-17T04:32:29.959007+0000 | compress | METRIC - time 0.87s\n",
      "2025-07-17T04:32:29.960239+0000 | compress | METRIC - error 250.18\n",
      "2025-07-17T04:32:29.961340+0000 | compress | METRIC - GPU 0 | usage: 25.08% | total memory: 24 GB\n",
      "2025-07-17T04:32:29.961862+0000 | compress | METRIC - Compressed module size: 33.947648 MB\n",
      "2025-07-17T04:32:29.962827+0000 | compress_modules | INFO - Quantizing model.layers.19.mlp.down_proj using 512 samples\n",
      "2025-07-17T04:32:33.554428+0000 | compress | METRIC - time 3.59s\n",
      "2025-07-17T04:32:33.556838+0000 | compress | METRIC - error 1003.36\n",
      "2025-07-17T04:32:33.557650+0000 | compress | METRIC - GPU 0 | usage: 25.08% | total memory: 24 GB\n",
      "2025-07-17T04:32:33.558126+0000 | compress | METRIC - Compressed module size: 33.947648 MB\n"
     ]
    },
    {
     "name": "stderr",
     "output_type": "stream",
     "text": [
      "(20/41): Propagating: 100%|██████████| 512/512 [00:01<00:00, 437.51it/s]\n",
      "(21/41): Calibrating: 100%|██████████| 512/512 [00:07<00:00, 64.97it/s]"
     ]
    },
    {
     "name": "stdout",
     "output_type": "stream",
     "text": [
      "2025-07-17T04:32:42.638021+0000 | compress_modules | INFO - Quantizing model.layers.20.self_attn.q_proj using 512 samples\n"
     ]
    },
    {
     "name": "stderr",
     "output_type": "stream",
     "text": [
      "\n"
     ]
    },
    {
     "name": "stdout",
     "output_type": "stream",
     "text": [
      "2025-07-17T04:32:43.480513+0000 | compress | METRIC - time 0.84s\n",
      "2025-07-17T04:32:43.481659+0000 | compress | METRIC - error 47922.67\n",
      "2025-07-17T04:32:43.482449+0000 | compress | METRIC - GPU 0 | usage: 25.08% | total memory: 24 GB\n",
      "2025-07-17T04:32:43.482905+0000 | compress | METRIC - Compressed module size: 8.486912 MB\n",
      "2025-07-17T04:32:43.483812+0000 | compress_modules | INFO - Quantizing model.layers.20.self_attn.k_proj using 512 samples\n",
      "2025-07-17T04:32:44.305911+0000 | compress | METRIC - time 0.82s\n",
      "2025-07-17T04:32:44.307119+0000 | compress | METRIC - error 21310.68\n",
      "2025-07-17T04:32:44.308006+0000 | compress | METRIC - GPU 0 | usage: 25.08% | total memory: 24 GB\n",
      "2025-07-17T04:32:44.308668+0000 | compress | METRIC - Compressed module size: 2.121728 MB\n",
      "2025-07-17T04:32:44.309377+0000 | compress_modules | INFO - Quantizing model.layers.20.self_attn.v_proj using 512 samples\n",
      "2025-07-17T04:32:45.154864+0000 | compress | METRIC - time 0.85s\n",
      "2025-07-17T04:32:45.155920+0000 | compress | METRIC - error 4056.98\n",
      "2025-07-17T04:32:45.156786+0000 | compress | METRIC - GPU 0 | usage: 25.08% | total memory: 24 GB\n",
      "2025-07-17T04:32:45.157235+0000 | compress | METRIC - Compressed module size: 2.121728 MB\n",
      "2025-07-17T04:32:45.158097+0000 | compress_modules | INFO - Quantizing model.layers.20.self_attn.o_proj using 512 samples\n",
      "2025-07-17T04:32:46.006137+0000 | compress | METRIC - time 0.85s\n",
      "2025-07-17T04:32:46.007339+0000 | compress | METRIC - error 277.70\n",
      "2025-07-17T04:32:46.008299+0000 | compress | METRIC - GPU 0 | usage: 25.08% | total memory: 24 GB\n",
      "2025-07-17T04:32:46.008822+0000 | compress | METRIC - Compressed module size: 8.486912 MB\n",
      "2025-07-17T04:32:46.009730+0000 | compress_modules | INFO - Quantizing model.layers.20.mlp.gate_proj using 512 samples\n",
      "2025-07-17T04:32:46.892202+0000 | compress | METRIC - time 0.88s\n",
      "2025-07-17T04:32:46.893360+0000 | compress | METRIC - error 13591.02\n",
      "2025-07-17T04:32:46.894289+0000 | compress | METRIC - GPU 0 | usage: 25.08% | total memory: 24 GB\n",
      "2025-07-17T04:32:46.894874+0000 | compress | METRIC - Compressed module size: 33.947648 MB\n",
      "2025-07-17T04:32:46.895655+0000 | compress_modules | INFO - Quantizing model.layers.20.mlp.up_proj using 512 samples\n",
      "2025-07-17T04:32:47.786122+0000 | compress | METRIC - time 0.89s\n",
      "2025-07-17T04:32:47.787326+0000 | compress | METRIC - error 245.34\n",
      "2025-07-17T04:32:47.788545+0000 | compress | METRIC - GPU 0 | usage: 25.08% | total memory: 24 GB\n",
      "2025-07-17T04:32:47.788972+0000 | compress | METRIC - Compressed module size: 33.947648 MB\n",
      "2025-07-17T04:32:47.789715+0000 | compress_modules | INFO - Quantizing model.layers.20.mlp.down_proj using 512 samples\n",
      "2025-07-17T04:32:51.441624+0000 | compress | METRIC - time 3.65s\n",
      "2025-07-17T04:32:51.444276+0000 | compress | METRIC - error 883.99\n",
      "2025-07-17T04:32:51.445171+0000 | compress | METRIC - GPU 0 | usage: 25.08% | total memory: 24 GB\n",
      "2025-07-17T04:32:51.445794+0000 | compress | METRIC - Compressed module size: 33.947648 MB\n"
     ]
    },
    {
     "name": "stderr",
     "output_type": "stream",
     "text": [
      "(21/41): Propagating: 100%|██████████| 512/512 [00:01<00:00, 432.59it/s]\n",
      "(22/41): Calibrating: 100%|██████████| 512/512 [00:07<00:00, 66.17it/s]"
     ]
    },
    {
     "name": "stdout",
     "output_type": "stream",
     "text": [
      "2025-07-17T04:33:00.396097+0000 | compress_modules | INFO - Quantizing model.layers.21.self_attn.q_proj using 512 samples\n"
     ]
    },
    {
     "name": "stderr",
     "output_type": "stream",
     "text": [
      "\n"
     ]
    },
    {
     "name": "stdout",
     "output_type": "stream",
     "text": [
      "2025-07-17T04:33:01.239784+0000 | compress | METRIC - time 0.84s\n",
      "2025-07-17T04:33:01.241009+0000 | compress | METRIC - error 44397.91\n",
      "2025-07-17T04:33:01.241851+0000 | compress | METRIC - GPU 0 | usage: 25.08% | total memory: 24 GB\n",
      "2025-07-17T04:33:01.242477+0000 | compress | METRIC - Compressed module size: 8.486912 MB\n",
      "2025-07-17T04:33:01.243245+0000 | compress_modules | INFO - Quantizing model.layers.21.self_attn.k_proj using 512 samples\n",
      "2025-07-17T04:33:02.070702+0000 | compress | METRIC - time 0.83s\n",
      "2025-07-17T04:33:02.071905+0000 | compress | METRIC - error 20565.67\n",
      "2025-07-17T04:33:02.073107+0000 | compress | METRIC - GPU 0 | usage: 25.08% | total memory: 24 GB\n",
      "2025-07-17T04:33:02.073676+0000 | compress | METRIC - Compressed module size: 2.121728 MB\n",
      "2025-07-17T04:33:02.074685+0000 | compress_modules | INFO - Quantizing model.layers.21.self_attn.v_proj using 512 samples\n",
      "2025-07-17T04:33:02.904567+0000 | compress | METRIC - time 0.83s\n",
      "2025-07-17T04:33:02.905791+0000 | compress | METRIC - error 2743.45\n",
      "2025-07-17T04:33:02.906567+0000 | compress | METRIC - GPU 0 | usage: 25.08% | total memory: 24 GB\n",
      "2025-07-17T04:33:02.907139+0000 | compress | METRIC - Compressed module size: 2.121728 MB\n",
      "2025-07-17T04:33:02.908101+0000 | compress_modules | INFO - Quantizing model.layers.21.self_attn.o_proj using 512 samples\n",
      "2025-07-17T04:33:03.749398+0000 | compress | METRIC - time 0.84s\n",
      "2025-07-17T04:33:03.750553+0000 | compress | METRIC - error 264.41\n",
      "2025-07-17T04:33:03.751604+0000 | compress | METRIC - GPU 0 | usage: 25.08% | total memory: 24 GB\n",
      "2025-07-17T04:33:03.752260+0000 | compress | METRIC - Compressed module size: 8.486912 MB\n",
      "2025-07-17T04:33:03.753000+0000 | compress_modules | INFO - Quantizing model.layers.21.mlp.gate_proj using 512 samples\n",
      "2025-07-17T04:33:04.627963+0000 | compress | METRIC - time 0.87s\n",
      "2025-07-17T04:33:04.629366+0000 | compress | METRIC - error 14202.02\n",
      "2025-07-17T04:33:04.630118+0000 | compress | METRIC - GPU 0 | usage: 25.08% | total memory: 24 GB\n",
      "2025-07-17T04:33:04.630685+0000 | compress | METRIC - Compressed module size: 33.947648 MB\n",
      "2025-07-17T04:33:04.631578+0000 | compress_modules | INFO - Quantizing model.layers.21.mlp.up_proj using 512 samples\n",
      "2025-07-17T04:33:05.518329+0000 | compress | METRIC - time 0.89s\n",
      "2025-07-17T04:33:05.519633+0000 | compress | METRIC - error 238.86\n",
      "2025-07-17T04:33:05.520341+0000 | compress | METRIC - GPU 0 | usage: 25.08% | total memory: 24 GB\n",
      "2025-07-17T04:33:05.520830+0000 | compress | METRIC - Compressed module size: 33.947648 MB\n",
      "2025-07-17T04:33:05.521705+0000 | compress_modules | INFO - Quantizing model.layers.21.mlp.down_proj using 512 samples\n",
      "2025-07-17T04:33:09.116335+0000 | compress | METRIC - time 3.59s\n",
      "2025-07-17T04:33:09.118733+0000 | compress | METRIC - error 816.60\n",
      "2025-07-17T04:33:09.119644+0000 | compress | METRIC - GPU 0 | usage: 25.08% | total memory: 24 GB\n",
      "2025-07-17T04:33:09.120138+0000 | compress | METRIC - Compressed module size: 33.947648 MB\n"
     ]
    },
    {
     "name": "stderr",
     "output_type": "stream",
     "text": [
      "(22/41): Propagating: 100%|██████████| 512/512 [00:01<00:00, 439.66it/s]\n",
      "(23/41): Calibrating: 100%|██████████| 512/512 [00:07<00:00, 66.45it/s]"
     ]
    },
    {
     "name": "stdout",
     "output_type": "stream",
     "text": [
      "2025-07-17T04:33:18.020539+0000 | compress_modules | INFO - Quantizing model.layers.22.self_attn.q_proj using 512 samples\n"
     ]
    },
    {
     "name": "stderr",
     "output_type": "stream",
     "text": [
      "\n"
     ]
    },
    {
     "name": "stdout",
     "output_type": "stream",
     "text": [
      "2025-07-17T04:33:18.862773+0000 | compress | METRIC - time 0.84s\n",
      "2025-07-17T04:33:18.863974+0000 | compress | METRIC - error 43669.35\n",
      "2025-07-17T04:33:18.864754+0000 | compress | METRIC - GPU 0 | usage: 25.07% | total memory: 24 GB\n",
      "2025-07-17T04:33:18.865248+0000 | compress | METRIC - Compressed module size: 8.486912 MB\n",
      "2025-07-17T04:33:18.866026+0000 | compress_modules | INFO - Quantizing model.layers.22.self_attn.k_proj using 512 samples\n",
      "2025-07-17T04:33:19.696790+0000 | compress | METRIC - time 0.83s\n",
      "2025-07-17T04:33:19.697951+0000 | compress | METRIC - error 16668.33\n",
      "2025-07-17T04:33:19.698791+0000 | compress | METRIC - GPU 0 | usage: 25.07% | total memory: 24 GB\n",
      "2025-07-17T04:33:19.699430+0000 | compress | METRIC - Compressed module size: 2.121728 MB\n",
      "2025-07-17T04:33:19.700176+0000 | compress_modules | INFO - Quantizing model.layers.22.self_attn.v_proj using 512 samples\n",
      "2025-07-17T04:33:20.533852+0000 | compress | METRIC - time 0.83s\n",
      "2025-07-17T04:33:20.535000+0000 | compress | METRIC - error 4443.19\n",
      "2025-07-17T04:33:20.535776+0000 | compress | METRIC - GPU 0 | usage: 25.07% | total memory: 24 GB\n",
      "2025-07-17T04:33:20.536303+0000 | compress | METRIC - Compressed module size: 2.121728 MB\n",
      "2025-07-17T04:33:20.537286+0000 | compress_modules | INFO - Quantizing model.layers.22.self_attn.o_proj using 512 samples\n",
      "2025-07-17T04:33:21.368732+0000 | compress | METRIC - time 0.83s\n",
      "2025-07-17T04:33:21.369872+0000 | compress | METRIC - error 200.87\n",
      "2025-07-17T04:33:21.370689+0000 | compress | METRIC - GPU 0 | usage: 25.07% | total memory: 24 GB\n",
      "2025-07-17T04:33:21.371154+0000 | compress | METRIC - Compressed module size: 8.486912 MB\n",
      "2025-07-17T04:33:21.371989+0000 | compress_modules | INFO - Quantizing model.layers.22.mlp.gate_proj using 512 samples\n",
      "2025-07-17T04:33:22.233363+0000 | compress | METRIC - time 0.86s\n",
      "2025-07-17T04:33:22.234480+0000 | compress | METRIC - error 14452.07\n",
      "2025-07-17T04:33:22.235380+0000 | compress | METRIC - GPU 0 | usage: 25.07% | total memory: 24 GB\n",
      "2025-07-17T04:33:22.235908+0000 | compress | METRIC - Compressed module size: 33.947648 MB\n",
      "2025-07-17T04:33:22.236767+0000 | compress_modules | INFO - Quantizing model.layers.22.mlp.up_proj using 512 samples\n",
      "2025-07-17T04:33:23.102110+0000 | compress | METRIC - time 0.86s\n",
      "2025-07-17T04:33:23.103202+0000 | compress | METRIC - error 235.88\n",
      "2025-07-17T04:33:23.104278+0000 | compress | METRIC - GPU 0 | usage: 25.07% | total memory: 24 GB\n",
      "2025-07-17T04:33:23.104804+0000 | compress | METRIC - Compressed module size: 33.947648 MB\n",
      "2025-07-17T04:33:23.105632+0000 | compress_modules | INFO - Quantizing model.layers.22.mlp.down_proj using 512 samples\n",
      "2025-07-17T04:33:26.703716+0000 | compress | METRIC - time 3.60s\n",
      "2025-07-17T04:33:26.705966+0000 | compress | METRIC - error 873.41\n",
      "2025-07-17T04:33:26.706836+0000 | compress | METRIC - GPU 0 | usage: 25.07% | total memory: 24 GB\n",
      "2025-07-17T04:33:26.707332+0000 | compress | METRIC - Compressed module size: 33.947648 MB\n"
     ]
    },
    {
     "name": "stderr",
     "output_type": "stream",
     "text": [
      "(23/41): Propagating: 100%|██████████| 512/512 [00:01<00:00, 433.59it/s]\n",
      "(24/41): Calibrating: 100%|██████████| 512/512 [00:07<00:00, 66.50it/s]"
     ]
    },
    {
     "name": "stdout",
     "output_type": "stream",
     "text": [
      "2025-07-17T04:33:35.616509+0000 | compress_modules | INFO - Quantizing model.layers.23.self_attn.q_proj using 512 samples\n"
     ]
    },
    {
     "name": "stderr",
     "output_type": "stream",
     "text": [
      "\n"
     ]
    },
    {
     "name": "stdout",
     "output_type": "stream",
     "text": [
      "2025-07-17T04:33:36.432237+0000 | compress | METRIC - time 0.81s\n",
      "2025-07-17T04:33:36.433430+0000 | compress | METRIC - error 55479.35\n",
      "2025-07-17T04:33:36.434170+0000 | compress | METRIC - GPU 0 | usage: 25.07% | total memory: 24 GB\n",
      "2025-07-17T04:33:36.434643+0000 | compress | METRIC - Compressed module size: 8.486912 MB\n",
      "2025-07-17T04:33:36.435330+0000 | compress_modules | INFO - Quantizing model.layers.23.self_attn.k_proj using 512 samples\n",
      "2025-07-17T04:33:37.241602+0000 | compress | METRIC - time 0.81s\n",
      "2025-07-17T04:33:37.242710+0000 | compress | METRIC - error 25977.51\n",
      "2025-07-17T04:33:37.243277+0000 | compress | METRIC - GPU 0 | usage: 25.07% | total memory: 24 GB\n",
      "2025-07-17T04:33:37.243766+0000 | compress | METRIC - Compressed module size: 2.121728 MB\n",
      "2025-07-17T04:33:37.244761+0000 | compress_modules | INFO - Quantizing model.layers.23.self_attn.v_proj using 512 samples\n",
      "2025-07-17T04:33:38.052292+0000 | compress | METRIC - time 0.81s\n",
      "2025-07-17T04:33:38.053512+0000 | compress | METRIC - error 5087.55\n",
      "2025-07-17T04:33:38.054262+0000 | compress | METRIC - GPU 0 | usage: 25.07% | total memory: 24 GB\n",
      "2025-07-17T04:33:38.054734+0000 | compress | METRIC - Compressed module size: 2.121728 MB\n",
      "2025-07-17T04:33:38.055559+0000 | compress_modules | INFO - Quantizing model.layers.23.self_attn.o_proj using 512 samples\n",
      "2025-07-17T04:33:38.859315+0000 | compress | METRIC - time 0.80s\n",
      "2025-07-17T04:33:38.860684+0000 | compress | METRIC - error 342.03\n",
      "2025-07-17T04:33:38.861521+0000 | compress | METRIC - GPU 0 | usage: 25.07% | total memory: 24 GB\n",
      "2025-07-17T04:33:38.861988+0000 | compress | METRIC - Compressed module size: 8.486912 MB\n",
      "2025-07-17T04:33:38.862758+0000 | compress_modules | INFO - Quantizing model.layers.23.mlp.gate_proj using 512 samples\n",
      "2025-07-17T04:33:39.701853+0000 | compress | METRIC - time 0.84s\n",
      "2025-07-17T04:33:39.703194+0000 | compress | METRIC - error 16331.86\n",
      "2025-07-17T04:33:39.703815+0000 | compress | METRIC - GPU 0 | usage: 25.07% | total memory: 24 GB\n",
      "2025-07-17T04:33:39.704214+0000 | compress | METRIC - Compressed module size: 33.947648 MB\n",
      "2025-07-17T04:33:39.704983+0000 | compress_modules | INFO - Quantizing model.layers.23.mlp.up_proj using 512 samples\n",
      "2025-07-17T04:33:40.543814+0000 | compress | METRIC - time 0.84s\n",
      "2025-07-17T04:33:40.545220+0000 | compress | METRIC - error 245.70\n",
      "2025-07-17T04:33:40.545976+0000 | compress | METRIC - GPU 0 | usage: 25.07% | total memory: 24 GB\n",
      "2025-07-17T04:33:40.546389+0000 | compress | METRIC - Compressed module size: 33.947648 MB\n",
      "2025-07-17T04:33:40.547124+0000 | compress_modules | INFO - Quantizing model.layers.23.mlp.down_proj using 512 samples\n",
      "2025-07-17T04:33:44.036055+0000 | compress | METRIC - time 3.49s\n",
      "2025-07-17T04:33:44.038586+0000 | compress | METRIC - error 873.30\n",
      "2025-07-17T04:33:44.039180+0000 | compress | METRIC - GPU 0 | usage: 25.07% | total memory: 24 GB\n",
      "2025-07-17T04:33:44.039595+0000 | compress | METRIC - Compressed module size: 33.947648 MB\n"
     ]
    },
    {
     "name": "stderr",
     "output_type": "stream",
     "text": [
      "(24/41): Propagating: 100%|██████████| 512/512 [00:01<00:00, 441.27it/s]\n",
      "(25/41): Calibrating: 100%|██████████| 512/512 [00:07<00:00, 66.50it/s]"
     ]
    },
    {
     "name": "stdout",
     "output_type": "stream",
     "text": [
      "2025-07-17T04:33:52.928864+0000 | compress_modules | INFO - Quantizing model.layers.24.self_attn.q_proj using 512 samples\n"
     ]
    },
    {
     "name": "stderr",
     "output_type": "stream",
     "text": [
      "\n"
     ]
    },
    {
     "name": "stdout",
     "output_type": "stream",
     "text": [
      "2025-07-17T04:33:53.749625+0000 | compress | METRIC - time 0.82s\n",
      "2025-07-17T04:33:53.750866+0000 | compress | METRIC - error 44112.20\n",
      "2025-07-17T04:33:53.751664+0000 | compress | METRIC - GPU 0 | usage: 25.07% | total memory: 24 GB\n",
      "2025-07-17T04:33:53.752131+0000 | compress | METRIC - Compressed module size: 8.486912 MB\n",
      "2025-07-17T04:33:53.752894+0000 | compress_modules | INFO - Quantizing model.layers.24.self_attn.k_proj using 512 samples\n",
      "2025-07-17T04:33:54.551797+0000 | compress | METRIC - time 0.80s\n",
      "2025-07-17T04:33:54.553060+0000 | compress | METRIC - error 19161.67\n",
      "2025-07-17T04:33:54.553756+0000 | compress | METRIC - GPU 0 | usage: 25.07% | total memory: 24 GB\n",
      "2025-07-17T04:33:54.554180+0000 | compress | METRIC - Compressed module size: 2.121728 MB\n",
      "2025-07-17T04:33:54.554862+0000 | compress_modules | INFO - Quantizing model.layers.24.self_attn.v_proj using 512 samples\n",
      "2025-07-17T04:33:55.353521+0000 | compress | METRIC - time 0.80s\n",
      "2025-07-17T04:33:55.354608+0000 | compress | METRIC - error 3728.61\n",
      "2025-07-17T04:33:55.355400+0000 | compress | METRIC - GPU 0 | usage: 25.07% | total memory: 24 GB\n",
      "2025-07-17T04:33:55.355867+0000 | compress | METRIC - Compressed module size: 2.121728 MB\n",
      "2025-07-17T04:33:55.356845+0000 | compress_modules | INFO - Quantizing model.layers.24.self_attn.o_proj using 512 samples\n",
      "2025-07-17T04:33:56.162037+0000 | compress | METRIC - time 0.80s\n",
      "2025-07-17T04:33:56.163282+0000 | compress | METRIC - error 238.78\n",
      "2025-07-17T04:33:56.164067+0000 | compress | METRIC - GPU 0 | usage: 25.07% | total memory: 24 GB\n",
      "2025-07-17T04:33:56.164592+0000 | compress | METRIC - Compressed module size: 8.486912 MB\n",
      "2025-07-17T04:33:56.165770+0000 | compress_modules | INFO - Quantizing model.layers.24.mlp.gate_proj using 512 samples\n",
      "2025-07-17T04:33:57.010323+0000 | compress | METRIC - time 0.84s\n",
      "2025-07-17T04:33:57.011799+0000 | compress | METRIC - error 17467.27\n",
      "2025-07-17T04:33:57.012721+0000 | compress | METRIC - GPU 0 | usage: 25.07% | total memory: 24 GB\n",
      "2025-07-17T04:33:57.013268+0000 | compress | METRIC - Compressed module size: 33.947648 MB\n",
      "2025-07-17T04:33:57.014280+0000 | compress_modules | INFO - Quantizing model.layers.24.mlp.up_proj using 512 samples\n",
      "2025-07-17T04:33:57.858647+0000 | compress | METRIC - time 0.84s\n",
      "2025-07-17T04:33:57.859764+0000 | compress | METRIC - error 247.19\n",
      "2025-07-17T04:33:57.860444+0000 | compress | METRIC - GPU 0 | usage: 25.07% | total memory: 24 GB\n",
      "2025-07-17T04:33:57.860858+0000 | compress | METRIC - Compressed module size: 33.947648 MB\n",
      "2025-07-17T04:33:57.861685+0000 | compress_modules | INFO - Quantizing model.layers.24.mlp.down_proj using 512 samples\n",
      "2025-07-17T04:34:01.354602+0000 | compress | METRIC - time 3.49s\n",
      "2025-07-17T04:34:01.357053+0000 | compress | METRIC - error 933.48\n",
      "2025-07-17T04:34:01.357671+0000 | compress | METRIC - GPU 0 | usage: 25.07% | total memory: 24 GB\n",
      "2025-07-17T04:34:01.358103+0000 | compress | METRIC - Compressed module size: 33.947648 MB\n"
     ]
    },
    {
     "name": "stderr",
     "output_type": "stream",
     "text": [
      "(25/41): Propagating: 100%|██████████| 512/512 [00:01<00:00, 437.41it/s]\n",
      "(26/41): Calibrating: 100%|██████████| 512/512 [00:07<00:00, 66.56it/s]"
     ]
    },
    {
     "name": "stdout",
     "output_type": "stream",
     "text": [
      "2025-07-17T04:34:10.250078+0000 | compress_modules | INFO - Quantizing model.layers.25.self_attn.q_proj using 512 samples\n"
     ]
    },
    {
     "name": "stderr",
     "output_type": "stream",
     "text": [
      "\n"
     ]
    },
    {
     "name": "stdout",
     "output_type": "stream",
     "text": [
      "2025-07-17T04:34:11.083813+0000 | compress | METRIC - time 0.83s\n",
      "2025-07-17T04:34:11.085008+0000 | compress | METRIC - error 48480.65\n",
      "2025-07-17T04:34:11.086063+0000 | compress | METRIC - GPU 0 | usage: 25.07% | total memory: 24 GB\n",
      "2025-07-17T04:34:11.086589+0000 | compress | METRIC - Compressed module size: 8.486912 MB\n",
      "2025-07-17T04:34:11.087609+0000 | compress_modules | INFO - Quantizing model.layers.25.self_attn.k_proj using 512 samples\n",
      "2025-07-17T04:34:11.895359+0000 | compress | METRIC - time 0.81s\n",
      "2025-07-17T04:34:11.896760+0000 | compress | METRIC - error 19464.48\n",
      "2025-07-17T04:34:11.897434+0000 | compress | METRIC - GPU 0 | usage: 25.07% | total memory: 24 GB\n",
      "2025-07-17T04:34:11.897910+0000 | compress | METRIC - Compressed module size: 2.121728 MB\n",
      "2025-07-17T04:34:11.898739+0000 | compress_modules | INFO - Quantizing model.layers.25.self_attn.v_proj using 512 samples\n",
      "2025-07-17T04:34:12.705707+0000 | compress | METRIC - time 0.81s\n",
      "2025-07-17T04:34:12.706923+0000 | compress | METRIC - error 4521.34\n",
      "2025-07-17T04:34:12.707894+0000 | compress | METRIC - GPU 0 | usage: 25.07% | total memory: 24 GB\n",
      "2025-07-17T04:34:12.708446+0000 | compress | METRIC - Compressed module size: 2.121728 MB\n",
      "2025-07-17T04:34:12.709462+0000 | compress_modules | INFO - Quantizing model.layers.25.self_attn.o_proj using 512 samples\n",
      "2025-07-17T04:34:13.518939+0000 | compress | METRIC - time 0.81s\n",
      "2025-07-17T04:34:13.520065+0000 | compress | METRIC - error 183.42\n",
      "2025-07-17T04:34:13.521029+0000 | compress | METRIC - GPU 0 | usage: 25.07% | total memory: 24 GB\n",
      "2025-07-17T04:34:13.521540+0000 | compress | METRIC - Compressed module size: 8.486912 MB\n",
      "2025-07-17T04:34:13.522505+0000 | compress_modules | INFO - Quantizing model.layers.25.mlp.gate_proj using 512 samples\n",
      "2025-07-17T04:34:14.371253+0000 | compress | METRIC - time 0.85s\n",
      "2025-07-17T04:34:14.372597+0000 | compress | METRIC - error 18227.60\n",
      "2025-07-17T04:34:14.373567+0000 | compress | METRIC - GPU 0 | usage: 25.07% | total memory: 24 GB\n",
      "2025-07-17T04:34:14.374080+0000 | compress | METRIC - Compressed module size: 33.947648 MB\n",
      "2025-07-17T04:34:14.375086+0000 | compress_modules | INFO - Quantizing model.layers.25.mlp.up_proj using 512 samples\n",
      "2025-07-17T04:34:15.225284+0000 | compress | METRIC - time 0.85s\n",
      "2025-07-17T04:34:15.226559+0000 | compress | METRIC - error 248.37\n",
      "2025-07-17T04:34:15.227283+0000 | compress | METRIC - GPU 0 | usage: 25.07% | total memory: 24 GB\n",
      "2025-07-17T04:34:15.227802+0000 | compress | METRIC - Compressed module size: 33.947648 MB\n",
      "2025-07-17T04:34:15.228875+0000 | compress_modules | INFO - Quantizing model.layers.25.mlp.down_proj using 512 samples\n",
      "2025-07-17T04:34:18.695380+0000 | compress | METRIC - time 3.47s\n",
      "2025-07-17T04:34:18.697965+0000 | compress | METRIC - error 1065.17\n",
      "2025-07-17T04:34:18.698910+0000 | compress | METRIC - GPU 0 | usage: 25.07% | total memory: 24 GB\n",
      "2025-07-17T04:34:18.699401+0000 | compress | METRIC - Compressed module size: 33.947648 MB\n"
     ]
    },
    {
     "name": "stderr",
     "output_type": "stream",
     "text": [
      "(26/41): Propagating: 100%|██████████| 512/512 [00:01<00:00, 442.71it/s]\n",
      "(27/41): Calibrating: 100%|██████████| 512/512 [00:07<00:00, 66.37it/s]"
     ]
    },
    {
     "name": "stdout",
     "output_type": "stream",
     "text": [
      "2025-07-17T04:34:27.598917+0000 | compress_modules | INFO - Quantizing model.layers.26.self_attn.q_proj using 512 samples\n"
     ]
    },
    {
     "name": "stderr",
     "output_type": "stream",
     "text": [
      "\n"
     ]
    },
    {
     "name": "stdout",
     "output_type": "stream",
     "text": [
      "2025-07-17T04:34:28.427528+0000 | compress | METRIC - time 0.83s\n",
      "2025-07-17T04:34:28.428767+0000 | compress | METRIC - error 42320.27\n",
      "2025-07-17T04:34:28.429710+0000 | compress | METRIC - GPU 0 | usage: 25.07% | total memory: 24 GB\n",
      "2025-07-17T04:34:28.430338+0000 | compress | METRIC - Compressed module size: 8.486912 MB\n",
      "2025-07-17T04:34:28.431434+0000 | compress_modules | INFO - Quantizing model.layers.26.self_attn.k_proj using 512 samples\n",
      "2025-07-17T04:34:29.248557+0000 | compress | METRIC - time 0.82s\n",
      "2025-07-17T04:34:29.249999+0000 | compress | METRIC - error 16964.61\n",
      "2025-07-17T04:34:29.251131+0000 | compress | METRIC - GPU 0 | usage: 25.07% | total memory: 24 GB\n",
      "2025-07-17T04:34:29.251692+0000 | compress | METRIC - Compressed module size: 2.121728 MB\n",
      "2025-07-17T04:34:29.252558+0000 | compress_modules | INFO - Quantizing model.layers.26.self_attn.v_proj using 512 samples\n",
      "2025-07-17T04:34:30.082471+0000 | compress | METRIC - time 0.83s\n",
      "2025-07-17T04:34:30.083661+0000 | compress | METRIC - error 6223.17\n",
      "2025-07-17T04:34:30.084513+0000 | compress | METRIC - GPU 0 | usage: 25.07% | total memory: 24 GB\n",
      "2025-07-17T04:34:30.084992+0000 | compress | METRIC - Compressed module size: 2.121728 MB\n",
      "2025-07-17T04:34:30.085846+0000 | compress_modules | INFO - Quantizing model.layers.26.self_attn.o_proj using 512 samples\n",
      "2025-07-17T04:34:30.933160+0000 | compress | METRIC - time 0.85s\n",
      "2025-07-17T04:34:30.934456+0000 | compress | METRIC - error 98.87\n",
      "2025-07-17T04:34:30.935244+0000 | compress | METRIC - GPU 0 | usage: 25.07% | total memory: 24 GB\n",
      "2025-07-17T04:34:30.935807+0000 | compress | METRIC - Compressed module size: 8.486912 MB\n",
      "2025-07-17T04:34:30.936506+0000 | compress_modules | INFO - Quantizing model.layers.26.mlp.gate_proj using 512 samples\n",
      "2025-07-17T04:34:31.816675+0000 | compress | METRIC - time 0.88s\n",
      "2025-07-17T04:34:31.817862+0000 | compress | METRIC - error 19451.50\n",
      "2025-07-17T04:34:31.818667+0000 | compress | METRIC - GPU 0 | usage: 25.07% | total memory: 24 GB\n",
      "2025-07-17T04:34:31.819289+0000 | compress | METRIC - Compressed module size: 33.947648 MB\n",
      "2025-07-17T04:34:31.820134+0000 | compress_modules | INFO - Quantizing model.layers.26.mlp.up_proj using 512 samples\n",
      "2025-07-17T04:34:32.707219+0000 | compress | METRIC - time 0.89s\n",
      "2025-07-17T04:34:32.708349+0000 | compress | METRIC - error 251.03\n",
      "2025-07-17T04:34:32.709126+0000 | compress | METRIC - GPU 0 | usage: 25.07% | total memory: 24 GB\n",
      "2025-07-17T04:34:32.709709+0000 | compress | METRIC - Compressed module size: 33.947648 MB\n",
      "2025-07-17T04:34:32.710354+0000 | compress_modules | INFO - Quantizing model.layers.26.mlp.down_proj using 512 samples\n",
      "2025-07-17T04:34:36.240071+0000 | compress | METRIC - time 3.53s\n",
      "2025-07-17T04:34:36.242288+0000 | compress | METRIC - error 1185.05\n",
      "2025-07-17T04:34:36.242972+0000 | compress | METRIC - GPU 0 | usage: 25.07% | total memory: 24 GB\n",
      "2025-07-17T04:34:36.243548+0000 | compress | METRIC - Compressed module size: 33.947648 MB\n"
     ]
    },
    {
     "name": "stderr",
     "output_type": "stream",
     "text": [
      "(27/41): Propagating: 100%|██████████| 512/512 [00:01<00:00, 438.19it/s]\n",
      "(28/41): Calibrating: 100%|██████████| 512/512 [00:07<00:00, 66.10it/s]"
     ]
    },
    {
     "name": "stdout",
     "output_type": "stream",
     "text": [
      "2025-07-17T04:34:45.187672+0000 | compress_modules | INFO - Quantizing model.layers.27.self_attn.q_proj using 512 samples\n"
     ]
    },
    {
     "name": "stderr",
     "output_type": "stream",
     "text": [
      "\n"
     ]
    },
    {
     "name": "stdout",
     "output_type": "stream",
     "text": [
      "2025-07-17T04:34:46.013430+0000 | compress | METRIC - time 0.82s\n",
      "2025-07-17T04:34:46.014737+0000 | compress | METRIC - error 45695.69\n",
      "2025-07-17T04:34:46.015539+0000 | compress | METRIC - GPU 0 | usage: 25.08% | total memory: 24 GB\n",
      "2025-07-17T04:34:46.016134+0000 | compress | METRIC - Compressed module size: 8.486912 MB\n",
      "2025-07-17T04:34:46.016983+0000 | compress_modules | INFO - Quantizing model.layers.27.self_attn.k_proj using 512 samples\n",
      "2025-07-17T04:34:46.830012+0000 | compress | METRIC - time 0.81s\n",
      "2025-07-17T04:34:46.831210+0000 | compress | METRIC - error 18027.95\n",
      "2025-07-17T04:34:46.831912+0000 | compress | METRIC - GPU 0 | usage: 25.08% | total memory: 24 GB\n",
      "2025-07-17T04:34:46.832667+0000 | compress | METRIC - Compressed module size: 2.121728 MB\n",
      "2025-07-17T04:34:46.833487+0000 | compress_modules | INFO - Quantizing model.layers.27.self_attn.v_proj using 512 samples\n",
      "2025-07-17T04:34:47.653723+0000 | compress | METRIC - time 0.82s\n",
      "2025-07-17T04:34:47.654955+0000 | compress | METRIC - error 4960.69\n",
      "2025-07-17T04:34:47.655900+0000 | compress | METRIC - GPU 0 | usage: 25.08% | total memory: 24 GB\n",
      "2025-07-17T04:34:47.656355+0000 | compress | METRIC - Compressed module size: 2.121728 MB\n",
      "2025-07-17T04:34:47.657271+0000 | compress_modules | INFO - Quantizing model.layers.27.self_attn.o_proj using 512 samples\n",
      "2025-07-17T04:34:48.472821+0000 | compress | METRIC - time 0.82s\n",
      "2025-07-17T04:34:48.474053+0000 | compress | METRIC - error 263.57\n",
      "2025-07-17T04:34:48.474746+0000 | compress | METRIC - GPU 0 | usage: 25.08% | total memory: 24 GB\n",
      "2025-07-17T04:34:48.475187+0000 | compress | METRIC - Compressed module size: 8.486912 MB\n",
      "2025-07-17T04:34:48.475983+0000 | compress_modules | INFO - Quantizing model.layers.27.mlp.gate_proj using 512 samples\n",
      "2025-07-17T04:34:49.332588+0000 | compress | METRIC - time 0.86s\n",
      "2025-07-17T04:34:49.333805+0000 | compress | METRIC - error 21107.12\n",
      "2025-07-17T04:34:49.334597+0000 | compress | METRIC - GPU 0 | usage: 25.08% | total memory: 24 GB\n",
      "2025-07-17T04:34:49.335038+0000 | compress | METRIC - Compressed module size: 33.947648 MB\n",
      "2025-07-17T04:34:49.335857+0000 | compress_modules | INFO - Quantizing model.layers.27.mlp.up_proj using 512 samples\n",
      "2025-07-17T04:34:50.191776+0000 | compress | METRIC - time 0.86s\n",
      "2025-07-17T04:34:50.192979+0000 | compress | METRIC - error 261.83\n",
      "2025-07-17T04:34:50.194103+0000 | compress | METRIC - GPU 0 | usage: 25.08% | total memory: 24 GB\n",
      "2025-07-17T04:34:50.194620+0000 | compress | METRIC - Compressed module size: 33.947648 MB\n",
      "2025-07-17T04:34:50.195525+0000 | compress_modules | INFO - Quantizing model.layers.27.mlp.down_proj using 512 samples\n",
      "2025-07-17T04:34:53.815312+0000 | compress | METRIC - time 3.62s\n",
      "2025-07-17T04:34:53.817972+0000 | compress | METRIC - error 1500.72\n",
      "2025-07-17T04:34:53.818843+0000 | compress | METRIC - GPU 0 | usage: 25.08% | total memory: 24 GB\n",
      "2025-07-17T04:34:53.819492+0000 | compress | METRIC - Compressed module size: 33.947648 MB\n"
     ]
    },
    {
     "name": "stderr",
     "output_type": "stream",
     "text": [
      "(28/41): Propagating: 100%|██████████| 512/512 [00:01<00:00, 437.17it/s]\n",
      "(29/41): Calibrating: 100%|██████████| 512/512 [00:07<00:00, 65.86it/s]"
     ]
    },
    {
     "name": "stdout",
     "output_type": "stream",
     "text": [
      "2025-07-17T04:35:02.794180+0000 | compress_modules | INFO - Quantizing model.layers.28.self_attn.q_proj using 512 samples\n"
     ]
    },
    {
     "name": "stderr",
     "output_type": "stream",
     "text": [
      "\n"
     ]
    },
    {
     "name": "stdout",
     "output_type": "stream",
     "text": [
      "2025-07-17T04:35:03.620978+0000 | compress | METRIC - time 0.82s\n",
      "2025-07-17T04:35:03.622138+0000 | compress | METRIC - error 50989.55\n",
      "2025-07-17T04:35:03.623034+0000 | compress | METRIC - GPU 0 | usage: 25.08% | total memory: 24 GB\n",
      "2025-07-17T04:35:03.623608+0000 | compress | METRIC - Compressed module size: 8.486912 MB\n",
      "2025-07-17T04:35:03.624354+0000 | compress_modules | INFO - Quantizing model.layers.28.self_attn.k_proj using 512 samples\n",
      "2025-07-17T04:35:04.440531+0000 | compress | METRIC - time 0.82s\n",
      "2025-07-17T04:35:04.441817+0000 | compress | METRIC - error 19043.12\n",
      "2025-07-17T04:35:04.442732+0000 | compress | METRIC - GPU 0 | usage: 25.08% | total memory: 24 GB\n",
      "2025-07-17T04:35:04.443161+0000 | compress | METRIC - Compressed module size: 2.121728 MB\n",
      "2025-07-17T04:35:04.444196+0000 | compress_modules | INFO - Quantizing model.layers.28.self_attn.v_proj using 512 samples\n",
      "2025-07-17T04:35:05.261094+0000 | compress | METRIC - time 0.82s\n",
      "2025-07-17T04:35:05.262337+0000 | compress | METRIC - error 6378.86\n",
      "2025-07-17T04:35:05.263237+0000 | compress | METRIC - GPU 0 | usage: 25.08% | total memory: 24 GB\n",
      "2025-07-17T04:35:05.263966+0000 | compress | METRIC - Compressed module size: 2.121728 MB\n",
      "2025-07-17T04:35:05.264892+0000 | compress_modules | INFO - Quantizing model.layers.28.self_attn.o_proj using 512 samples\n",
      "2025-07-17T04:35:06.090113+0000 | compress | METRIC - time 0.82s\n",
      "2025-07-17T04:35:06.091563+0000 | compress | METRIC - error 341.67\n",
      "2025-07-17T04:35:06.092256+0000 | compress | METRIC - GPU 0 | usage: 25.08% | total memory: 24 GB\n",
      "2025-07-17T04:35:06.092812+0000 | compress | METRIC - Compressed module size: 8.486912 MB\n",
      "2025-07-17T04:35:06.093655+0000 | compress_modules | INFO - Quantizing model.layers.28.mlp.gate_proj using 512 samples\n",
      "2025-07-17T04:35:06.949360+0000 | compress | METRIC - time 0.86s\n",
      "2025-07-17T04:35:06.950711+0000 | compress | METRIC - error 23728.70\n",
      "2025-07-17T04:35:06.951545+0000 | compress | METRIC - GPU 0 | usage: 25.08% | total memory: 24 GB\n",
      "2025-07-17T04:35:06.952014+0000 | compress | METRIC - Compressed module size: 33.947648 MB\n",
      "2025-07-17T04:35:06.952925+0000 | compress_modules | INFO - Quantizing model.layers.28.mlp.up_proj using 512 samples\n",
      "2025-07-17T04:35:07.828571+0000 | compress | METRIC - time 0.87s\n",
      "2025-07-17T04:35:07.830041+0000 | compress | METRIC - error 277.00\n",
      "2025-07-17T04:35:07.831024+0000 | compress | METRIC - GPU 0 | usage: 25.08% | total memory: 24 GB\n",
      "2025-07-17T04:35:07.831579+0000 | compress | METRIC - Compressed module size: 33.947648 MB\n",
      "2025-07-17T04:35:07.832495+0000 | compress_modules | INFO - Quantizing model.layers.28.mlp.down_proj using 512 samples\n",
      "2025-07-17T04:35:11.386695+0000 | compress | METRIC - time 3.55s\n",
      "2025-07-17T04:35:11.389354+0000 | compress | METRIC - error 1943.55\n",
      "2025-07-17T04:35:11.390066+0000 | compress | METRIC - GPU 0 | usage: 25.08% | total memory: 24 GB\n",
      "2025-07-17T04:35:11.390516+0000 | compress | METRIC - Compressed module size: 33.947648 MB\n"
     ]
    },
    {
     "name": "stderr",
     "output_type": "stream",
     "text": [
      "(29/41): Propagating: 100%|██████████| 512/512 [00:01<00:00, 434.89it/s]\n",
      "(30/41): Calibrating: 100%|██████████| 512/512 [00:07<00:00, 66.27it/s]"
     ]
    },
    {
     "name": "stdout",
     "output_type": "stream",
     "text": [
      "2025-07-17T04:35:20.322578+0000 | compress_modules | INFO - Quantizing model.layers.29.self_attn.q_proj using 512 samples\n"
     ]
    },
    {
     "name": "stderr",
     "output_type": "stream",
     "text": [
      "\n"
     ]
    },
    {
     "name": "stdout",
     "output_type": "stream",
     "text": [
      "2025-07-17T04:35:21.153050+0000 | compress | METRIC - time 0.83s\n",
      "2025-07-17T04:35:21.154219+0000 | compress | METRIC - error 45168.05\n",
      "2025-07-17T04:35:21.155019+0000 | compress | METRIC - GPU 0 | usage: 25.08% | total memory: 24 GB\n",
      "2025-07-17T04:35:21.155597+0000 | compress | METRIC - Compressed module size: 8.486912 MB\n",
      "2025-07-17T04:35:21.156564+0000 | compress_modules | INFO - Quantizing model.layers.29.self_attn.k_proj using 512 samples\n",
      "2025-07-17T04:35:21.970962+0000 | compress | METRIC - time 0.81s\n",
      "2025-07-17T04:35:21.972378+0000 | compress | METRIC - error 16230.17\n",
      "2025-07-17T04:35:21.973152+0000 | compress | METRIC - GPU 0 | usage: 25.08% | total memory: 24 GB\n",
      "2025-07-17T04:35:21.973659+0000 | compress | METRIC - Compressed module size: 2.121728 MB\n",
      "2025-07-17T04:35:21.974488+0000 | compress_modules | INFO - Quantizing model.layers.29.self_attn.v_proj using 512 samples\n",
      "2025-07-17T04:35:22.793278+0000 | compress | METRIC - time 0.82s\n",
      "2025-07-17T04:35:22.794394+0000 | compress | METRIC - error 6014.37\n",
      "2025-07-17T04:35:22.795307+0000 | compress | METRIC - GPU 0 | usage: 25.08% | total memory: 24 GB\n",
      "2025-07-17T04:35:22.796118+0000 | compress | METRIC - Compressed module size: 2.121728 MB\n",
      "2025-07-17T04:35:22.796918+0000 | compress_modules | INFO - Quantizing model.layers.29.self_attn.o_proj using 512 samples\n",
      "2025-07-17T04:35:23.617802+0000 | compress | METRIC - time 0.82s\n",
      "2025-07-17T04:35:23.618992+0000 | compress | METRIC - error 574.41\n",
      "2025-07-17T04:35:23.619889+0000 | compress | METRIC - GPU 0 | usage: 25.08% | total memory: 24 GB\n",
      "2025-07-17T04:35:23.620383+0000 | compress | METRIC - Compressed module size: 8.486912 MB\n",
      "2025-07-17T04:35:23.621366+0000 | compress_modules | INFO - Quantizing model.layers.29.mlp.gate_proj using 512 samples\n",
      "2025-07-17T04:35:24.493247+0000 | compress | METRIC - time 0.87s\n",
      "2025-07-17T04:35:24.494582+0000 | compress | METRIC - error 26308.15\n",
      "2025-07-17T04:35:24.495431+0000 | compress | METRIC - GPU 0 | usage: 25.08% | total memory: 24 GB\n",
      "2025-07-17T04:35:24.495929+0000 | compress | METRIC - Compressed module size: 33.947648 MB\n",
      "2025-07-17T04:35:24.496898+0000 | compress_modules | INFO - Quantizing model.layers.29.mlp.up_proj using 512 samples\n",
      "2025-07-17T04:35:25.359833+0000 | compress | METRIC - time 0.86s\n",
      "2025-07-17T04:35:25.360935+0000 | compress | METRIC - error 295.49\n",
      "2025-07-17T04:35:25.362072+0000 | compress | METRIC - GPU 0 | usage: 25.08% | total memory: 24 GB\n",
      "2025-07-17T04:35:25.362561+0000 | compress | METRIC - Compressed module size: 33.947648 MB\n",
      "2025-07-17T04:35:25.363466+0000 | compress_modules | INFO - Quantizing model.layers.29.mlp.down_proj using 512 samples\n",
      "2025-07-17T04:35:28.921533+0000 | compress | METRIC - time 3.56s\n",
      "2025-07-17T04:35:28.923829+0000 | compress | METRIC - error 2785.62\n",
      "2025-07-17T04:35:28.924460+0000 | compress | METRIC - GPU 0 | usage: 25.08% | total memory: 24 GB\n",
      "2025-07-17T04:35:28.925106+0000 | compress | METRIC - Compressed module size: 33.947648 MB\n"
     ]
    },
    {
     "name": "stderr",
     "output_type": "stream",
     "text": [
      "(30/41): Propagating: 100%|██████████| 512/512 [00:01<00:00, 437.74it/s]\n",
      "(31/41): Calibrating: 100%|██████████| 512/512 [00:07<00:00, 66.52it/s]"
     ]
    },
    {
     "name": "stdout",
     "output_type": "stream",
     "text": [
      "2025-07-17T04:35:37.821685+0000 | compress_modules | INFO - Quantizing model.layers.30.self_attn.q_proj using 512 samples\n"
     ]
    },
    {
     "name": "stderr",
     "output_type": "stream",
     "text": [
      "\n"
     ]
    },
    {
     "name": "stdout",
     "output_type": "stream",
     "text": [
      "2025-07-17T04:35:38.658687+0000 | compress | METRIC - time 0.84s\n",
      "2025-07-17T04:35:38.659788+0000 | compress | METRIC - error 59249.29\n",
      "2025-07-17T04:35:38.660653+0000 | compress | METRIC - GPU 0 | usage: 25.08% | total memory: 24 GB\n",
      "2025-07-17T04:35:38.661095+0000 | compress | METRIC - Compressed module size: 8.486912 MB\n",
      "2025-07-17T04:35:38.661936+0000 | compress_modules | INFO - Quantizing model.layers.30.self_attn.k_proj using 512 samples\n",
      "2025-07-17T04:35:39.484482+0000 | compress | METRIC - time 0.82s\n",
      "2025-07-17T04:35:39.485900+0000 | compress | METRIC - error 21245.49\n",
      "2025-07-17T04:35:39.486632+0000 | compress | METRIC - GPU 0 | usage: 25.08% | total memory: 24 GB\n",
      "2025-07-17T04:35:39.487299+0000 | compress | METRIC - Compressed module size: 2.121728 MB\n",
      "2025-07-17T04:35:39.488327+0000 | compress_modules | INFO - Quantizing model.layers.30.self_attn.v_proj using 512 samples\n",
      "2025-07-17T04:35:40.301850+0000 | compress | METRIC - time 0.81s\n",
      "2025-07-17T04:35:40.303014+0000 | compress | METRIC - error 10998.88\n",
      "2025-07-17T04:35:40.303672+0000 | compress | METRIC - GPU 0 | usage: 25.08% | total memory: 24 GB\n",
      "2025-07-17T04:35:40.304400+0000 | compress | METRIC - Compressed module size: 2.121728 MB\n",
      "2025-07-17T04:35:40.305303+0000 | compress_modules | INFO - Quantizing model.layers.30.self_attn.o_proj using 512 samples\n",
      "2025-07-17T04:35:41.124890+0000 | compress | METRIC - time 0.82s\n",
      "2025-07-17T04:35:41.126007+0000 | compress | METRIC - error 1082.08\n",
      "2025-07-17T04:35:41.126957+0000 | compress | METRIC - GPU 0 | usage: 25.08% | total memory: 24 GB\n",
      "2025-07-17T04:35:41.127624+0000 | compress | METRIC - Compressed module size: 8.486912 MB\n",
      "2025-07-17T04:35:41.128468+0000 | compress_modules | INFO - Quantizing model.layers.30.mlp.gate_proj using 512 samples\n",
      "2025-07-17T04:35:41.989631+0000 | compress | METRIC - time 0.86s\n",
      "2025-07-17T04:35:41.990826+0000 | compress | METRIC - error 29709.16\n",
      "2025-07-17T04:35:41.991575+0000 | compress | METRIC - GPU 0 | usage: 25.08% | total memory: 24 GB\n",
      "2025-07-17T04:35:41.992309+0000 | compress | METRIC - Compressed module size: 33.947648 MB\n",
      "2025-07-17T04:35:41.993114+0000 | compress_modules | INFO - Quantizing model.layers.30.mlp.up_proj using 512 samples\n",
      "2025-07-17T04:35:42.853735+0000 | compress | METRIC - time 0.86s\n",
      "2025-07-17T04:35:42.854930+0000 | compress | METRIC - error 318.08\n",
      "2025-07-17T04:35:42.856060+0000 | compress | METRIC - GPU 0 | usage: 25.08% | total memory: 24 GB\n",
      "2025-07-17T04:35:42.856806+0000 | compress | METRIC - Compressed module size: 33.947648 MB\n",
      "2025-07-17T04:35:42.857623+0000 | compress_modules | INFO - Quantizing model.layers.30.mlp.down_proj using 512 samples\n",
      "2025-07-17T04:35:46.390454+0000 | compress | METRIC - time 3.53s\n",
      "2025-07-17T04:35:46.392760+0000 | compress | METRIC - error 3671.97\n",
      "2025-07-17T04:35:46.393583+0000 | compress | METRIC - GPU 0 | usage: 25.08% | total memory: 24 GB\n",
      "2025-07-17T04:35:46.394142+0000 | compress | METRIC - Compressed module size: 33.947648 MB\n"
     ]
    },
    {
     "name": "stderr",
     "output_type": "stream",
     "text": [
      "(31/41): Propagating: 100%|██████████| 512/512 [00:01<00:00, 439.02it/s]\n",
      "(32/41): Calibrating: 100%|██████████| 512/512 [00:07<00:00, 66.64it/s]"
     ]
    },
    {
     "name": "stdout",
     "output_type": "stream",
     "text": [
      "2025-07-17T04:35:55.274771+0000 | compress_modules | INFO - Quantizing model.layers.31.self_attn.q_proj using 512 samples\n"
     ]
    },
    {
     "name": "stderr",
     "output_type": "stream",
     "text": [
      "\n"
     ]
    },
    {
     "name": "stdout",
     "output_type": "stream",
     "text": [
      "2025-07-17T04:35:56.112074+0000 | compress | METRIC - time 0.84s\n",
      "2025-07-17T04:35:56.113263+0000 | compress | METRIC - error 74129.67\n",
      "2025-07-17T04:35:56.114093+0000 | compress | METRIC - GPU 0 | usage: 25.08% | total memory: 24 GB\n",
      "2025-07-17T04:35:56.114584+0000 | compress | METRIC - Compressed module size: 8.486912 MB\n",
      "2025-07-17T04:35:56.115455+0000 | compress_modules | INFO - Quantizing model.layers.31.self_attn.k_proj using 512 samples\n",
      "2025-07-17T04:35:56.935224+0000 | compress | METRIC - time 0.82s\n",
      "2025-07-17T04:35:56.936496+0000 | compress | METRIC - error 27229.66\n",
      "2025-07-17T04:35:56.937679+0000 | compress | METRIC - GPU 0 | usage: 25.08% | total memory: 24 GB\n",
      "2025-07-17T04:35:56.938279+0000 | compress | METRIC - Compressed module size: 2.121728 MB\n",
      "2025-07-17T04:35:56.938954+0000 | compress_modules | INFO - Quantizing model.layers.31.self_attn.v_proj using 512 samples\n",
      "2025-07-17T04:35:57.775908+0000 | compress | METRIC - time 0.84s\n",
      "2025-07-17T04:35:57.777087+0000 | compress | METRIC - error 9972.46\n",
      "2025-07-17T04:35:57.777845+0000 | compress | METRIC - GPU 0 | usage: 25.08% | total memory: 24 GB\n",
      "2025-07-17T04:35:57.778392+0000 | compress | METRIC - Compressed module size: 2.121728 MB\n",
      "2025-07-17T04:35:57.779072+0000 | compress_modules | INFO - Quantizing model.layers.31.self_attn.o_proj using 512 samples\n",
      "2025-07-17T04:35:58.596086+0000 | compress | METRIC - time 0.82s\n",
      "2025-07-17T04:35:58.597261+0000 | compress | METRIC - error 1218.14\n",
      "2025-07-17T04:35:58.597995+0000 | compress | METRIC - GPU 0 | usage: 25.08% | total memory: 24 GB\n",
      "2025-07-17T04:35:58.598556+0000 | compress | METRIC - Compressed module size: 8.486912 MB\n",
      "2025-07-17T04:35:58.599525+0000 | compress_modules | INFO - Quantizing model.layers.31.mlp.gate_proj using 512 samples\n",
      "2025-07-17T04:35:59.454546+0000 | compress | METRIC - time 0.85s\n",
      "2025-07-17T04:35:59.455845+0000 | compress | METRIC - error 33005.05\n",
      "2025-07-17T04:35:59.456792+0000 | compress | METRIC - GPU 0 | usage: 25.08% | total memory: 24 GB\n",
      "2025-07-17T04:35:59.457304+0000 | compress | METRIC - Compressed module size: 33.947648 MB\n",
      "2025-07-17T04:35:59.458249+0000 | compress_modules | INFO - Quantizing model.layers.31.mlp.up_proj using 512 samples\n",
      "2025-07-17T04:36:00.317871+0000 | compress | METRIC - time 0.86s\n",
      "2025-07-17T04:36:00.319192+0000 | compress | METRIC - error 341.01\n",
      "2025-07-17T04:36:00.320093+0000 | compress | METRIC - GPU 0 | usage: 25.08% | total memory: 24 GB\n",
      "2025-07-17T04:36:00.320618+0000 | compress | METRIC - Compressed module size: 33.947648 MB\n",
      "2025-07-17T04:36:00.321367+0000 | compress_modules | INFO - Quantizing model.layers.31.mlp.down_proj using 512 samples\n",
      "2025-07-17T04:36:03.863662+0000 | compress | METRIC - time 3.54s\n",
      "2025-07-17T04:36:03.866705+0000 | compress | METRIC - error 5656.85\n",
      "2025-07-17T04:36:03.867626+0000 | compress | METRIC - GPU 0 | usage: 25.08% | total memory: 24 GB\n",
      "2025-07-17T04:36:03.868185+0000 | compress | METRIC - Compressed module size: 33.947648 MB\n"
     ]
    },
    {
     "name": "stderr",
     "output_type": "stream",
     "text": [
      "(32/41): Propagating: 100%|██████████| 512/512 [00:01<00:00, 438.25it/s]\n",
      "(33/41): Calibrating: 100%|██████████| 512/512 [00:07<00:00, 66.80it/s]"
     ]
    },
    {
     "name": "stdout",
     "output_type": "stream",
     "text": [
      "2025-07-17T04:36:12.731246+0000 | compress_modules | INFO - Quantizing model.layers.32.self_attn.q_proj using 512 samples\n"
     ]
    },
    {
     "name": "stderr",
     "output_type": "stream",
     "text": [
      "\n"
     ]
    },
    {
     "name": "stdout",
     "output_type": "stream",
     "text": [
      "2025-07-17T04:36:13.580628+0000 | compress | METRIC - time 0.85s\n",
      "2025-07-17T04:36:13.582012+0000 | compress | METRIC - error 57412.60\n",
      "2025-07-17T04:36:13.582861+0000 | compress | METRIC - GPU 0 | usage: 25.07% | total memory: 24 GB\n",
      "2025-07-17T04:36:13.583518+0000 | compress | METRIC - Compressed module size: 8.486912 MB\n",
      "2025-07-17T04:36:13.584357+0000 | compress_modules | INFO - Quantizing model.layers.32.self_attn.k_proj using 512 samples\n",
      "2025-07-17T04:36:14.412377+0000 | compress | METRIC - time 0.83s\n",
      "2025-07-17T04:36:14.413591+0000 | compress | METRIC - error 23030.44\n",
      "2025-07-17T04:36:14.414441+0000 | compress | METRIC - GPU 0 | usage: 25.07% | total memory: 24 GB\n",
      "2025-07-17T04:36:14.414915+0000 | compress | METRIC - Compressed module size: 2.121728 MB\n",
      "2025-07-17T04:36:14.415734+0000 | compress_modules | INFO - Quantizing model.layers.32.self_attn.v_proj using 512 samples\n",
      "2025-07-17T04:36:15.242725+0000 | compress | METRIC - time 0.83s\n",
      "2025-07-17T04:36:15.243916+0000 | compress | METRIC - error 15044.77\n",
      "2025-07-17T04:36:15.244641+0000 | compress | METRIC - GPU 0 | usage: 25.07% | total memory: 24 GB\n",
      "2025-07-17T04:36:15.245096+0000 | compress | METRIC - Compressed module size: 2.121728 MB\n",
      "2025-07-17T04:36:15.245910+0000 | compress_modules | INFO - Quantizing model.layers.32.self_attn.o_proj using 512 samples\n",
      "2025-07-17T04:36:16.081011+0000 | compress | METRIC - time 0.83s\n",
      "2025-07-17T04:36:16.082268+0000 | compress | METRIC - error 1686.05\n",
      "2025-07-17T04:36:16.083087+0000 | compress | METRIC - GPU 0 | usage: 25.07% | total memory: 24 GB\n",
      "2025-07-17T04:36:16.083745+0000 | compress | METRIC - Compressed module size: 8.486912 MB\n",
      "2025-07-17T04:36:16.084608+0000 | compress_modules | INFO - Quantizing model.layers.32.mlp.gate_proj using 512 samples\n",
      "2025-07-17T04:36:16.963430+0000 | compress | METRIC - time 0.88s\n",
      "2025-07-17T04:36:16.964690+0000 | compress | METRIC - error 40953.84\n",
      "2025-07-17T04:36:16.965403+0000 | compress | METRIC - GPU 0 | usage: 25.07% | total memory: 24 GB\n",
      "2025-07-17T04:36:16.965930+0000 | compress | METRIC - Compressed module size: 33.947648 MB\n",
      "2025-07-17T04:36:16.966661+0000 | compress_modules | INFO - Quantizing model.layers.32.mlp.up_proj using 512 samples\n",
      "2025-07-17T04:36:17.822201+0000 | compress | METRIC - time 0.86s\n",
      "2025-07-17T04:36:17.823661+0000 | compress | METRIC - error 383.88\n",
      "2025-07-17T04:36:17.824673+0000 | compress | METRIC - GPU 0 | usage: 25.07% | total memory: 24 GB\n",
      "2025-07-17T04:36:17.825302+0000 | compress | METRIC - Compressed module size: 33.947648 MB\n",
      "2025-07-17T04:36:17.826062+0000 | compress_modules | INFO - Quantizing model.layers.32.mlp.down_proj using 512 samples\n",
      "2025-07-17T04:36:21.447522+0000 | compress | METRIC - time 3.62s\n",
      "2025-07-17T04:36:21.450171+0000 | compress | METRIC - error 9622.73\n",
      "2025-07-17T04:36:21.450975+0000 | compress | METRIC - GPU 0 | usage: 25.07% | total memory: 24 GB\n",
      "2025-07-17T04:36:21.451379+0000 | compress | METRIC - Compressed module size: 33.947648 MB\n"
     ]
    },
    {
     "name": "stderr",
     "output_type": "stream",
     "text": [
      "(33/41): Propagating: 100%|██████████| 512/512 [00:01<00:00, 436.76it/s]\n",
      "(34/41): Calibrating: 100%|██████████| 512/512 [00:07<00:00, 66.92it/s]"
     ]
    },
    {
     "name": "stdout",
     "output_type": "stream",
     "text": [
      "2025-07-17T04:36:30.304585+0000 | compress_modules | INFO - Quantizing model.layers.33.self_attn.q_proj using 512 samples\n"
     ]
    },
    {
     "name": "stderr",
     "output_type": "stream",
     "text": [
      "\n"
     ]
    },
    {
     "name": "stdout",
     "output_type": "stream",
     "text": [
      "2025-07-17T04:36:31.144069+0000 | compress | METRIC - time 0.84s\n",
      "2025-07-17T04:36:31.145135+0000 | compress | METRIC - error 76004.03\n",
      "2025-07-17T04:36:31.145891+0000 | compress | METRIC - GPU 0 | usage: 25.07% | total memory: 24 GB\n",
      "2025-07-17T04:36:31.146313+0000 | compress | METRIC - Compressed module size: 8.486912 MB\n",
      "2025-07-17T04:36:31.147000+0000 | compress_modules | INFO - Quantizing model.layers.33.self_attn.k_proj using 512 samples\n",
      "2025-07-17T04:36:31.971317+0000 | compress | METRIC - time 0.82s\n",
      "2025-07-17T04:36:31.972566+0000 | compress | METRIC - error 30944.51\n",
      "2025-07-17T04:36:31.973295+0000 | compress | METRIC - GPU 0 | usage: 25.07% | total memory: 24 GB\n",
      "2025-07-17T04:36:31.973933+0000 | compress | METRIC - Compressed module size: 2.121728 MB\n",
      "2025-07-17T04:36:31.974625+0000 | compress_modules | INFO - Quantizing model.layers.33.self_attn.v_proj using 512 samples\n",
      "2025-07-17T04:36:32.789124+0000 | compress | METRIC - time 0.81s\n",
      "2025-07-17T04:36:32.790365+0000 | compress | METRIC - error 22252.90\n",
      "2025-07-17T04:36:32.791196+0000 | compress | METRIC - GPU 0 | usage: 25.07% | total memory: 24 GB\n",
      "2025-07-17T04:36:32.791817+0000 | compress | METRIC - Compressed module size: 2.121728 MB\n",
      "2025-07-17T04:36:32.792512+0000 | compress_modules | INFO - Quantizing model.layers.33.self_attn.o_proj using 512 samples\n",
      "2025-07-17T04:36:33.618091+0000 | compress | METRIC - time 0.83s\n",
      "2025-07-17T04:36:33.619305+0000 | compress | METRIC - error 2000.54\n",
      "2025-07-17T04:36:33.620151+0000 | compress | METRIC - GPU 0 | usage: 25.07% | total memory: 24 GB\n",
      "2025-07-17T04:36:33.620747+0000 | compress | METRIC - Compressed module size: 8.486912 MB\n",
      "2025-07-17T04:36:33.621489+0000 | compress_modules | INFO - Quantizing model.layers.33.mlp.gate_proj using 512 samples\n",
      "2025-07-17T04:36:34.479580+0000 | compress | METRIC - time 0.86s\n",
      "2025-07-17T04:36:34.480716+0000 | compress | METRIC - error 44651.44\n",
      "2025-07-17T04:36:34.481515+0000 | compress | METRIC - GPU 0 | usage: 25.07% | total memory: 24 GB\n",
      "2025-07-17T04:36:34.481996+0000 | compress | METRIC - Compressed module size: 33.947648 MB\n",
      "2025-07-17T04:36:34.482818+0000 | compress_modules | INFO - Quantizing model.layers.33.mlp.up_proj using 512 samples\n",
      "2025-07-17T04:36:35.343969+0000 | compress | METRIC - time 0.86s\n",
      "2025-07-17T04:36:35.345073+0000 | compress | METRIC - error 403.70\n",
      "2025-07-17T04:36:35.346320+0000 | compress | METRIC - GPU 0 | usage: 25.07% | total memory: 24 GB\n",
      "2025-07-17T04:36:35.346763+0000 | compress | METRIC - Compressed module size: 33.947648 MB\n",
      "2025-07-17T04:36:35.347437+0000 | compress_modules | INFO - Quantizing model.layers.33.mlp.down_proj using 512 samples\n",
      "2025-07-17T04:36:38.878047+0000 | compress | METRIC - time 3.53s\n",
      "2025-07-17T04:36:38.880337+0000 | compress | METRIC - error 10652.92\n",
      "2025-07-17T04:36:38.881116+0000 | compress | METRIC - GPU 0 | usage: 25.07% | total memory: 24 GB\n",
      "2025-07-17T04:36:38.881542+0000 | compress | METRIC - Compressed module size: 33.947648 MB\n"
     ]
    },
    {
     "name": "stderr",
     "output_type": "stream",
     "text": [
      "(34/41): Propagating: 100%|██████████| 512/512 [00:01<00:00, 440.66it/s]\n",
      "(35/41): Calibrating: 100%|██████████| 512/512 [00:07<00:00, 66.99it/s]"
     ]
    },
    {
     "name": "stdout",
     "output_type": "stream",
     "text": [
      "2025-07-17T04:36:47.717109+0000 | compress_modules | INFO - Quantizing model.layers.34.self_attn.q_proj using 512 samples\n"
     ]
    },
    {
     "name": "stderr",
     "output_type": "stream",
     "text": [
      "\n"
     ]
    },
    {
     "name": "stdout",
     "output_type": "stream",
     "text": [
      "2025-07-17T04:36:48.540675+0000 | compress | METRIC - time 0.82s\n",
      "2025-07-17T04:36:48.541828+0000 | compress | METRIC - error 96078.50\n",
      "2025-07-17T04:36:48.542624+0000 | compress | METRIC - GPU 0 | usage: 25.07% | total memory: 24 GB\n",
      "2025-07-17T04:36:48.543068+0000 | compress | METRIC - Compressed module size: 8.486912 MB\n",
      "2025-07-17T04:36:48.543978+0000 | compress_modules | INFO - Quantizing model.layers.34.self_attn.k_proj using 512 samples\n",
      "2025-07-17T04:36:49.395534+0000 | compress | METRIC - time 0.85s\n",
      "2025-07-17T04:36:49.396707+0000 | compress | METRIC - error 33798.20\n",
      "2025-07-17T04:36:49.397401+0000 | compress | METRIC - GPU 0 | usage: 25.07% | total memory: 24 GB\n",
      "2025-07-17T04:36:49.398022+0000 | compress | METRIC - Compressed module size: 2.121728 MB\n",
      "2025-07-17T04:36:49.398702+0000 | compress_modules | INFO - Quantizing model.layers.34.self_attn.v_proj using 512 samples\n",
      "2025-07-17T04:36:50.247226+0000 | compress | METRIC - time 0.85s\n",
      "2025-07-17T04:36:50.248381+0000 | compress | METRIC - error 37967.80\n",
      "2025-07-17T04:36:50.249095+0000 | compress | METRIC - GPU 0 | usage: 25.07% | total memory: 24 GB\n",
      "2025-07-17T04:36:50.249672+0000 | compress | METRIC - Compressed module size: 2.121728 MB\n",
      "2025-07-17T04:36:50.250647+0000 | compress_modules | INFO - Quantizing model.layers.34.self_attn.o_proj using 512 samples\n",
      "2025-07-17T04:36:51.100801+0000 | compress | METRIC - time 0.85s\n",
      "2025-07-17T04:36:51.101976+0000 | compress | METRIC - error 2294.99\n",
      "2025-07-17T04:36:51.102821+0000 | compress | METRIC - GPU 0 | usage: 25.07% | total memory: 24 GB\n",
      "2025-07-17T04:36:51.103309+0000 | compress | METRIC - Compressed module size: 8.486912 MB\n",
      "2025-07-17T04:36:51.104203+0000 | compress_modules | INFO - Quantizing model.layers.34.mlp.gate_proj using 512 samples\n",
      "2025-07-17T04:36:51.988625+0000 | compress | METRIC - time 0.88s\n",
      "2025-07-17T04:36:51.989950+0000 | compress | METRIC - error 54221.09\n",
      "2025-07-17T04:36:51.990860+0000 | compress | METRIC - GPU 0 | usage: 25.07% | total memory: 24 GB\n",
      "2025-07-17T04:36:51.991325+0000 | compress | METRIC - Compressed module size: 33.947648 MB\n",
      "2025-07-17T04:36:51.992280+0000 | compress_modules | INFO - Quantizing model.layers.34.mlp.up_proj using 512 samples\n",
      "2025-07-17T04:36:52.881306+0000 | compress | METRIC - time 0.89s\n",
      "2025-07-17T04:36:52.882489+0000 | compress | METRIC - error 413.61\n",
      "2025-07-17T04:36:52.883631+0000 | compress | METRIC - GPU 0 | usage: 25.07% | total memory: 24 GB\n",
      "2025-07-17T04:36:52.884114+0000 | compress | METRIC - Compressed module size: 33.947648 MB\n",
      "2025-07-17T04:36:52.884983+0000 | compress_modules | INFO - Quantizing model.layers.34.mlp.down_proj using 512 samples\n",
      "2025-07-17T04:36:56.528560+0000 | compress | METRIC - time 3.64s\n",
      "2025-07-17T04:36:56.531072+0000 | compress | METRIC - error 12985.05\n",
      "2025-07-17T04:36:56.531782+0000 | compress | METRIC - GPU 0 | usage: 25.07% | total memory: 24 GB\n",
      "2025-07-17T04:36:56.532614+0000 | compress | METRIC - Compressed module size: 33.947648 MB\n"
     ]
    },
    {
     "name": "stderr",
     "output_type": "stream",
     "text": [
      "(35/41): Propagating: 100%|██████████| 512/512 [00:01<00:00, 436.09it/s]\n",
      "(36/41): Calibrating: 100%|██████████| 512/512 [00:07<00:00, 66.89it/s]"
     ]
    },
    {
     "name": "stdout",
     "output_type": "stream",
     "text": [
      "2025-07-17T04:37:05.392329+0000 | compress_modules | INFO - Quantizing model.layers.35.self_attn.q_proj using 512 samples\n"
     ]
    },
    {
     "name": "stderr",
     "output_type": "stream",
     "text": [
      "\n"
     ]
    },
    {
     "name": "stdout",
     "output_type": "stream",
     "text": [
      "2025-07-17T04:37:06.236682+0000 | compress | METRIC - time 0.84s\n",
      "2025-07-17T04:37:06.237953+0000 | compress | METRIC - error 90035.16\n",
      "2025-07-17T04:37:06.238924+0000 | compress | METRIC - GPU 0 | usage: 25.07% | total memory: 24 GB\n",
      "2025-07-17T04:37:06.239470+0000 | compress | METRIC - Compressed module size: 8.486912 MB\n",
      "2025-07-17T04:37:06.240346+0000 | compress_modules | INFO - Quantizing model.layers.35.self_attn.k_proj using 512 samples\n",
      "2025-07-17T04:37:07.069608+0000 | compress | METRIC - time 0.83s\n",
      "2025-07-17T04:37:07.070838+0000 | compress | METRIC - error 26605.23\n",
      "2025-07-17T04:37:07.072024+0000 | compress | METRIC - GPU 0 | usage: 25.07% | total memory: 24 GB\n",
      "2025-07-17T04:37:07.072548+0000 | compress | METRIC - Compressed module size: 2.121728 MB\n",
      "2025-07-17T04:37:07.073347+0000 | compress_modules | INFO - Quantizing model.layers.35.self_attn.v_proj using 512 samples\n",
      "2025-07-17T04:37:07.903151+0000 | compress | METRIC - time 0.83s\n",
      "2025-07-17T04:37:07.904375+0000 | compress | METRIC - error 55008.41\n",
      "2025-07-17T04:37:07.905114+0000 | compress | METRIC - GPU 0 | usage: 25.07% | total memory: 24 GB\n",
      "2025-07-17T04:37:07.905740+0000 | compress | METRIC - Compressed module size: 2.121728 MB\n",
      "2025-07-17T04:37:07.906493+0000 | compress_modules | INFO - Quantizing model.layers.35.self_attn.o_proj using 512 samples\n",
      "2025-07-17T04:37:08.729357+0000 | compress | METRIC - time 0.82s\n",
      "2025-07-17T04:37:08.730660+0000 | compress | METRIC - error 1950.06\n",
      "2025-07-17T04:37:08.731519+0000 | compress | METRIC - GPU 0 | usage: 25.07% | total memory: 24 GB\n",
      "2025-07-17T04:37:08.732038+0000 | compress | METRIC - Compressed module size: 8.486912 MB\n",
      "2025-07-17T04:37:08.732787+0000 | compress_modules | INFO - Quantizing model.layers.35.mlp.gate_proj using 512 samples\n",
      "2025-07-17T04:37:09.585154+0000 | compress | METRIC - time 0.85s\n",
      "2025-07-17T04:37:09.586359+0000 | compress | METRIC - error 58942.55\n",
      "2025-07-17T04:37:09.587112+0000 | compress | METRIC - GPU 0 | usage: 25.07% | total memory: 24 GB\n",
      "2025-07-17T04:37:09.587589+0000 | compress | METRIC - Compressed module size: 33.947648 MB\n",
      "2025-07-17T04:37:09.588359+0000 | compress_modules | INFO - Quantizing model.layers.35.mlp.up_proj using 512 samples\n",
      "2025-07-17T04:37:10.438735+0000 | compress | METRIC - time 0.85s\n",
      "2025-07-17T04:37:10.439883+0000 | compress | METRIC - error 413.94\n",
      "2025-07-17T04:37:10.440708+0000 | compress | METRIC - GPU 0 | usage: 25.07% | total memory: 24 GB\n",
      "2025-07-17T04:37:10.441289+0000 | compress | METRIC - Compressed module size: 33.947648 MB\n",
      "2025-07-17T04:37:10.441908+0000 | compress_modules | INFO - Quantizing model.layers.35.mlp.down_proj using 512 samples\n",
      "2025-07-17T04:37:13.957071+0000 | compress | METRIC - time 3.51s\n",
      "2025-07-17T04:37:13.959817+0000 | compress | METRIC - error 14834.11\n",
      "2025-07-17T04:37:13.960736+0000 | compress | METRIC - GPU 0 | usage: 25.07% | total memory: 24 GB\n",
      "2025-07-17T04:37:13.961349+0000 | compress | METRIC - Compressed module size: 33.947648 MB\n"
     ]
    },
    {
     "name": "stderr",
     "output_type": "stream",
     "text": [
      "(36/41): Propagating: 100%|██████████| 512/512 [00:01<00:00, 434.05it/s]\n",
      "(37/41): Calibrating: 100%|██████████| 512/512 [00:07<00:00, 66.75it/s]"
     ]
    },
    {
     "name": "stdout",
     "output_type": "stream",
     "text": [
      "2025-07-17T04:37:22.842038+0000 | compress_modules | INFO - Quantizing model.layers.36.self_attn.q_proj using 512 samples\n"
     ]
    },
    {
     "name": "stderr",
     "output_type": "stream",
     "text": [
      "\n"
     ]
    },
    {
     "name": "stdout",
     "output_type": "stream",
     "text": [
      "2025-07-17T04:37:23.705391+0000 | compress | METRIC - time 0.86s\n",
      "2025-07-17T04:37:23.706642+0000 | compress | METRIC - error 83689.77\n",
      "2025-07-17T04:37:23.707367+0000 | compress | METRIC - GPU 0 | usage: 25.08% | total memory: 24 GB\n",
      "2025-07-17T04:37:23.707945+0000 | compress | METRIC - Compressed module size: 8.486912 MB\n",
      "2025-07-17T04:37:23.708645+0000 | compress_modules | INFO - Quantizing model.layers.36.self_attn.k_proj using 512 samples\n",
      "2025-07-17T04:37:24.555723+0000 | compress | METRIC - time 0.85s\n",
      "2025-07-17T04:37:24.556919+0000 | compress | METRIC - error 22709.64\n",
      "2025-07-17T04:37:24.557510+0000 | compress | METRIC - GPU 0 | usage: 25.08% | total memory: 24 GB\n",
      "2025-07-17T04:37:24.557887+0000 | compress | METRIC - Compressed module size: 2.121728 MB\n",
      "2025-07-17T04:37:24.558775+0000 | compress_modules | INFO - Quantizing model.layers.36.self_attn.v_proj using 512 samples\n",
      "2025-07-17T04:37:25.409665+0000 | compress | METRIC - time 0.85s\n",
      "2025-07-17T04:37:25.410787+0000 | compress | METRIC - error 37308.55\n",
      "2025-07-17T04:37:25.411581+0000 | compress | METRIC - GPU 0 | usage: 25.08% | total memory: 24 GB\n",
      "2025-07-17T04:37:25.412005+0000 | compress | METRIC - Compressed module size: 2.121728 MB\n",
      "2025-07-17T04:37:25.412760+0000 | compress_modules | INFO - Quantizing model.layers.36.self_attn.o_proj using 512 samples\n",
      "2025-07-17T04:37:26.264840+0000 | compress | METRIC - time 0.85s\n",
      "2025-07-17T04:37:26.266050+0000 | compress | METRIC - error 2313.33\n",
      "2025-07-17T04:37:26.266887+0000 | compress | METRIC - GPU 0 | usage: 25.08% | total memory: 24 GB\n",
      "2025-07-17T04:37:26.267533+0000 | compress | METRIC - Compressed module size: 8.486912 MB\n",
      "2025-07-17T04:37:26.268352+0000 | compress_modules | INFO - Quantizing model.layers.36.mlp.gate_proj using 512 samples\n",
      "2025-07-17T04:37:27.157078+0000 | compress | METRIC - time 0.89s\n",
      "2025-07-17T04:37:27.158229+0000 | compress | METRIC - error 60976.62\n",
      "2025-07-17T04:37:27.158982+0000 | compress | METRIC - GPU 0 | usage: 25.08% | total memory: 24 GB\n",
      "2025-07-17T04:37:27.159554+0000 | compress | METRIC - Compressed module size: 33.947648 MB\n",
      "2025-07-17T04:37:27.160298+0000 | compress_modules | INFO - Quantizing model.layers.36.mlp.up_proj using 512 samples\n",
      "2025-07-17T04:37:28.054823+0000 | compress | METRIC - time 0.89s\n",
      "2025-07-17T04:37:28.056032+0000 | compress | METRIC - error 435.95\n",
      "2025-07-17T04:37:28.057140+0000 | compress | METRIC - GPU 0 | usage: 25.08% | total memory: 24 GB\n",
      "2025-07-17T04:37:28.057613+0000 | compress | METRIC - Compressed module size: 33.947648 MB\n",
      "2025-07-17T04:37:28.058391+0000 | compress_modules | INFO - Quantizing model.layers.36.mlp.down_proj using 512 samples\n",
      "2025-07-17T04:37:31.697285+0000 | compress | METRIC - time 3.64s\n",
      "2025-07-17T04:37:31.699658+0000 | compress | METRIC - error 19202.19\n",
      "2025-07-17T04:37:31.700478+0000 | compress | METRIC - GPU 0 | usage: 25.08% | total memory: 24 GB\n",
      "2025-07-17T04:37:31.700923+0000 | compress | METRIC - Compressed module size: 33.947648 MB\n"
     ]
    },
    {
     "name": "stderr",
     "output_type": "stream",
     "text": [
      "(37/41): Propagating: 100%|██████████| 512/512 [00:01<00:00, 435.00it/s]\n",
      "(38/41): Calibrating: 100%|██████████| 512/512 [00:07<00:00, 66.65it/s]"
     ]
    },
    {
     "name": "stdout",
     "output_type": "stream",
     "text": [
      "2025-07-17T04:37:40.590184+0000 | compress_modules | INFO - Quantizing model.layers.37.self_attn.q_proj using 512 samples\n"
     ]
    },
    {
     "name": "stderr",
     "output_type": "stream",
     "text": [
      "\n"
     ]
    },
    {
     "name": "stdout",
     "output_type": "stream",
     "text": [
      "2025-07-17T04:37:41.444771+0000 | compress | METRIC - time 0.85s\n",
      "2025-07-17T04:37:41.446061+0000 | compress | METRIC - error 78542.81\n",
      "2025-07-17T04:37:41.446891+0000 | compress | METRIC - GPU 0 | usage: 25.08% | total memory: 24 GB\n",
      "2025-07-17T04:37:41.447515+0000 | compress | METRIC - Compressed module size: 8.486912 MB\n",
      "2025-07-17T04:37:41.448220+0000 | compress_modules | INFO - Quantizing model.layers.37.self_attn.k_proj using 512 samples\n",
      "2025-07-17T04:37:42.302196+0000 | compress | METRIC - time 0.85s\n",
      "2025-07-17T04:37:42.303427+0000 | compress | METRIC - error 22171.32\n",
      "2025-07-17T04:37:42.304250+0000 | compress | METRIC - GPU 0 | usage: 25.08% | total memory: 24 GB\n",
      "2025-07-17T04:37:42.304758+0000 | compress | METRIC - Compressed module size: 2.121728 MB\n",
      "2025-07-17T04:37:42.305593+0000 | compress_modules | INFO - Quantizing model.layers.37.self_attn.v_proj using 512 samples\n",
      "2025-07-17T04:37:43.162663+0000 | compress | METRIC - time 0.86s\n",
      "2025-07-17T04:37:43.163758+0000 | compress | METRIC - error 25499.44\n",
      "2025-07-17T04:37:43.164503+0000 | compress | METRIC - GPU 0 | usage: 25.08% | total memory: 24 GB\n",
      "2025-07-17T04:37:43.165050+0000 | compress | METRIC - Compressed module size: 2.121728 MB\n",
      "2025-07-17T04:37:43.165740+0000 | compress_modules | INFO - Quantizing model.layers.37.self_attn.o_proj using 512 samples\n",
      "2025-07-17T04:37:44.019729+0000 | compress | METRIC - time 0.85s\n",
      "2025-07-17T04:37:44.021223+0000 | compress | METRIC - error 3068.53\n",
      "2025-07-17T04:37:44.021932+0000 | compress | METRIC - GPU 0 | usage: 25.08% | total memory: 24 GB\n",
      "2025-07-17T04:37:44.022466+0000 | compress | METRIC - Compressed module size: 8.486912 MB\n",
      "2025-07-17T04:37:44.023238+0000 | compress_modules | INFO - Quantizing model.layers.37.mlp.gate_proj using 512 samples\n",
      "2025-07-17T04:37:44.934796+0000 | compress | METRIC - time 0.91s\n",
      "2025-07-17T04:37:44.936163+0000 | compress | METRIC - error 72448.52\n",
      "2025-07-17T04:37:44.937019+0000 | compress | METRIC - GPU 0 | usage: 25.08% | total memory: 24 GB\n",
      "2025-07-17T04:37:44.937521+0000 | compress | METRIC - Compressed module size: 33.947648 MB\n",
      "2025-07-17T04:37:44.938303+0000 | compress_modules | INFO - Quantizing model.layers.37.mlp.up_proj using 512 samples\n",
      "2025-07-17T04:37:45.822523+0000 | compress | METRIC - time 0.88s\n",
      "2025-07-17T04:37:45.823890+0000 | compress | METRIC - error 463.50\n",
      "2025-07-17T04:37:45.824562+0000 | compress | METRIC - GPU 0 | usage: 25.08% | total memory: 24 GB\n",
      "2025-07-17T04:37:45.825002+0000 | compress | METRIC - Compressed module size: 33.947648 MB\n",
      "2025-07-17T04:37:45.825806+0000 | compress_modules | INFO - Quantizing model.layers.37.mlp.down_proj using 512 samples\n",
      "2025-07-17T04:37:49.468550+0000 | compress | METRIC - time 3.64s\n",
      "2025-07-17T04:37:49.471192+0000 | compress | METRIC - error 28434.72\n",
      "2025-07-17T04:37:49.472072+0000 | compress | METRIC - GPU 0 | usage: 25.08% | total memory: 24 GB\n",
      "2025-07-17T04:37:49.472582+0000 | compress | METRIC - Compressed module size: 33.947648 MB\n"
     ]
    },
    {
     "name": "stderr",
     "output_type": "stream",
     "text": [
      "(38/41): Propagating: 100%|██████████| 512/512 [00:01<00:00, 434.56it/s]\n",
      "(39/41): Calibrating: 100%|██████████| 512/512 [00:07<00:00, 66.54it/s]"
     ]
    },
    {
     "name": "stdout",
     "output_type": "stream",
     "text": [
      "2025-07-17T04:37:58.376841+0000 | compress_modules | INFO - Quantizing model.layers.38.self_attn.q_proj using 512 samples\n"
     ]
    },
    {
     "name": "stderr",
     "output_type": "stream",
     "text": [
      "\n"
     ]
    },
    {
     "name": "stdout",
     "output_type": "stream",
     "text": [
      "2025-07-17T04:37:59.234275+0000 | compress | METRIC - time 0.86s\n",
      "2025-07-17T04:37:59.235520+0000 | compress | METRIC - error 93588.78\n",
      "2025-07-17T04:37:59.236312+0000 | compress | METRIC - GPU 0 | usage: 25.08% | total memory: 24 GB\n",
      "2025-07-17T04:37:59.236924+0000 | compress | METRIC - Compressed module size: 8.486912 MB\n",
      "2025-07-17T04:37:59.237656+0000 | compress_modules | INFO - Quantizing model.layers.38.self_attn.k_proj using 512 samples\n",
      "2025-07-17T04:38:00.084368+0000 | compress | METRIC - time 0.85s\n",
      "2025-07-17T04:38:00.085746+0000 | compress | METRIC - error 24124.31\n",
      "2025-07-17T04:38:00.086540+0000 | compress | METRIC - GPU 0 | usage: 25.08% | total memory: 24 GB\n",
      "2025-07-17T04:38:00.086951+0000 | compress | METRIC - Compressed module size: 2.121728 MB\n",
      "2025-07-17T04:38:00.087772+0000 | compress_modules | INFO - Quantizing model.layers.38.self_attn.v_proj using 512 samples\n",
      "2025-07-17T04:38:00.934518+0000 | compress | METRIC - time 0.85s\n",
      "2025-07-17T04:38:00.935772+0000 | compress | METRIC - error 41886.48\n",
      "2025-07-17T04:38:00.936689+0000 | compress | METRIC - GPU 0 | usage: 25.08% | total memory: 24 GB\n",
      "2025-07-17T04:38:00.937201+0000 | compress | METRIC - Compressed module size: 2.121728 MB\n",
      "2025-07-17T04:38:00.937987+0000 | compress_modules | INFO - Quantizing model.layers.38.self_attn.o_proj using 512 samples\n",
      "2025-07-17T04:38:01.782636+0000 | compress | METRIC - time 0.84s\n",
      "2025-07-17T04:38:01.783844+0000 | compress | METRIC - error 5015.52\n",
      "2025-07-17T04:38:01.784726+0000 | compress | METRIC - GPU 0 | usage: 25.08% | total memory: 24 GB\n",
      "2025-07-17T04:38:01.785191+0000 | compress | METRIC - Compressed module size: 8.486912 MB\n",
      "2025-07-17T04:38:01.786203+0000 | compress_modules | INFO - Quantizing model.layers.38.mlp.gate_proj using 512 samples\n",
      "2025-07-17T04:38:02.669709+0000 | compress | METRIC - time 0.88s\n",
      "2025-07-17T04:38:02.671020+0000 | compress | METRIC - error 100285.25\n",
      "2025-07-17T04:38:02.671865+0000 | compress | METRIC - GPU 0 | usage: 25.08% | total memory: 24 GB\n",
      "2025-07-17T04:38:02.672407+0000 | compress | METRIC - Compressed module size: 33.947648 MB\n",
      "2025-07-17T04:38:02.673193+0000 | compress_modules | INFO - Quantizing model.layers.38.mlp.up_proj using 512 samples\n",
      "2025-07-17T04:38:03.562178+0000 | compress | METRIC - time 0.89s\n",
      "2025-07-17T04:38:03.563287+0000 | compress | METRIC - error 482.99\n",
      "2025-07-17T04:38:03.563993+0000 | compress | METRIC - GPU 0 | usage: 25.08% | total memory: 24 GB\n",
      "2025-07-17T04:38:03.564486+0000 | compress | METRIC - Compressed module size: 33.947648 MB\n",
      "2025-07-17T04:38:03.565245+0000 | compress_modules | INFO - Quantizing model.layers.38.mlp.down_proj using 512 samples\n",
      "2025-07-17T04:38:07.210588+0000 | compress | METRIC - time 3.64s\n",
      "2025-07-17T04:38:07.213742+0000 | compress | METRIC - error 62233.83\n",
      "2025-07-17T04:38:07.214545+0000 | compress | METRIC - GPU 0 | usage: 25.08% | total memory: 24 GB\n",
      "2025-07-17T04:38:07.214979+0000 | compress | METRIC - Compressed module size: 33.947648 MB\n"
     ]
    },
    {
     "name": "stderr",
     "output_type": "stream",
     "text": [
      "(39/41): Propagating: 100%|██████████| 512/512 [00:01<00:00, 434.71it/s]\n",
      "(40/41): Calibrating: 100%|██████████| 512/512 [00:07<00:00, 66.77it/s]"
     ]
    },
    {
     "name": "stdout",
     "output_type": "stream",
     "text": [
      "2025-07-17T04:38:16.092048+0000 | compress_modules | INFO - Quantizing model.layers.39.self_attn.q_proj using 512 samples\n"
     ]
    },
    {
     "name": "stderr",
     "output_type": "stream",
     "text": [
      "\n"
     ]
    },
    {
     "name": "stdout",
     "output_type": "stream",
     "text": [
      "2025-07-17T04:38:16.948643+0000 | compress | METRIC - time 0.85s\n",
      "2025-07-17T04:38:16.949703+0000 | compress | METRIC - error 68646.34\n",
      "2025-07-17T04:38:16.950535+0000 | compress | METRIC - GPU 0 | usage: 25.08% | total memory: 24 GB\n",
      "2025-07-17T04:38:16.951046+0000 | compress | METRIC - Compressed module size: 8.486912 MB\n",
      "2025-07-17T04:38:16.951953+0000 | compress_modules | INFO - Quantizing model.layers.39.self_attn.k_proj using 512 samples\n",
      "2025-07-17T04:38:17.808140+0000 | compress | METRIC - time 0.86s\n",
      "2025-07-17T04:38:17.809307+0000 | compress | METRIC - error 18900.18\n",
      "2025-07-17T04:38:17.810247+0000 | compress | METRIC - GPU 0 | usage: 25.08% | total memory: 24 GB\n",
      "2025-07-17T04:38:17.810687+0000 | compress | METRIC - Compressed module size: 2.121728 MB\n",
      "2025-07-17T04:38:17.811460+0000 | compress_modules | INFO - Quantizing model.layers.39.self_attn.v_proj using 512 samples\n",
      "2025-07-17T04:38:18.653772+0000 | compress | METRIC - time 0.84s\n",
      "2025-07-17T04:38:18.654980+0000 | compress | METRIC - error 34968.21\n",
      "2025-07-17T04:38:18.655782+0000 | compress | METRIC - GPU 0 | usage: 25.08% | total memory: 24 GB\n",
      "2025-07-17T04:38:18.656347+0000 | compress | METRIC - Compressed module size: 2.121728 MB\n",
      "2025-07-17T04:38:18.657140+0000 | compress_modules | INFO - Quantizing model.layers.39.self_attn.o_proj using 512 samples\n",
      "2025-07-17T04:38:19.505182+0000 | compress | METRIC - time 0.85s\n",
      "2025-07-17T04:38:19.506379+0000 | compress | METRIC - error 6034.73\n",
      "2025-07-17T04:38:19.507178+0000 | compress | METRIC - GPU 0 | usage: 25.08% | total memory: 24 GB\n",
      "2025-07-17T04:38:19.507613+0000 | compress | METRIC - Compressed module size: 8.486912 MB\n",
      "2025-07-17T04:38:19.508393+0000 | compress_modules | INFO - Quantizing model.layers.39.mlp.gate_proj using 512 samples\n",
      "2025-07-17T04:38:20.390032+0000 | compress | METRIC - time 0.88s\n",
      "2025-07-17T04:38:20.391294+0000 | compress | METRIC - error 98006.12\n",
      "2025-07-17T04:38:20.392234+0000 | compress | METRIC - GPU 0 | usage: 25.08% | total memory: 24 GB\n",
      "2025-07-17T04:38:20.392784+0000 | compress | METRIC - Compressed module size: 33.947648 MB\n",
      "2025-07-17T04:38:20.393767+0000 | compress_modules | INFO - Quantizing model.layers.39.mlp.up_proj using 512 samples\n",
      "2025-07-17T04:38:21.274879+0000 | compress | METRIC - time 0.88s\n",
      "2025-07-17T04:38:21.276246+0000 | compress | METRIC - error 420.42\n",
      "2025-07-17T04:38:21.277142+0000 | compress | METRIC - GPU 0 | usage: 25.08% | total memory: 24 GB\n",
      "2025-07-17T04:38:21.277579+0000 | compress | METRIC - Compressed module size: 33.947648 MB\n",
      "2025-07-17T04:38:21.278346+0000 | compress_modules | INFO - Quantizing model.layers.39.mlp.down_proj using 512 samples\n",
      "2025-07-17T04:38:24.939532+0000 | compress | METRIC - time 3.66s\n",
      "2025-07-17T04:38:24.942175+0000 | compress | METRIC - error 240823.75\n",
      "2025-07-17T04:38:24.942994+0000 | compress | METRIC - GPU 0 | usage: 25.08% | total memory: 24 GB\n",
      "2025-07-17T04:38:24.943622+0000 | compress | METRIC - Compressed module size: 33.947648 MB\n"
     ]
    },
    {
     "name": "stderr",
     "output_type": "stream",
     "text": [
      "(40/41): Propagating: 100%|██████████| 512/512 [00:01<00:00, 434.33it/s]\n",
      "(41/41): Calibrating: 100%|██████████| 512/512 [00:01<00:00, 297.54it/s]\n",
      "(41/41): Propagating: 100%|██████████| 512/512 [00:01<00:00, 297.61it/s]\n"
     ]
    },
    {
     "name": "stdout",
     "output_type": "stream",
     "text": [
      "2025-07-17T04:38:29.664843+0000 | finalize | INFO - Compression lifecycle finalized for 1 modifiers\n",
      "2025-07-17T04:38:30.240023+0000 | post_process | WARNING - Optimized model is not saved. To save, please provide`output_dir` as input arg.Ex. `oneshot(..., output_dir=...)`\n"
     ]
    }
   ],
   "source": [
    "oneshot(\n",
    "    model=model,\n",
    "    dataset=ds,\n",
    "    recipe=recipe,\n",
    "    num_calibration_samples=NUM_CALIBRATION_SAMPLES,\n",
    "    max_seq_length=8196,\n",
    ")"
   ]
  },
  {
   "cell_type": "markdown",
   "id": "105eef1b-2db4-4678-b3d5-9ebc33257424",
   "metadata": {},
   "source": [
    "### Save the Compressed Model"
   ]
  },
  {
   "cell_type": "markdown",
   "id": "712c61fb-8493-40d5-b15c-60f18084aaab",
   "metadata": {},
   "source": [
    "**Explanation**\n",
    "\n",
    "- Naming: appends -W4A16 to distinguish the quantized checkpoint.\n",
    "- **save_compressed=True** stores weights in compact safetensors format for deployment via vLLM."
   ]
  },
  {
   "cell_type": "code",
   "execution_count": 29,
   "id": "47f6d53f-8db5-40a1-874f-14d60b007b25",
   "metadata": {},
   "outputs": [
    {
     "name": "stdout",
     "output_type": "stream",
     "text": [
      "2025-07-17T04:41:16.812481+0000 | get_model_compressor | INFO - skip_sparsity_compression_stats set to True. Skipping sparsity compression statistic calculations. No sparsity compressor will be applied.\n"
     ]
    },
    {
     "name": "stderr",
     "output_type": "stream",
     "text": [
      "Compressing model: 527it [00:12, 43.02it/s]\n"
     ]
    },
    {
     "data": {
      "text/plain": [
       "('granite-3.2-2b-instruct-W4A16/tokenizer_config.json',\n",
       " 'granite-3.2-2b-instruct-W4A16/special_tokens_map.json',\n",
       " 'granite-3.2-2b-instruct-W4A16/chat_template.jinja',\n",
       " 'granite-3.2-2b-instruct-W4A16/vocab.json',\n",
       " 'granite-3.2-2b-instruct-W4A16/merges.txt',\n",
       " 'granite-3.2-2b-instruct-W4A16/added_tokens.json',\n",
       " 'granite-3.2-2b-instruct-W4A16/tokenizer.json')"
      ]
     },
     "execution_count": 29,
     "metadata": {},
     "output_type": "execute_result"
    }
   ],
   "source": [
    "# Save to disk compressed.\n",
    "SAVE_DIR = MODEL_ID.split(\"/\")[-1] + \"-W4A16\"\n",
    "model.save_pretrained(SAVE_DIR, save_compressed=True)\n",
    "tokenizer.save_pretrained(SAVE_DIR)"
   ]
  },
  {
   "cell_type": "markdown",
   "id": "7ed216fb-9c28-4bff-8033-b68c744b4cd9",
   "metadata": {},
   "source": [
    "### Evaluate accuracy in vLLM"
   ]
  },
  {
   "cell_type": "markdown",
   "id": "aa02cc91-dfca-4dc1-b150-692e3a309ad3",
   "metadata": {},
   "source": [
    "We can evaluate accuracy with lm_eval"
   ]
  },
  {
   "cell_type": "markdown",
   "id": "737002c6-1512-402f-adfa-965660478ece",
   "metadata": {},
   "source": [
    "##### Check GPU memory leftovers:"
   ]
  },
  {
   "cell_type": "code",
   "execution_count": 1,
   "id": "119cf001-f52b-46a2-a034-1a5ac99d8f38",
   "metadata": {},
   "outputs": [
    {
     "name": "stdout",
     "output_type": "stream",
     "text": [
      "Thu Jul 17 04:42:13 2025       \n",
      "+-----------------------------------------------------------------------------------------+\n",
      "| NVIDIA-SMI 570.148.08             Driver Version: 570.148.08     CUDA Version: 12.8     |\n",
      "|-----------------------------------------+------------------------+----------------------+\n",
      "| GPU  Name                 Persistence-M | Bus-Id          Disp.A | Volatile Uncorr. ECC |\n",
      "| Fan  Temp   Perf          Pwr:Usage/Cap |           Memory-Usage | GPU-Util  Compute M. |\n",
      "|                                         |                        |               MIG M. |\n",
      "|=========================================+========================+======================|\n",
      "|   0  NVIDIA L4                      On  |   00000000:31:00.0 Off |                    0 |\n",
      "| N/A   50C    P8             17W /   72W |       0MiB /  23034MiB |      0%      Default |\n",
      "|                                         |                        |                  N/A |\n",
      "+-----------------------------------------+------------------------+----------------------+\n",
      "                                                                                         \n",
      "+-----------------------------------------------------------------------------------------+\n",
      "| Processes:                                                                              |\n",
      "|  GPU   GI   CI              PID   Type   Process name                        GPU Memory |\n",
      "|        ID   ID                                                               Usage      |\n",
      "|=========================================================================================|\n",
      "|  No running processes found                                                             |\n",
      "+-----------------------------------------------------------------------------------------+\n"
     ]
    }
   ],
   "source": [
    "!nvidia-smi"
   ]
  },
  {
   "cell_type": "markdown",
   "id": "33e2fa79-3e05-4f83-90b7-dd7be66513dc",
   "metadata": {},
   "source": [
    "**IMPORTANT**: After quantizing the model the GPU memory may not be freed (see the above output). You need to **restart the kernel** before evaluating the model to ensure you have enough GPU RAM available."
   ]
  },
  {
   "cell_type": "markdown",
   "id": "e8b5eab2-e7f1-4631-b74f-8e5b44d06dc2",
   "metadata": {},
   "source": [
    "#### Install lm_eval"
   ]
  },
  {
   "cell_type": "code",
   "execution_count": 2,
   "id": "4a8a3ad8-effc-4212-9c5d-ab09d772e73c",
   "metadata": {},
   "outputs": [
    {
     "name": "stdout",
     "output_type": "stream",
     "text": [
      "\n",
      "\u001b[1m[\u001b[0m\u001b[34;49mnotice\u001b[0m\u001b[1;39;49m]\u001b[0m\u001b[39;49m A new release of pip is available: \u001b[0m\u001b[31;49m24.2\u001b[0m\u001b[39;49m -> \u001b[0m\u001b[32;49m25.1.1\u001b[0m\n",
      "\u001b[1m[\u001b[0m\u001b[34;49mnotice\u001b[0m\u001b[1;39;49m]\u001b[0m\u001b[39;49m To update, run: \u001b[0m\u001b[32;49mpip install --upgrade pip\u001b[0m\n"
     ]
    }
   ],
   "source": [
    "!pip install -q lm_eval==v0.4.3"
   ]
  },
  {
   "cell_type": "markdown",
   "id": "7facbbf2-400c-424f-bada-4f224d4f5fd0",
   "metadata": {},
   "source": [
    "#### Install vLLM for evaluation"
   ]
  },
  {
   "cell_type": "markdown",
   "id": "f4d660bb-9435-4d1c-9599-7e9f8f1ca4ff",
   "metadata": {},
   "source": [
    "Run the following to test accuracy on GSM-8K:"
   ]
  },
  {
   "cell_type": "code",
   "execution_count": 3,
   "id": "fe802b4d-14f4-4379-a05d-e91741770c17",
   "metadata": {},
   "outputs": [
    {
     "name": "stdout",
     "output_type": "stream",
     "text": [
      "\u001b[31mERROR: pip's dependency resolver does not currently take into account all the packages that are installed. This behaviour is the source of the following dependency conflicts.\n",
      "llmcompressor 0.6.0 requires numpy<2.0,>=1.17.0, but you have numpy 2.2.6 which is incompatible.\u001b[0m\u001b[31m\n",
      "\u001b[0m\n",
      "\u001b[1m[\u001b[0m\u001b[34;49mnotice\u001b[0m\u001b[1;39;49m]\u001b[0m\u001b[39;49m A new release of pip is available: \u001b[0m\u001b[31;49m24.2\u001b[0m\u001b[39;49m -> \u001b[0m\u001b[32;49m25.1.1\u001b[0m\n",
      "\u001b[1m[\u001b[0m\u001b[34;49mnotice\u001b[0m\u001b[1;39;49m]\u001b[0m\u001b[39;49m To update, run: \u001b[0m\u001b[32;49mpip install --upgrade pip\u001b[0m\n",
      "Note: you may need to restart the kernel to use updated packages.\n"
     ]
    }
   ],
   "source": [
    "pip install -q vllm"
   ]
  },
  {
   "cell_type": "markdown",
   "id": "e9575f87-2dcd-4eb6-b433-9ddd56bde6f4",
   "metadata": {},
   "source": [
    "### Evaluation Command"
   ]
  },
  {
   "cell_type": "markdown",
   "id": "cac46967-6933-4cad-8f11-49bb61a5dd42",
   "metadata": {},
   "source": [
    "- `--model vllm` - Uses vLLM backend for fast, memory-efficient inference on large models \n",
    "- `--model_args` - pretrained=$MODEL_ID: specifies which model to load.\n",
    "- `add_bos_token=true`: ensures a beginning-of-sequence token is added; required for consistent results on math and reasoning tasks \n",
    "- `max_model_len=4096`: sets the context window the model uses for evaluation.\n",
    "- `gpu_memory_utilization=0.5`: limits vLLM to use 50% of GPU memory, allowing to avoid OOM."
   ]
  },
  {
   "cell_type": "code",
   "execution_count": 9,
   "id": "00fd85be-edf1-4736-86eb-fd93c09c146a",
   "metadata": {},
   "outputs": [
    {
     "name": "stdout",
     "output_type": "stream",
     "text": [
      "INFO 07-17 04:50:30 [__init__.py:244] Automatically detected platform cuda.\n",
      "2025-07-17:04:50:32,416 INFO     [__main__.py:272] Verbosity set to INFO\n",
      "2025-07-17:04:50:36,510 WARNING  [__main__.py:312]  --limit SHOULD ONLY BE USED FOR TESTING.REAL METRICS SHOULD NOT BE COMPUTED USING LIMIT.\n",
      "2025-07-17:04:50:36,511 INFO     [__main__.py:357] Passed `--trust_remote_code`, setting environment variable `HF_DATASETS_TRUST_REMOTE_CODE=true`\n",
      "2025-07-17:04:50:36,511 INFO     [__main__.py:369] Selected Tasks: ['gsm8k']\n",
      "2025-07-17:04:50:36,513 INFO     [evaluator.py:152] Setting random seed to 0 | Setting numpy seed to 1234 | Setting torch manual seed to 1234\n",
      "2025-07-17:04:50:36,513 INFO     [evaluator.py:189] Initializing vllm model, with arguments: {'pretrained': '/opt/app-root/src/showroom-summit2025-lb2959-neural-magic/lab-materials/03/granite-3.2-2b-instruct-W4A16', 'add_bos_token': True, 'max_model_len': 4096, 'gpu_memory_utilization': 0.5, 'trust_remote_code': True}\n",
      "INFO 07-17 04:50:43 [config.py:841] This model supports multiple tasks: {'classify', 'reward', 'embed', 'generate'}. Defaulting to 'generate'.\n",
      "INFO 07-17 04:50:43 [config.py:1472] Using max model len 4096\n",
      "INFO 07-17 04:50:43 [config.py:2285] Chunked prefill is enabled with max_num_batched_tokens=8192.\n",
      "INFO 07-17 04:50:44 [core.py:526] Waiting for init message from front-end.\n",
      "INFO 07-17 04:50:44 [core.py:69] Initializing a V1 LLM engine (v0.9.2) with config: model='/opt/app-root/src/showroom-summit2025-lb2959-neural-magic/lab-materials/03/granite-3.2-2b-instruct-W4A16', speculative_config=None, tokenizer='/opt/app-root/src/showroom-summit2025-lb2959-neural-magic/lab-materials/03/granite-3.2-2b-instruct-W4A16', skip_tokenizer_init=False, tokenizer_mode=auto, revision=None, override_neuron_config={}, tokenizer_revision=None, trust_remote_code=True, dtype=torch.bfloat16, max_seq_len=4096, download_dir=None, load_format=LoadFormat.AUTO, tensor_parallel_size=1, pipeline_parallel_size=1, disable_custom_all_reduce=False, quantization=compressed-tensors, enforce_eager=False, kv_cache_dtype=auto,  device_config=cuda, decoding_config=DecodingConfig(backend='auto', disable_fallback=False, disable_any_whitespace=False, disable_additional_properties=False, reasoning_backend=''), observability_config=ObservabilityConfig(show_hidden_metrics_for_version=None, otlp_traces_endpoint=None, collect_detailed_traces=None), seed=1234, served_model_name=/opt/app-root/src/showroom-summit2025-lb2959-neural-magic/lab-materials/03/granite-3.2-2b-instruct-W4A16, num_scheduler_steps=1, multi_step_stream_outputs=True, enable_prefix_caching=True, chunked_prefill_enabled=True, use_async_output_proc=True, pooler_config=None, compilation_config={\"level\":3,\"debug_dump_path\":\"\",\"cache_dir\":\"\",\"backend\":\"\",\"custom_ops\":[],\"splitting_ops\":[\"vllm.unified_attention\",\"vllm.unified_attention_with_output\"],\"use_inductor\":true,\"compile_sizes\":[],\"inductor_compile_config\":{\"enable_auto_functionalized_v2\":false},\"inductor_passes\":{},\"use_cudagraph\":true,\"cudagraph_num_of_warmups\":1,\"cudagraph_capture_sizes\":[512,504,496,488,480,472,464,456,448,440,432,424,416,408,400,392,384,376,368,360,352,344,336,328,320,312,304,296,288,280,272,264,256,248,240,232,224,216,208,200,192,184,176,168,160,152,144,136,128,120,112,104,96,88,80,72,64,56,48,40,32,24,16,8,4,2,1],\"cudagraph_copy_inputs\":false,\"full_cuda_graph\":false,\"max_capture_size\":512,\"local_cache_dir\":null}\n",
      "INFO 07-17 04:50:44 [parallel_state.py:1076] rank 0 in world size 1 is assigned as DP rank 0, PP rank 0, TP rank 0, EP rank 0\n",
      "WARNING 07-17 04:50:44 [topk_topp_sampler.py:59] FlashInfer is not available. Falling back to the PyTorch-native implementation of top-p & top-k sampling. For the best performance, please install FlashInfer.\n",
      "INFO 07-17 04:50:44 [gpu_model_runner.py:1770] Starting to load model /opt/app-root/src/showroom-summit2025-lb2959-neural-magic/lab-materials/03/granite-3.2-2b-instruct-W4A16...\n",
      "INFO 07-17 04:50:45 [gpu_model_runner.py:1775] Loading model from scratch...\n",
      "INFO 07-17 04:50:45 [compressed_tensors_wNa16.py:95] Using MarlinLinearKernel for CompressedTensorsWNA16\n",
      "INFO 07-17 04:50:45 [cuda.py:284] Using Flash Attention backend on V1 engine.\n",
      "Loading safetensors checkpoint shards:   0% Completed | 0/1 [00:00<?, ?it/s]\n",
      "Loading safetensors checkpoint shards: 100% Completed | 1/1 [00:00<00:00,  3.78it/s]\n",
      "Loading safetensors checkpoint shards: 100% Completed | 1/1 [00:00<00:00,  3.78it/s]\n",
      "\n",
      "INFO 07-17 04:50:45 [default_loader.py:272] Loading weights took 0.31 seconds\n",
      "INFO 07-17 04:50:46 [gpu_model_runner.py:1801] Model loading took 1.4034 GiB and 0.581417 seconds\n",
      "INFO 07-17 04:50:58 [backends.py:508] Using cache directory: /opt/app-root/src/.cache/vllm/torch_compile_cache/385037619d/rank_0_0/backbone for vLLM's torch.compile\n",
      "INFO 07-17 04:50:58 [backends.py:519] Dynamo bytecode transform time: 11.66 s\n",
      "INFO 07-17 04:51:01 [backends.py:181] Cache the graph of shape None for later use\n",
      "INFO 07-17 04:51:33 [backends.py:193] Compiling a graph for general shape takes 34.58 s\n",
      "INFO 07-17 04:52:24 [monitor.py:34] torch.compile takes 46.24 s in total\n",
      "INFO 07-17 04:52:26 [gpu_worker.py:232] Available KV cache memory: 9.03 GiB\n",
      "INFO 07-17 04:52:26 [kv_cache_utils.py:716] GPU KV cache size: 118,288 tokens\n",
      "INFO 07-17 04:52:26 [kv_cache_utils.py:720] Maximum concurrency for 4,096 tokens per request: 28.88x\n",
      "Capturing CUDA graph shapes: 100%|██████████████| 67/67 [00:35<00:00,  1.87it/s]\n",
      "INFO 07-17 04:53:02 [gpu_model_runner.py:2326] Graph capturing finished in 36 secs, took 0.64 GiB\n",
      "INFO 07-17 04:53:02 [core.py:172] init engine (profile, create kv cache, warmup model) took 136.22 seconds\n",
      "2025-07-17:04:53:03,933 WARNING  [evaluator.py:251] Overwriting default num_fewshot of gsm8k from 5 to 5\n",
      "2025-07-17:04:53:03,933 INFO     [evaluator.py:261] Setting fewshot random generator seed to 1234\n",
      "2025-07-17:04:53:03,934 INFO     [task.py:411] Building contexts for gsm8k on rank 0...\n",
      "100%|████████████████████████████████████████| 250/250 [00:00<00:00, 338.21it/s]\n",
      "2025-07-17:04:53:04,679 INFO     [evaluator.py:438] Running generate_until requests\n",
      "Running generate_until requests:   0%|                  | 0/250 [00:00<?, ?it/s]\n",
      "Adding requests: 100%|██████████████████████| 250/250 [00:00<00:00, 7301.10it/s]\u001b[A\n",
      "\n",
      "Processed prompts:   0%| | 0/250 [00:00<?, ?it/s, est. speed input: 0.00 toks/s,\u001b[A\n",
      "Processed prompts:   0%| | 1/250 [00:14<1:01:14, 14.76s/it, est. speed input: 89\u001b[A\n",
      "Processed prompts:   1%| | 2/250 [00:15<27:59,  6.77s/it, est. speed input: 191.\u001b[A\n",
      "Processed prompts:   1%| | 3/250 [00:16<16:09,  3.92s/it, est. speed input: 264.\u001b[A\n",
      "Processed prompts:   2%| | 5/250 [00:17<08:13,  2.01s/it, est. speed input: 390.\u001b[A\n",
      "Processed prompts:   2%| | 6/250 [00:18<06:37,  1.63s/it, est. speed input: 452.\u001b[A\n",
      "Processed prompts:   3%| | 7/250 [00:18<05:09,  1.28s/it, est. speed input: 516.\u001b[A\n",
      "Processed prompts:   3%| | 8/250 [00:18<03:58,  1.01it/s, est. speed input: 591.\u001b[A\n",
      "Processed prompts:   4%| | 9/250 [00:19<03:08,  1.28it/s, est. speed input: 647.\u001b[A\n",
      "Processed prompts:   4%| | 10/250 [00:19<02:32,  1.58it/s, est. speed input: 704\u001b[A\n",
      "Processed prompts:   5%| | 12/250 [00:20<01:57,  2.02it/s, est. speed input: 806\u001b[A\n",
      "Processed prompts:   5%| | 13/250 [00:20<01:45,  2.26it/s, est. speed input: 854\u001b[A\n",
      "Processed prompts:   6%| | 14/250 [00:21<01:50,  2.14it/s, est. speed input: 895\u001b[A\n",
      "Processed prompts:   7%| | 17/250 [00:21<01:08,  3.39it/s, est. speed input: 105\u001b[A\n",
      "Processed prompts:   7%| | 18/250 [00:21<01:05,  3.56it/s, est. speed input: 110\u001b[A\n",
      "Processed prompts:   8%| | 19/250 [00:22<01:26,  2.67it/s, est. speed input: 112\u001b[A\n",
      "Processed prompts:   8%| | 20/250 [00:22<01:21,  2.83it/s, est. speed input: 116\u001b[A\n",
      "Processed prompts:   8%| | 21/250 [00:23<01:28,  2.59it/s, est. speed input: 120\u001b[A\n",
      "Processed prompts:   9%| | 22/250 [00:23<01:22,  2.76it/s, est. speed input: 124\u001b[A\n",
      "Processed prompts:  10%| | 26/250 [00:23<00:50,  4.41it/s, est. speed input: 143\u001b[A\n",
      "Processed prompts:  11%| | 27/250 [00:24<00:50,  4.41it/s, est. speed input: 147\u001b[A\n",
      "Processed prompts:  12%| | 29/250 [00:24<00:45,  4.81it/s, est. speed input: 155\u001b[A\n",
      "Processed prompts:  12%| | 30/250 [00:25<01:11,  3.07it/s, est. speed input: 154\u001b[A\n",
      "Processed prompts:  12%| | 31/250 [00:25<01:12,  3.03it/s, est. speed input: 157\u001b[A\n",
      "Processed prompts:  13%|▏| 33/250 [00:26<01:03,  3.40it/s, est. speed input: 164\u001b[A\n",
      "Processed prompts:  14%|▏| 35/250 [00:26<01:03,  3.41it/s, est. speed input: 171\u001b[A\n",
      "Processed prompts:  15%|▏| 37/250 [00:27<01:06,  3.22it/s, est. speed input: 177\u001b[A\n",
      "Processed prompts:  15%|▏| 38/250 [00:27<01:04,  3.28it/s, est. speed input: 180\u001b[A\n",
      "Processed prompts:  16%|▏| 40/250 [00:28<00:51,  4.04it/s, est. speed input: 188\u001b[A\n",
      "Processed prompts:  16%|▏| 41/250 [00:28<00:50,  4.13it/s, est. speed input: 191\u001b[A\n",
      "Processed prompts:  17%|▏| 42/250 [00:28<00:49,  4.20it/s, est. speed input: 194\u001b[A\n",
      "Processed prompts:  17%|▏| 43/250 [00:28<01:00,  3.40it/s, est. speed input: 195\u001b[A\n",
      "Processed prompts:  18%|▏| 44/250 [00:29<01:16,  2.69it/s, est. speed input: 195\u001b[A\n",
      "Processed prompts:  18%|▏| 45/250 [00:29<01:12,  2.83it/s, est. speed input: 197\u001b[A\n",
      "Processed prompts:  18%|▏| 46/250 [00:30<01:08,  2.99it/s, est. speed input: 200\u001b[A\n",
      "Processed prompts:  20%|▏| 49/250 [00:30<00:54,  3.69it/s, est. speed input: 207\u001b[A\n",
      "Processed prompts:  20%|▏| 50/250 [00:31<00:57,  3.50it/s, est. speed input: 209\u001b[A\n",
      "Processed prompts:  20%|▏| 51/250 [00:31<01:02,  3.19it/s, est. speed input: 210\u001b[A\n",
      "Processed prompts:  21%|▏| 53/250 [00:32<00:57,  3.45it/s, est. speed input: 215\u001b[A\n",
      "Processed prompts:  22%|▏| 55/250 [00:32<01:08,  2.84it/s, est. speed input: 217\u001b[A\n",
      "Processed prompts:  22%|▏| 56/250 [00:33<01:04,  3.02it/s, est. speed input: 219\u001b[A\n",
      "Processed prompts:  23%|▏| 57/250 [00:33<00:58,  3.28it/s, est. speed input: 221\u001b[A\n",
      "Processed prompts:  23%|▏| 58/250 [00:33<00:57,  3.34it/s, est. speed input: 223\u001b[A\n",
      "Processed prompts:  24%|▏| 59/250 [00:34<00:59,  3.22it/s, est. speed input: 225\u001b[A\n",
      "Processed prompts:  24%|▏| 60/250 [00:34<00:54,  3.51it/s, est. speed input: 227\u001b[A\n",
      "Processed prompts:  24%|▏| 61/250 [00:34<01:03,  3.00it/s, est. speed input: 227\u001b[A\n",
      "Processed prompts:  25%|▎| 63/250 [00:34<00:44,  4.20it/s, est. speed input: 234\u001b[A\n",
      "Processed prompts:  26%|▎| 65/250 [00:35<00:46,  3.97it/s, est. speed input: 237\u001b[A\n",
      "Processed prompts:  27%|▎| 67/250 [00:36<00:53,  3.42it/s, est. speed input: 240\u001b[A\n",
      "Processed prompts:  28%|▎| 69/250 [00:36<00:54,  3.31it/s, est. speed input: 242\u001b[A\n",
      "Processed prompts:  28%|▎| 70/250 [00:37<01:02,  2.89it/s, est. speed input: 242\u001b[A\n",
      "Processed prompts:  29%|▎| 72/250 [00:37<00:57,  3.07it/s, est. speed input: 245\u001b[A\n",
      "Processed prompts:  30%|▎| 75/250 [00:38<00:40,  4.29it/s, est. speed input: 252\u001b[A\n",
      "Processed prompts:  30%|▎| 76/250 [00:38<00:46,  3.72it/s, est. speed input: 253\u001b[A\n",
      "Processed prompts:  31%|▎| 77/250 [00:39<00:47,  3.66it/s, est. speed input: 254\u001b[A\n",
      "Processed prompts:  31%|▎| 78/250 [00:39<00:49,  3.46it/s, est. speed input: 255\u001b[A\n",
      "Processed prompts:  32%|▎| 80/250 [00:39<00:46,  3.67it/s, est. speed input: 257\u001b[A\n",
      "Processed prompts:  33%|▎| 82/250 [00:40<00:47,  3.54it/s, est. speed input: 259\u001b[A\n",
      "Processed prompts:  33%|▎| 83/250 [00:41<00:58,  2.87it/s, est. speed input: 259\u001b[A\n",
      "Processed prompts:  34%|▎| 85/250 [00:41<00:52,  3.12it/s, est. speed input: 261\u001b[A\n",
      "Processed prompts:  35%|▎| 87/250 [00:42<00:47,  3.45it/s, est. speed input: 263\u001b[A\n",
      "Processed prompts:  36%|▎| 89/250 [00:42<00:36,  4.37it/s, est. speed input: 267\u001b[A\n",
      "Processed prompts:  36%|▎| 90/250 [00:42<00:36,  4.42it/s, est. speed input: 269\u001b[A\n",
      "Processed prompts:  36%|▎| 91/250 [00:42<00:35,  4.47it/s, est. speed input: 270\u001b[A\n",
      "Processed prompts:  37%|▎| 92/250 [00:43<00:42,  3.70it/s, est. speed input: 270\u001b[A\n",
      "Processed prompts:  37%|▎| 93/250 [00:43<00:47,  3.30it/s, est. speed input: 271\u001b[A\n",
      "Processed prompts:  38%|▍| 96/250 [00:44<00:43,  3.51it/s, est. speed input: 275\u001b[A\n",
      "Processed prompts:  39%|▍| 98/250 [00:44<00:39,  3.84it/s, est. speed input: 278\u001b[A\n",
      "Processed prompts:  40%|▍| 99/250 [00:45<00:37,  3.98it/s, est. speed input: 280\u001b[A\n",
      "Processed prompts:  41%|▍| 102/250 [00:45<00:34,  4.27it/s, est. speed input: 28\u001b[A\n",
      "Processed prompts:  42%|▍| 104/250 [00:46<00:33,  4.42it/s, est. speed input: 28\u001b[A\n",
      "Processed prompts:  42%|▍| 105/250 [00:46<00:34,  4.16it/s, est. speed input: 28\u001b[A\n",
      "Processed prompts:  42%|▍| 106/250 [00:46<00:33,  4.28it/s, est. speed input: 29\u001b[A\n",
      "Processed prompts:  43%|▍| 107/250 [00:46<00:35,  4.01it/s, est. speed input: 29\u001b[A\n",
      "Processed prompts:  44%|▍| 109/250 [00:47<00:27,  5.19it/s, est. speed input: 29\u001b[A\n",
      "Processed prompts:  44%|▍| 110/250 [00:47<00:35,  3.94it/s, est. speed input: 29\u001b[A\n",
      "Processed prompts:  45%|▍| 112/250 [00:47<00:27,  5.11it/s, est. speed input: 29\u001b[A\n",
      "Processed prompts:  45%|▍| 113/250 [00:48<00:32,  4.16it/s, est. speed input: 29\u001b[A\n",
      "Processed prompts:  46%|▍| 116/250 [00:48<00:24,  5.44it/s, est. speed input: 30\u001b[A\n",
      "Processed prompts:  47%|▍| 118/250 [00:49<00:38,  3.44it/s, est. speed input: 30\u001b[A\n",
      "Processed prompts:  48%|▍| 121/250 [00:50<00:33,  3.90it/s, est. speed input: 30\u001b[A\n",
      "Processed prompts:  49%|▍| 122/250 [00:50<00:34,  3.72it/s, est. speed input: 30\u001b[A\n",
      "Processed prompts:  49%|▍| 123/250 [00:50<00:34,  3.73it/s, est. speed input: 30\u001b[A\n",
      "Processed prompts:  50%|▍| 124/250 [00:51<00:35,  3.54it/s, est. speed input: 30\u001b[A\n",
      "Processed prompts:  50%|▌| 126/250 [00:51<00:28,  4.41it/s, est. speed input: 30\u001b[A\n",
      "Processed prompts:  51%|▌| 127/250 [00:51<00:36,  3.36it/s, est. speed input: 30\u001b[A\n",
      "Processed prompts:  51%|▌| 128/250 [00:52<00:35,  3.44it/s, est. speed input: 30\u001b[A\n",
      "Processed prompts:  52%|▌| 130/250 [00:52<00:32,  3.73it/s, est. speed input: 30\u001b[A\n",
      "Processed prompts:  53%|▌| 132/250 [00:53<00:26,  4.48it/s, est. speed input: 31\u001b[A\n",
      "Processed prompts:  53%|▌| 133/250 [00:53<00:31,  3.66it/s, est. speed input: 31\u001b[A\n",
      "Processed prompts:  54%|▌| 134/250 [00:53<00:31,  3.70it/s, est. speed input: 31\u001b[A\n",
      "Processed prompts:  54%|▌| 136/250 [00:54<00:30,  3.68it/s, est. speed input: 31\u001b[A\n",
      "Processed prompts:  55%|▌| 137/250 [00:54<00:35,  3.21it/s, est. speed input: 31\u001b[A\n",
      "Processed prompts:  56%|▌| 139/250 [00:54<00:25,  4.37it/s, est. speed input: 31\u001b[A\n",
      "Processed prompts:  56%|▌| 140/250 [00:55<00:24,  4.51it/s, est. speed input: 31\u001b[A\n",
      "Processed prompts:  57%|▌| 142/250 [00:55<00:28,  3.81it/s, est. speed input: 31\u001b[A\n",
      "Processed prompts:  57%|▌| 143/250 [00:55<00:24,  4.28it/s, est. speed input: 31\u001b[A\n",
      "Processed prompts:  58%|▌| 145/250 [00:56<00:17,  5.92it/s, est. speed input: 31\u001b[A\n",
      "Processed prompts:  59%|▌| 147/250 [00:56<00:14,  7.01it/s, est. speed input: 32\u001b[A\n",
      "Processed prompts:  60%|▌| 150/250 [00:56<00:10,  9.26it/s, est. speed input: 32\u001b[A\n",
      "Processed prompts:  61%|▌| 152/250 [00:56<00:12,  7.72it/s, est. speed input: 32\u001b[A\n",
      "Processed prompts:  62%|▌| 154/250 [00:56<00:11,  8.49it/s, est. speed input: 33\u001b[A\n",
      "Processed prompts:  64%|▋| 159/250 [00:57<00:06, 14.38it/s, est. speed input: 33\u001b[A\n",
      "Processed prompts:  65%|▋| 162/250 [00:57<00:05, 16.77it/s, est. speed input: 34\u001b[A\n",
      "Processed prompts:  66%|▋| 165/250 [00:57<00:04, 17.28it/s, est. speed input: 34\u001b[A\n",
      "Processed prompts:  67%|▋| 168/250 [00:57<00:05, 14.87it/s, est. speed input: 35\u001b[A\n",
      "Processed prompts:  68%|▋| 170/250 [00:57<00:05, 14.39it/s, est. speed input: 35\u001b[A\n",
      "Processed prompts:  69%|▋| 173/250 [00:58<00:05, 13.57it/s, est. speed input: 35\u001b[A\n",
      "Processed prompts:  70%|▋| 175/250 [00:58<00:05, 12.64it/s, est. speed input: 36\u001b[A\n",
      "Processed prompts:  71%|▋| 177/250 [00:58<00:06, 11.23it/s, est. speed input: 36\u001b[A\n",
      "Processed prompts:  72%|▋| 180/250 [00:58<00:06, 11.10it/s, est. speed input: 36\u001b[A\n",
      "Processed prompts:  73%|▋| 183/250 [00:58<00:05, 13.33it/s, est. speed input: 37\u001b[A\n",
      "Processed prompts:  74%|▋| 185/250 [00:59<00:05, 12.84it/s, est. speed input: 37\u001b[A\n",
      "Processed prompts:  75%|▋| 187/250 [00:59<00:04, 13.55it/s, est. speed input: 37\u001b[A\n",
      "Processed prompts:  76%|▊| 189/250 [00:59<00:04, 14.25it/s, est. speed input: 37\u001b[A\n",
      "Processed prompts:  77%|▊| 193/250 [00:59<00:02, 19.06it/s, est. speed input: 38\u001b[A\n",
      "Processed prompts:  78%|▊| 196/250 [00:59<00:02, 20.89it/s, est. speed input: 38\u001b[A\n",
      "Processed prompts:  80%|▊| 199/250 [00:59<00:02, 19.26it/s, est. speed input: 39\u001b[A\n",
      "Processed prompts:  81%|▊| 202/250 [00:59<00:02, 18.54it/s, est. speed input: 39\u001b[A\n",
      "Processed prompts:  82%|▊| 206/250 [01:00<00:02, 20.37it/s, est. speed input: 40\u001b[A\n",
      "Processed prompts:  84%|▊| 211/250 [01:00<00:01, 23.98it/s, est. speed input: 40\u001b[A\n",
      "Processed prompts:  86%|▊| 214/250 [01:00<00:01, 18.03it/s, est. speed input: 41\u001b[A\n",
      "Processed prompts:  87%|▊| 217/250 [01:00<00:01, 18.85it/s, est. speed input: 41\u001b[A\n",
      "Processed prompts:  88%|▉| 220/250 [01:00<00:01, 20.92it/s, est. speed input: 41\u001b[A\n",
      "Processed prompts:  89%|▉| 223/250 [01:00<00:01, 19.91it/s, est. speed input: 42\u001b[A\n",
      "Processed prompts:  91%|▉| 227/250 [01:01<00:01, 20.66it/s, est. speed input: 42\u001b[A\n",
      "Processed prompts:  92%|▉| 230/250 [01:01<00:00, 22.28it/s, est. speed input: 43\u001b[A\n",
      "Processed prompts:  93%|▉| 233/250 [01:01<00:00, 19.13it/s, est. speed input: 43\u001b[A\n",
      "Processed prompts:  94%|▉| 236/250 [01:01<00:00, 17.36it/s, est. speed input: 43\u001b[A\n",
      "Processed prompts:  96%|▉| 240/250 [01:01<00:00, 19.79it/s, est. speed input: 44\u001b[A\n",
      "Processed prompts:  98%|▉| 244/250 [01:02<00:00, 17.27it/s, est. speed input: 44\u001b[A\n",
      "Processed prompts:  99%|▉| 247/250 [01:02<00:00, 19.32it/s, est. speed input: 44\u001b[A\n",
      "Processed prompts: 100%|█| 250/250 [01:02<00:00, 12.59it/s, est. speed input: 45\u001b[A\n",
      "Processed prompts: 100%|█| 250/250 [01:02<00:00,  3.99it/s, est. speed input: 45\u001b[A\n",
      "Running generate_until requests: 100%|████████| 250/250 [01:02<00:00,  3.99it/s]\n",
      "2025-07-17:04:54:08,776 INFO     [evaluation_tracker.py:240] Output path not provided, skipping saving results aggregated\n",
      "vllm (pretrained=/opt/app-root/src/showroom-summit2025-lb2959-neural-magic/lab-materials/03/granite-3.2-2b-instruct-W4A16,add_bos_token=true,max_model_len=4096,gpu_memory_utilization=0.5,trust_remote_code=True), gen_kwargs: (None), limit: 250.0, num_fewshot: 5, batch_size: auto\n",
      "|Tasks|Version|     Filter     |n-shot|  Metric   |   |Value|   |Stderr|\n",
      "|-----|------:|----------------|-----:|-----------|---|----:|---|-----:|\n",
      "|gsm8k|      3|flexible-extract|     5|exact_match|↑  |0.620|±  |0.0308|\n",
      "|     |       |strict-match    |     5|exact_match|↑  |0.544|±  |0.0316|\n",
      "\n"
     ]
    }
   ],
   "source": [
    "import os\n",
    "\n",
    "current_dir = os.getcwd()\n",
    "\n",
    "MODEL_ID = current_dir + \"/granite-3.2-2b-instruct-W4A16\"\n",
    "\n",
    "!lm_eval --model vllm \\\n",
    "  --model_args \"pretrained=$MODEL_ID,add_bos_token=true,max_model_len=4096,gpu_memory_utilization=0.5\" \\\n",
    "  --trust_remote_code \\\n",
    "  --tasks gsm8k \\\n",
    "  --num_fewshot 5 \\\n",
    "  --limit 250 \\\n",
    "  --batch_size 'auto'"
   ]
  },
  {
   "cell_type": "markdown",
   "id": "5b570baf-46e1-46e9-b970-c3f156814a69",
   "metadata": {},
   "source": [
    "With powerful GPU(s), you could also run the vLLM based evals with the following - using higher GPU memory utilization and chunked prefill. \n",
    "```bash\n",
    "!lm_eval \\\n",
    "  --model vllm \\\n",
    "  --model_args pretrained=$SAVE_DIR,dtype=auto,add_bos_token=True,max_model_len=4096,tensor_parallel_size=1,gpu_memory_utilization=0.8,enable_chunked_prefill=True \\\n",
    "  --trust_remote_code \\\n",
    "  --tasks openllm \\\n",
    "  --write_out \\\n",
    "  --batch_size auto \\\n",
    "  --output_path output_dir \\\n",
    "  --show_config\n",
    "```"
   ]
  },
  {
   "cell_type": "markdown",
   "id": "e2aa2928-327f-4e81-90be-82623d3bd8a7",
   "metadata": {},
   "source": [
    "**Next Steps**: \n",
    "- How would you futher improve the accuacy of the model?\n",
    "- How would you go about preparing the right data set for a different use case?"
   ]
  },
  {
   "cell_type": "markdown",
   "id": "fb1a1582",
   "metadata": {},
   "source": [
    "### Upload Optimized Model to MinIO"
   ]
  },
  {
   "cell_type": "code",
   "execution_count": 2,
   "id": "ceb1e422-0ea3-41df-97cd-36cbcf4e5520",
   "metadata": {},
   "outputs": [
    {
     "name": "stdout",
     "output_type": "stream",
     "text": [
      "Starting results upload.\n",
      "Uploading predictions to bucket models to S3 storage at http://minio-service.minio.svc.cluster.local:9000\n",
      "Uploaded /opt/app-root/src/showroom-summit2025-lb2959-neural-magic/lab-materials/03/granite-3.2-2b-instruct-W4A16/merges.txt\n",
      "Uploaded /opt/app-root/src/showroom-summit2025-lb2959-neural-magic/lab-materials/03/granite-3.2-2b-instruct-W4A16/model.safetensors\n",
      "Uploaded /opt/app-root/src/showroom-summit2025-lb2959-neural-magic/lab-materials/03/granite-3.2-2b-instruct-W4A16/added_tokens.json\n",
      "Uploaded /opt/app-root/src/showroom-summit2025-lb2959-neural-magic/lab-materials/03/granite-3.2-2b-instruct-W4A16/tokenizer_config.json\n",
      "Uploaded /opt/app-root/src/showroom-summit2025-lb2959-neural-magic/lab-materials/03/granite-3.2-2b-instruct-W4A16/chat_template.jinja\n",
      "Uploaded /opt/app-root/src/showroom-summit2025-lb2959-neural-magic/lab-materials/03/granite-3.2-2b-instruct-W4A16/config.json\n",
      "Uploaded /opt/app-root/src/showroom-summit2025-lb2959-neural-magic/lab-materials/03/granite-3.2-2b-instruct-W4A16/special_tokens_map.json\n",
      "Uploaded /opt/app-root/src/showroom-summit2025-lb2959-neural-magic/lab-materials/03/granite-3.2-2b-instruct-W4A16/vocab.json\n",
      "Uploaded /opt/app-root/src/showroom-summit2025-lb2959-neural-magic/lab-materials/03/granite-3.2-2b-instruct-W4A16/recipe.yaml\n",
      "Uploaded /opt/app-root/src/showroom-summit2025-lb2959-neural-magic/lab-materials/03/granite-3.2-2b-instruct-W4A16/generation_config.json\n",
      "Uploaded /opt/app-root/src/showroom-summit2025-lb2959-neural-magic/lab-materials/03/granite-3.2-2b-instruct-W4A16/tokenizer.json\n",
      "Finished uploading results.\n"
     ]
    }
   ],
   "source": [
    "import os\n",
    "from boto3 import client\n",
    "\n",
    "current_dir = os.getcwd()\n",
    "OPTIMIZED_MODEL_DIR = current_dir + \"/granite-3.2-2b-instruct-W4A16\"\n",
    "S3_PATH = \"granite-int4-notebook\"\n",
    "\n",
    "print('Starting upload of quantizied model')\n",
    "s3_endpoint_url = os.environ[\"AWS_S3_ENDPOINT\"]\n",
    "s3_access_key = os.environ[\"AWS_ACCESS_KEY_ID\"]\n",
    "s3_secret_key = os.environ[\"AWS_SECRET_ACCESS_KEY\"]\n",
    "s3_bucket_name = os.environ[\"AWS_S3_BUCKET\"]\n",
    "\n",
    "print(f'Uploading predictions to bucket {s3_bucket_name} '\n",
    "        f'to S3 storage at {s3_endpoint_url}')\n",
    "\n",
    "s3_client = client(\n",
    "    's3', endpoint_url=s3_endpoint_url, aws_access_key_id=s3_access_key,\n",
    "    aws_secret_access_key=s3_secret_key, verify=False\n",
    ")\n",
    "\n",
    "# Walk through the local folder and upload files\n",
    "for root, dirs, files in os.walk(OPTIMIZED_MODEL_DIR):\n",
    "    for file in files:\n",
    "        local_file_path = os.path.join(root, file)\n",
    "        s3_file_path = os.path.join(S3_PATH, local_file_path[len(OPTIMIZED_MODEL_DIR)+1:])\n",
    "        s3_client.upload_file(local_file_path, s3_bucket_name, s3_file_path)\n",
    "        print(f'Uploaded {local_file_path}')\n",
    "\n",
    "print('Finished uploading of quantizied model')"
   ]
  },
  {
   "cell_type": "code",
   "execution_count": null,
   "id": "5821fd9d-56a6-4077-89d9-4ef3d560465d",
   "metadata": {},
   "outputs": [],
   "source": []
  }
 ],
 "metadata": {
  "kernelspec": {
   "display_name": "Python 3.11",
   "language": "python",
   "name": "python3"
  },
  "language_info": {
   "codemirror_mode": {
    "name": "ipython",
    "version": 3
   },
   "file_extension": ".py",
   "mimetype": "text/x-python",
   "name": "python",
   "nbconvert_exporter": "python",
   "pygments_lexer": "ipython3",
   "version": "3.11.9"
  }
 },
 "nbformat": 4,
 "nbformat_minor": 5
}
